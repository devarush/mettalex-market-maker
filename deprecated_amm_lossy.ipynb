{
 "cells": [
  {
   "cell_type": "code",
   "execution_count": 1,
   "metadata": {},
   "outputs": [],
   "source": [
    "import sympy as sp\n",
    "import tensorflow as tf\n",
    "import pandas as pd\n",
    "import matplotlib.pyplot as plt\n",
    "import seaborn as sns\n",
    "import pandas as pd"
   ]
  },
  {
   "cell_type": "code",
   "execution_count": 2,
   "metadata": {},
   "outputs": [],
   "source": [
    "from functools import reduce\n",
    "from random import choice, random"
   ]
  },
  {
   "cell_type": "code",
   "execution_count": 3,
   "metadata": {},
   "outputs": [],
   "source": [
    "%matplotlib inline"
   ]
  },
  {
   "cell_type": "markdown",
   "metadata": {},
   "source": [
    "# Autonomous Market Maker\n",
    "State of market maker consists of:\n",
    "* `c` coin tokens for exchange\n",
    "* `s` short tokens for exchange\n",
    "* `l` long tokens in balance\n",
    "* `c_r` coin tokens in reserve\n",
    "* `s_r`, `l_r` short and long tokens in reserve (equal quantities) (ignore for now - this is just an optimization to reduce minting costs)\n",
    "* `p` pool token debt"
   ]
  },
  {
   "cell_type": "code",
   "execution_count": 4,
   "metadata": {},
   "outputs": [],
   "source": [
    "def solve_add_liquidity():\n",
    "    c, cd, s, sd, cn, t = sp.symbols('c c^\\prime s s^\\prime c_n t')\n",
    "    return sp.solve(\n",
    "        [\n",
    "            sp.Eq(t*(s + sd), c + cd), \n",
    "            cn - cd - sd \n",
    "        ], \n",
    "        [cd, sd]\n",
    "    )[cd]"
   ]
  },
  {
   "cell_type": "code",
   "execution_count": 5,
   "metadata": {},
   "outputs": [
    {
     "data": {
      "text/latex": [
       "$\\displaystyle \\frac{- c + c_{n} t + s t}{t + 1}$"
      ],
      "text/plain": [
       "(-c + c_n*t + s*t)/(t + 1)"
      ]
     },
     "execution_count": 5,
     "metadata": {},
     "output_type": "execute_result"
    }
   ],
   "source": [
    "solve_add_liquidity()"
   ]
  },
  {
   "cell_type": "code",
   "execution_count": 6,
   "metadata": {},
   "outputs": [],
   "source": [
    "def rebalance(state, c_new=0., target=None):\n",
    "    c, s, l, c_r, p = state\n",
    "    p += c_new\n",
    "    # Split supplied liquidity between c, s (and same l) to achieve target s:c ratio\n",
    "    # i.e. (s + s')*target = (c + c'), w/ c_new = c' + s'\n",
    "    # i.e. (s + c_new - c')*target = (c + c')\n",
    "    # i.e. c' = (s*target + c_new*target - c) / (1 + target)\n",
    "    if target is None:\n",
    "        target = c / s\n",
    "    c_d = (s*target + c_new*target - c) / (1 + target)\n",
    "    c += c_d\n",
    "    l += c_new - c_d\n",
    "    s += c_new - c_d\n",
    "    state = [c, s, l, c_r,  p]\n",
    "    return state"
   ]
  },
  {
   "cell_type": "code",
   "execution_count": 7,
   "metadata": {},
   "outputs": [
    {
     "data": {
      "text/plain": [
       "[0.3333333333333333, 0.6666666666666667, 0.6666666666666667, 0.0, 1.0]"
      ]
     },
     "execution_count": 7,
     "metadata": {},
     "output_type": "execute_result"
    }
   ],
   "source": [
    "s0 = [0., 0., 0., 0.,  0.]\n",
    "s1 = rebalance(s0, 1, 0.5)\n",
    "s1"
   ]
  },
  {
   "cell_type": "code",
   "execution_count": 8,
   "metadata": {},
   "outputs": [
    {
     "data": {
      "text/plain": [
       "[0.6666666666666666, 1.3333333333333335, 1.3333333333333335, 0.0, 2.0]"
      ]
     },
     "execution_count": 8,
     "metadata": {},
     "output_type": "execute_result"
    }
   ],
   "source": [
    "rebalance(s1, 1)"
   ]
  },
  {
   "cell_type": "code",
   "execution_count": 9,
   "metadata": {},
   "outputs": [],
   "source": [
    "def solve_buy():\n",
    "    c, s, ds, dc = sp.symbols('c s Delta_s Delta_c')\n",
    "    # Uniswap style constant product AMM\n",
    "    invariant = c * s - (c + dc)*(s - ds)\n",
    "    return sp.solve(invariant, ds)[0]"
   ]
  },
  {
   "cell_type": "code",
   "execution_count": 10,
   "metadata": {},
   "outputs": [
    {
     "data": {
      "text/latex": [
       "$\\displaystyle \\frac{\\Delta_{c} s}{\\Delta_{c} + c}$"
      ],
      "text/plain": [
       "Delta_c*s/(Delta_c + c)"
      ]
     },
     "execution_count": 10,
     "metadata": {},
     "output_type": "execute_result"
    }
   ],
   "source": [
    "solve_buy()"
   ]
  },
  {
   "cell_type": "code",
   "execution_count": 11,
   "metadata": {},
   "outputs": [],
   "source": [
    "def buy(state, dc):\n",
    "    \"\"\"Buy a short token from AMM\n",
    "    \"\"\"\n",
    "    c, s, l, c_r, p = state\n",
    "    ds = dc*s/(c + dc)\n",
    "    c += dc\n",
    "    s -= ds\n",
    "    state = [c, s, l, c_r,  p]\n",
    "    return state"
   ]
  },
  {
   "cell_type": "code",
   "execution_count": 12,
   "metadata": {},
   "outputs": [],
   "source": [
    "# sell(buy(s1, 0.25), 1)"
   ]
  },
  {
   "cell_type": "code",
   "execution_count": 13,
   "metadata": {},
   "outputs": [],
   "source": [
    "def solve_sell():\n",
    "    c, s, dc, ds = sp.symbols('c s Delta_c Delta_s')\n",
    "    # Uniswap style constant product AMM\n",
    "    invariant = c * s - (c - dc)*(s + ds)\n",
    "    return sp.solve(invariant, dc)[0]"
   ]
  },
  {
   "cell_type": "code",
   "execution_count": 14,
   "metadata": {},
   "outputs": [
    {
     "data": {
      "text/latex": [
       "$\\displaystyle \\frac{\\Delta_{s} c}{\\Delta_{s} + s}$"
      ],
      "text/plain": [
       "Delta_s*c/(Delta_s + s)"
      ]
     },
     "execution_count": 14,
     "metadata": {},
     "output_type": "execute_result"
    }
   ],
   "source": [
    "solve_sell()"
   ]
  },
  {
   "cell_type": "code",
   "execution_count": 15,
   "metadata": {},
   "outputs": [],
   "source": [
    "def sell(state, ds):\n",
    "    \"\"\"Sell a short token to AMM\n",
    "    \"\"\"\n",
    "    c, s, l, c_r, p = state\n",
    "    dc = ds*c/(s + ds)\n",
    "    c -= dc\n",
    "    s += ds\n",
    "    state = [c, s, l, c_r,  p]\n",
    "    return state"
   ]
  },
  {
   "cell_type": "code",
   "execution_count": 16,
   "metadata": {},
   "outputs": [],
   "source": [
    "def balance(state):\n",
    "    c, s, l, c_r, p = state\n",
    "    return c + min(s, l)"
   ]
  },
  {
   "cell_type": "code",
   "execution_count": 17,
   "metadata": {},
   "outputs": [],
   "source": [
    "def price(state):\n",
    "    c, s, l, c_r, p = state\n",
    "    return c/s"
   ]
  },
  {
   "cell_type": "code",
   "execution_count": 18,
   "metadata": {},
   "outputs": [],
   "source": [
    "def invariant(state):\n",
    "    c, s, l, c_r, p = state\n",
    "    return c*s"
   ]
  },
  {
   "cell_type": "code",
   "execution_count": 19,
   "metadata": {},
   "outputs": [
    {
     "data": {
      "text/plain": [
       "0.9642857142857142"
      ]
     },
     "execution_count": 19,
     "metadata": {},
     "output_type": "execute_result"
    }
   ],
   "source": [
    "balance(buy(s1, 0.25))"
   ]
  },
  {
   "cell_type": "code",
   "execution_count": 20,
   "metadata": {},
   "outputs": [
    {
     "data": {
      "text/plain": [
       "[0.3214285714285714, 0.6428571428571428, 0.9285714285714286, 0.0, 1.0]"
      ]
     },
     "execution_count": 20,
     "metadata": {},
     "output_type": "execute_result"
    }
   ],
   "source": [
    "rebalance(buy(s1, 0.25), 0., 0.5)"
   ]
  },
  {
   "cell_type": "code",
   "execution_count": 21,
   "metadata": {},
   "outputs": [
    {
     "data": {
      "text/plain": [
       "0.9642857142857142"
      ]
     },
     "execution_count": 21,
     "metadata": {},
     "output_type": "execute_result"
    }
   ],
   "source": [
    "balance(rebalance(buy(s1, 0.25), 0., 0.5))"
   ]
  },
  {
   "cell_type": "code",
   "execution_count": 22,
   "metadata": {},
   "outputs": [
    {
     "data": {
      "text/plain": [
       "0.5"
      ]
     },
     "execution_count": 22,
     "metadata": {},
     "output_type": "execute_result"
    }
   ],
   "source": [
    "price(rebalance(buy(s1, 0.1), 0., 0.5))"
   ]
  },
  {
   "cell_type": "code",
   "execution_count": 23,
   "metadata": {},
   "outputs": [
    {
     "data": {
      "text/plain": [
       "[0.4736842105263158, 0.5263157894736842, 0.5263157894736842, 0.0, 1.0]"
      ]
     },
     "execution_count": 23,
     "metadata": {},
     "output_type": "execute_result"
    }
   ],
   "source": [
    "rebalance(s1, 0., 0.9)"
   ]
  },
  {
   "cell_type": "code",
   "execution_count": 24,
   "metadata": {},
   "outputs": [],
   "source": [
    "c, s, l, c_r, p, t, ds, dc = sp.symbols('c s l c_r p t \\Delta_s \\Delta_c')"
   ]
  },
  {
   "cell_type": "code",
   "execution_count": 25,
   "metadata": {},
   "outputs": [],
   "source": [
    "# General state\n",
    "s_g = [c, s, l, c_r, p] "
   ]
  },
  {
   "cell_type": "code",
   "execution_count": 26,
   "metadata": {},
   "outputs": [
    {
     "data": {
      "text/latex": [
       "$\\displaystyle c + \\frac{\\Delta_c t - c + s t}{t + 1}$"
      ],
      "text/plain": [
       "c + (\\Delta_c*t - c + s*t)/(t + 1)"
      ]
     },
     "execution_count": 26,
     "metadata": {},
     "output_type": "execute_result"
    }
   ],
   "source": [
    "rebalance(s_g, dc, t)[0]"
   ]
  },
  {
   "cell_type": "markdown",
   "metadata": {},
   "source": [
    "Quantity of STK bought for $\\Delta_c$ CTK"
   ]
  },
  {
   "cell_type": "code",
   "execution_count": 27,
   "metadata": {},
   "outputs": [
    {
     "data": {
      "text/latex": [
       "$\\displaystyle \\frac{\\Delta_c s}{\\Delta_c + c}$"
      ],
      "text/plain": [
       "\\Delta_c*s/(\\Delta_c + c)"
      ]
     },
     "execution_count": 27,
     "metadata": {},
     "output_type": "execute_result"
    }
   ],
   "source": [
    "(s - buy(s_g, dc)[1]).simplify()"
   ]
  },
  {
   "cell_type": "code",
   "execution_count": 28,
   "metadata": {},
   "outputs": [
    {
     "data": {
      "text/plain": [
       "[0.3333333333333333, 0.6666666666666667, 0.6666666666666667, 0.0, 1.0]"
      ]
     },
     "execution_count": 28,
     "metadata": {},
     "output_type": "execute_result"
    }
   ],
   "source": [
    "s1"
   ]
  },
  {
   "cell_type": "code",
   "execution_count": 29,
   "metadata": {},
   "outputs": [
    {
     "data": {
      "text/plain": [
       "0.22222222222222224"
      ]
     },
     "execution_count": 29,
     "metadata": {},
     "output_type": "execute_result"
    }
   ],
   "source": [
    "invariant(s1)"
   ]
  },
  {
   "cell_type": "code",
   "execution_count": 30,
   "metadata": {},
   "outputs": [
    {
     "data": {
      "text/plain": [
       "0.25"
      ]
     },
     "execution_count": 30,
     "metadata": {},
     "output_type": "execute_result"
    }
   ],
   "source": [
    "invariant(rebalance(s1, 0, 1))"
   ]
  },
  {
   "cell_type": "code",
   "execution_count": 31,
   "metadata": {},
   "outputs": [
    {
     "data": {
      "text/plain": [
       "0.0826446280991736"
      ]
     },
     "execution_count": 31,
     "metadata": {},
     "output_type": "execute_result"
    }
   ],
   "source": [
    "invariant(rebalance(s1, 0, 0.1))"
   ]
  },
  {
   "cell_type": "code",
   "execution_count": 32,
   "metadata": {},
   "outputs": [
    {
     "data": {
      "text/latex": [
       "$\\displaystyle c s$"
      ],
      "text/plain": [
       "c*s"
      ]
     },
     "execution_count": 32,
     "metadata": {},
     "output_type": "execute_result"
    }
   ],
   "source": [
    "invariant(s_g)"
   ]
  },
  {
   "cell_type": "code",
   "execution_count": 33,
   "metadata": {},
   "outputs": [
    {
     "data": {
      "text/latex": [
       "$\\displaystyle \\frac{\\left(c + s\\right)^{2}}{4}$"
      ],
      "text/plain": [
       "(c + s)**2/4"
      ]
     },
     "execution_count": 33,
     "metadata": {},
     "output_type": "execute_result"
    }
   ],
   "source": [
    "sp.limit(invariant(rebalance(s_g, 0, t)), t, 1).factor()"
   ]
  },
  {
   "cell_type": "code",
   "execution_count": 34,
   "metadata": {},
   "outputs": [
    {
     "data": {
      "text/latex": [
       "$\\displaystyle \\frac{t \\left(c + s\\right)}{t + 1}$"
      ],
      "text/plain": [
       "t*(c + s)/(t + 1)"
      ]
     },
     "execution_count": 34,
     "metadata": {},
     "output_type": "execute_result"
    }
   ],
   "source": [
    "rebalance(s_g, 0, t)[0].simplify()"
   ]
  },
  {
   "cell_type": "code",
   "execution_count": 35,
   "metadata": {},
   "outputs": [
    {
     "data": {
      "text/latex": [
       "$\\displaystyle \\frac{c + s}{t + 1}$"
      ],
      "text/plain": [
       "(c + s)/(t + 1)"
      ]
     },
     "execution_count": 35,
     "metadata": {},
     "output_type": "execute_result"
    }
   ],
   "source": [
    "rebalance(s_g, 0, t)[1].simplify()"
   ]
  },
  {
   "cell_type": "code",
   "execution_count": 36,
   "metadata": {},
   "outputs": [
    {
     "data": {
      "text/latex": [
       "$\\displaystyle c + s$"
      ],
      "text/plain": [
       "c + s"
      ]
     },
     "execution_count": 36,
     "metadata": {},
     "output_type": "execute_result"
    }
   ],
   "source": [
    "(rebalance(s_g, 0, t)[0] + rebalance(s_g, 0, t)[1]).simplify()"
   ]
  },
  {
   "cell_type": "code",
   "execution_count": 37,
   "metadata": {},
   "outputs": [
    {
     "data": {
      "text/plain": [
       "[0.16666666666666669, 0.33333333333333337, 0.33333333333333337, 0.0, 0.5]"
      ]
     },
     "execution_count": 37,
     "metadata": {},
     "output_type": "execute_result"
    }
   ],
   "source": [
    "rebalance(s1, -0.5, 0.5)"
   ]
  },
  {
   "cell_type": "markdown",
   "metadata": {},
   "source": [
    "Withdraw liquidity from the AMM in return for fraction of the balance"
   ]
  },
  {
   "cell_type": "code",
   "execution_count": 38,
   "metadata": {},
   "outputs": [],
   "source": [
    "def withdraw(state, ptk):\n",
    "    c, s, l, c_r, p = state\n",
    "    t =  c / s\n",
    "    b = balance(state)\n",
    "    b_w = b * ptk / p\n",
    "    p -= ptk\n",
    "    c -= b_w\n",
    "    new_state = [c, s, l, c_r,  p]\n",
    "    final_state = rebalance(new_state, 0, t)\n",
    "    return final_state"
   ]
  },
  {
   "cell_type": "code",
   "execution_count": 39,
   "metadata": {},
   "outputs": [
    {
     "data": {
      "text/plain": [
       "0.0"
      ]
     },
     "execution_count": 39,
     "metadata": {},
     "output_type": "execute_result"
    }
   ],
   "source": [
    "balance(withdraw(buy(s1, 0.1), 1))"
   ]
  },
  {
   "cell_type": "code",
   "execution_count": 40,
   "metadata": {},
   "outputs": [
    {
     "data": {
      "text/plain": [
       "1.0363636363636364"
      ]
     },
     "execution_count": 40,
     "metadata": {},
     "output_type": "execute_result"
    }
   ],
   "source": [
    "balance(buy(s1, 0.4))"
   ]
  },
  {
   "cell_type": "code",
   "execution_count": 41,
   "metadata": {},
   "outputs": [],
   "source": [
    "actions = [(buy, 0.1), (sell, 0.1), (withdraw, 0.1), (rebalance, random)]"
   ]
  },
  {
   "cell_type": "code",
   "execution_count": 42,
   "metadata": {},
   "outputs": [],
   "source": [
    "def run_simulation(n_steps=10, c_init=1., actions=None, fee=0.):\n",
    "    s0 = [0., 0., 0., 0.,  0.]\n",
    "    # Trader coin and short balance\n",
    "    c_t = 1.\n",
    "    s_t = 0.\n",
    "    state = rebalance(s0, c_init, 0.5)\n",
    "    res = [state + ['init', 0., c_t, s_t]]\n",
    "    if actions is None:\n",
    "        actions = ['buy', 'rebalance', 'sell', 'rebalance'] # , 'rebalance' 'withdraw']\n",
    "    for i in range(n_steps):\n",
    "        action = actions[i % len(actions)]\n",
    "        v = 0.01\n",
    "        if action == 'buy':\n",
    "            new_state = buy(state, v)\n",
    "            c_t -= v\n",
    "            s_bought = state[1] - new_state[1]\n",
    "            s_fee = fee*s_bought\n",
    "            s_t += s_bought - s_fee\n",
    "            new_state[1] += s_fee\n",
    "        elif action == 'sell':\n",
    "            v = s_t\n",
    "            new_state = sell(state, v)\n",
    "            c_proceeds = state[0] - new_state[0]\n",
    "            c_fee = c_proceeds * fee\n",
    "            s_t -= v\n",
    "            c_t += c_proceeds - c_fee\n",
    "            new_state[0] += c_fee\n",
    "        elif action == 'withdraw':\n",
    "            new_state = withdraw(state, v)\n",
    "        elif action == 'rebalance':\n",
    "            v = random()\n",
    "            new_state = rebalance(state, 0., v)\n",
    "        res.append(new_state + [action, v, c_t, s_t])\n",
    "        if balance(new_state) < 0:\n",
    "            break\n",
    "        state = new_state\n",
    "    return res"
   ]
  },
  {
   "cell_type": "code",
   "execution_count": 43,
   "metadata": {},
   "outputs": [],
   "source": [
    "df = pd.DataFrame(\n",
    "    run_simulation(200, actions=None, fee=0.), \n",
    "    columns=['coin', 'short', 'long', 'reserve', 'pool', 'action', 'value', 'coin_trader', 'short_trader']\n",
    ").assign(\n",
    "    price=lambda x: price([x.coin, x.short, x.long, x.reserve, x.pool]),\n",
    "    balance=lambda x: x.coin + pd.concat([x.long, x.short], axis=1).min(axis=1),\n",
    "    net=lambda x: x.balance + x.coin_trader + x.short_trader\n",
    ")\n"
   ]
  },
  {
   "cell_type": "code",
   "execution_count": 44,
   "metadata": {},
   "outputs": [
    {
     "data": {
      "text/html": [
       "<div>\n",
       "<style scoped>\n",
       "    .dataframe tbody tr th:only-of-type {\n",
       "        vertical-align: middle;\n",
       "    }\n",
       "\n",
       "    .dataframe tbody tr th {\n",
       "        vertical-align: top;\n",
       "    }\n",
       "\n",
       "    .dataframe thead th {\n",
       "        text-align: right;\n",
       "    }\n",
       "</style>\n",
       "<table border=\"1\" class=\"dataframe\">\n",
       "  <thead>\n",
       "    <tr style=\"text-align: right;\">\n",
       "      <th></th>\n",
       "      <th>coin</th>\n",
       "      <th>short</th>\n",
       "      <th>long</th>\n",
       "      <th>reserve</th>\n",
       "      <th>pool</th>\n",
       "      <th>action</th>\n",
       "      <th>value</th>\n",
       "      <th>coin_trader</th>\n",
       "      <th>short_trader</th>\n",
       "      <th>price</th>\n",
       "      <th>balance</th>\n",
       "      <th>net</th>\n",
       "    </tr>\n",
       "  </thead>\n",
       "  <tbody>\n",
       "    <tr>\n",
       "      <th>0</th>\n",
       "      <td>0.333333</td>\n",
       "      <td>0.666667</td>\n",
       "      <td>0.666667</td>\n",
       "      <td>0.0</td>\n",
       "      <td>1.0</td>\n",
       "      <td>init</td>\n",
       "      <td>0.000000</td>\n",
       "      <td>1.000000</td>\n",
       "      <td>0.000000</td>\n",
       "      <td>0.500000</td>\n",
       "      <td>1.000000</td>\n",
       "      <td>2.0</td>\n",
       "    </tr>\n",
       "    <tr>\n",
       "      <th>1</th>\n",
       "      <td>0.343333</td>\n",
       "      <td>0.647249</td>\n",
       "      <td>0.666667</td>\n",
       "      <td>0.0</td>\n",
       "      <td>1.0</td>\n",
       "      <td>buy</td>\n",
       "      <td>0.010000</td>\n",
       "      <td>0.990000</td>\n",
       "      <td>0.019417</td>\n",
       "      <td>0.530450</td>\n",
       "      <td>0.990583</td>\n",
       "      <td>2.0</td>\n",
       "    </tr>\n",
       "    <tr>\n",
       "      <th>2</th>\n",
       "      <td>0.018431</td>\n",
       "      <td>0.972152</td>\n",
       "      <td>0.991569</td>\n",
       "      <td>0.0</td>\n",
       "      <td>1.0</td>\n",
       "      <td>rebalance</td>\n",
       "      <td>0.018959</td>\n",
       "      <td>0.990000</td>\n",
       "      <td>0.019417</td>\n",
       "      <td>0.018959</td>\n",
       "      <td>0.990583</td>\n",
       "      <td>2.0</td>\n",
       "    </tr>\n",
       "    <tr>\n",
       "      <th>3</th>\n",
       "      <td>0.018070</td>\n",
       "      <td>0.991569</td>\n",
       "      <td>0.991569</td>\n",
       "      <td>0.0</td>\n",
       "      <td>1.0</td>\n",
       "      <td>sell</td>\n",
       "      <td>0.019417</td>\n",
       "      <td>0.990361</td>\n",
       "      <td>0.000000</td>\n",
       "      <td>0.018223</td>\n",
       "      <td>1.009639</td>\n",
       "      <td>2.0</td>\n",
       "    </tr>\n",
       "    <tr>\n",
       "      <th>4</th>\n",
       "      <td>0.120402</td>\n",
       "      <td>0.889237</td>\n",
       "      <td>0.889237</td>\n",
       "      <td>0.0</td>\n",
       "      <td>1.0</td>\n",
       "      <td>rebalance</td>\n",
       "      <td>0.135399</td>\n",
       "      <td>0.990361</td>\n",
       "      <td>0.000000</td>\n",
       "      <td>0.135399</td>\n",
       "      <td>1.009639</td>\n",
       "      <td>2.0</td>\n",
       "    </tr>\n",
       "    <tr>\n",
       "      <th>...</th>\n",
       "      <td>...</td>\n",
       "      <td>...</td>\n",
       "      <td>...</td>\n",
       "      <td>...</td>\n",
       "      <td>...</td>\n",
       "      <td>...</td>\n",
       "      <td>...</td>\n",
       "      <td>...</td>\n",
       "      <td>...</td>\n",
       "      <td>...</td>\n",
       "      <td>...</td>\n",
       "      <td>...</td>\n",
       "    </tr>\n",
       "    <tr>\n",
       "      <th>196</th>\n",
       "      <td>0.250375</td>\n",
       "      <td>0.385226</td>\n",
       "      <td>0.385226</td>\n",
       "      <td>0.0</td>\n",
       "      <td>1.0</td>\n",
       "      <td>rebalance</td>\n",
       "      <td>0.649943</td>\n",
       "      <td>1.364399</td>\n",
       "      <td>0.000000</td>\n",
       "      <td>0.649943</td>\n",
       "      <td>0.635601</td>\n",
       "      <td>2.0</td>\n",
       "    </tr>\n",
       "    <tr>\n",
       "      <th>197</th>\n",
       "      <td>0.260375</td>\n",
       "      <td>0.370431</td>\n",
       "      <td>0.385226</td>\n",
       "      <td>0.0</td>\n",
       "      <td>1.0</td>\n",
       "      <td>buy</td>\n",
       "      <td>0.010000</td>\n",
       "      <td>1.354399</td>\n",
       "      <td>0.014795</td>\n",
       "      <td>0.702897</td>\n",
       "      <td>0.630806</td>\n",
       "      <td>2.0</td>\n",
       "    </tr>\n",
       "    <tr>\n",
       "      <th>198</th>\n",
       "      <td>0.137393</td>\n",
       "      <td>0.493413</td>\n",
       "      <td>0.508208</td>\n",
       "      <td>0.0</td>\n",
       "      <td>1.0</td>\n",
       "      <td>rebalance</td>\n",
       "      <td>0.278454</td>\n",
       "      <td>1.354399</td>\n",
       "      <td>0.014795</td>\n",
       "      <td>0.278454</td>\n",
       "      <td>0.630806</td>\n",
       "      <td>2.0</td>\n",
       "    </tr>\n",
       "    <tr>\n",
       "      <th>199</th>\n",
       "      <td>0.133393</td>\n",
       "      <td>0.508208</td>\n",
       "      <td>0.508208</td>\n",
       "      <td>0.0</td>\n",
       "      <td>1.0</td>\n",
       "      <td>sell</td>\n",
       "      <td>0.014795</td>\n",
       "      <td>1.358399</td>\n",
       "      <td>0.000000</td>\n",
       "      <td>0.262477</td>\n",
       "      <td>0.641601</td>\n",
       "      <td>2.0</td>\n",
       "    </tr>\n",
       "    <tr>\n",
       "      <th>200</th>\n",
       "      <td>0.259052</td>\n",
       "      <td>0.382549</td>\n",
       "      <td>0.382549</td>\n",
       "      <td>0.0</td>\n",
       "      <td>1.0</td>\n",
       "      <td>rebalance</td>\n",
       "      <td>0.677175</td>\n",
       "      <td>1.358399</td>\n",
       "      <td>0.000000</td>\n",
       "      <td>0.677175</td>\n",
       "      <td>0.641601</td>\n",
       "      <td>2.0</td>\n",
       "    </tr>\n",
       "  </tbody>\n",
       "</table>\n",
       "<p>201 rows × 12 columns</p>\n",
       "</div>"
      ],
      "text/plain": [
       "         coin     short      long  reserve  pool     action     value  \\\n",
       "0    0.333333  0.666667  0.666667      0.0   1.0       init  0.000000   \n",
       "1    0.343333  0.647249  0.666667      0.0   1.0        buy  0.010000   \n",
       "2    0.018431  0.972152  0.991569      0.0   1.0  rebalance  0.018959   \n",
       "3    0.018070  0.991569  0.991569      0.0   1.0       sell  0.019417   \n",
       "4    0.120402  0.889237  0.889237      0.0   1.0  rebalance  0.135399   \n",
       "..        ...       ...       ...      ...   ...        ...       ...   \n",
       "196  0.250375  0.385226  0.385226      0.0   1.0  rebalance  0.649943   \n",
       "197  0.260375  0.370431  0.385226      0.0   1.0        buy  0.010000   \n",
       "198  0.137393  0.493413  0.508208      0.0   1.0  rebalance  0.278454   \n",
       "199  0.133393  0.508208  0.508208      0.0   1.0       sell  0.014795   \n",
       "200  0.259052  0.382549  0.382549      0.0   1.0  rebalance  0.677175   \n",
       "\n",
       "     coin_trader  short_trader     price   balance  net  \n",
       "0       1.000000      0.000000  0.500000  1.000000  2.0  \n",
       "1       0.990000      0.019417  0.530450  0.990583  2.0  \n",
       "2       0.990000      0.019417  0.018959  0.990583  2.0  \n",
       "3       0.990361      0.000000  0.018223  1.009639  2.0  \n",
       "4       0.990361      0.000000  0.135399  1.009639  2.0  \n",
       "..           ...           ...       ...       ...  ...  \n",
       "196     1.364399      0.000000  0.649943  0.635601  2.0  \n",
       "197     1.354399      0.014795  0.702897  0.630806  2.0  \n",
       "198     1.354399      0.014795  0.278454  0.630806  2.0  \n",
       "199     1.358399      0.000000  0.262477  0.641601  2.0  \n",
       "200     1.358399      0.000000  0.677175  0.641601  2.0  \n",
       "\n",
       "[201 rows x 12 columns]"
      ]
     },
     "execution_count": 44,
     "metadata": {},
     "output_type": "execute_result"
    }
   ],
   "source": [
    "df"
   ]
  },
  {
   "cell_type": "code",
   "execution_count": 45,
   "metadata": {},
   "outputs": [
    {
     "data": {
      "image/png": "[encoded data removed]",
      "text/plain": [
       "<Figure size 432x288 with 1 Axes>"
      ]
     },
     "metadata": {
      "needs_background": "light"
     },
     "output_type": "display_data"
    }
   ],
   "source": [
    "_ = df.balance.plot()\n",
    "_ = df.price.plot()"
   ]
  },
  {
   "cell_type": "code",
   "execution_count": null,
   "metadata": {},
   "outputs": [],
   "source": []
  }
 ],
 "metadata": {
  "kernelspec": {
   "display_name": "Python 3",
   "language": "python",
   "name": "python3"
  },
  "language_info": {
   "codemirror_mode": {
    "name": "ipython",
    "version": 3
   },
   "file_extension": ".py",
   "mimetype": "text/x-python",
   "name": "python",
   "nbconvert_exporter": "python",
   "pygments_lexer": "ipython3",
   "version": "3.7.5"
  }
 },
 "nbformat": 4,
 "nbformat_minor": 1
}
