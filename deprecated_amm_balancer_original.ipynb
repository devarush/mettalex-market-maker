{
 "cells": [
  {
   "cell_type": "code",
   "execution_count": 1,
   "metadata": {},
   "outputs": [],
   "source": [
    "import sympy as sp\n",
    "import matplotlib.pyplot as plt\n",
    "import numpy as np\n",
    "import seaborn as sns"
   ]
  },
  {
   "cell_type": "code",
   "execution_count": 2,
   "metadata": {},
   "outputs": [],
   "source": [
    "%matplotlib inline"
   ]
  },
  {
   "cell_type": "code",
   "execution_count": 3,
   "metadata": {},
   "outputs": [],
   "source": [
    "# Weights\n",
    "w_c, w_l, w_s = sp.symbols('w_c w_l w_s', positive=True)\n",
    "# Token balances\n",
    "x_c, x_l, x_s = sp.symbols('x_c x_l x_s', positive=True)\n",
    "# Prices - in units of locked up collateral\n",
    "v = sp.symbols('v', positive=True) \n",
    "# Swap fee in fraction of input tokens\n",
    "s_f = sp.symbols('s_f')\n",
    "# Decimal scaling \n",
    "d_c, d_p = sp.symbols('d_c d_p', positive=True)\n",
    "# Collateral backing L + S \n",
    "# e.g. for $100.000_000_000_000_000_000 = 1.000_000 mt\n",
    "# this is 100*10**18 / 1*10**6 = 10**14\n",
    "C = sp.symbols('C', positive=True)"
   ]
  },
  {
   "cell_type": "code",
   "execution_count": 4,
   "metadata": {},
   "outputs": [],
   "source": [
    "def calc_spot_price(bI, wI, bO, wO, sF=0):\n",
    "    \"\"\"\n",
    "    calcSpotPrice                                                                             //\n",
    "     sP = spotPrice                                                                            //\n",
    "     bI = tokenBalanceIn                ( bI / wI )         1                                  //\n",
    "     bO = tokenBalanceOut         sP =  -----------  *  ----------                             //\n",
    "     wI = tokenWeightIn                 ( bO / wO )     ( 1 - sF )                             //\n",
    "     wO = tokenWeightOut                                                                       //\n",
    "     sF = swapFee \n",
    "    \"\"\"\n",
    "    return (bI/wI)/(bO/wO)/(1-sF)"
   ]
  },
  {
   "cell_type": "code",
   "execution_count": 5,
   "metadata": {},
   "outputs": [
    {
     "data": {
      "text/latex": [
       "$\\displaystyle - C v + \\frac{w_{l} x_{c}}{w_{c} x_{l}}$"
      ],
      "text/plain": [
       "-C*v + w_l*x_c/(w_c*x_l)"
      ]
     },
     "execution_count": 5,
     "metadata": {},
     "output_type": "execute_result"
    }
   ],
   "source": [
    "# e.g. condition for spot price of long token without fees to be v*C\n",
    "calc_spot_price(x_c, w_c, x_l, w_l) - v*C"
   ]
  },
  {
   "cell_type": "code",
   "execution_count": 6,
   "metadata": {},
   "outputs": [],
   "source": [
    "sol = sp.solve(\n",
    "    [w_c + w_l + w_s - 1,   # Weights sum to 1\n",
    "     calc_spot_price(x_c, w_c, x_l, w_l, 0) - v*C,      # Long token price = v*C\n",
    "     calc_spot_price(x_c, w_c, x_s, w_s, 0) - (1-v)*C,  # Short token price = (1-v)*C\n",
    "    ]\n",
    "     , [w_c, w_l, w_s])"
   ]
  },
  {
   "cell_type": "code",
   "execution_count": 7,
   "metadata": {},
   "outputs": [
    {
     "data": {
      "text/latex": [
       "$\\displaystyle \\frac{x_{c}}{C v x_{l} - C x_{s} \\left(v - 1\\right) + x_{c}}$"
      ],
      "text/plain": [
       "x_c/(C*v*x_l - C*x_s*(v - 1) + x_c)"
      ]
     },
     "execution_count": 7,
     "metadata": {},
     "output_type": "execute_result"
    }
   ],
   "source": [
    "sol[w_c]"
   ]
  },
  {
   "cell_type": "code",
   "execution_count": 8,
   "metadata": {},
   "outputs": [
    {
     "data": {
      "text/latex": [
       "$\\displaystyle \\frac{C v x_{l}}{C v x_{l} - C x_{s} \\left(v - 1\\right) + x_{c}}$"
      ],
      "text/plain": [
       "C*v*x_l/(C*v*x_l - C*x_s*(v - 1) + x_c)"
      ]
     },
     "execution_count": 8,
     "metadata": {},
     "output_type": "execute_result"
    }
   ],
   "source": [
    "sol[w_l]"
   ]
  },
  {
   "cell_type": "code",
   "execution_count": 9,
   "metadata": {},
   "outputs": [
    {
     "data": {
      "text/latex": [
       "$\\displaystyle - \\frac{C x_{s} \\left(v - 1\\right)}{C v x_{l} - C x_{s} \\left(v - 1\\right) + x_{c}}$"
      ],
      "text/plain": [
       "-C*x_s*(v - 1)/(C*v*x_l - C*x_s*(v - 1) + x_c)"
      ]
     },
     "execution_count": 9,
     "metadata": {},
     "output_type": "execute_result"
    }
   ],
   "source": [
    "sol[w_s]"
   ]
  },
  {
   "cell_type": "code",
   "execution_count": 10,
   "metadata": {},
   "outputs": [
    {
     "data": {
      "text/plain": [
       "{w_c: x_c/(C*v*x_l - C*x_s*(v - 1) + x_c),\n",
       " w_l: C*v*x_l/(C*v*x_l - C*x_s*(v - 1) + x_c),\n",
       " w_s: -C*x_s*(v - 1)/(C*v*x_l - C*x_s*(v - 1) + x_c)}"
      ]
     },
     "execution_count": 10,
     "metadata": {},
     "output_type": "execute_result"
    }
   ],
   "source": [
    "# Full set of weights needed to set the spot prices of long and short tokens\n",
    "sol"
   ]
  },
  {
   "cell_type": "code",
   "execution_count": 11,
   "metadata": {},
   "outputs": [
    {
     "data": {
      "text/latex": [
       "$\\displaystyle \\frac{C v}{1 - s_{f}}$"
      ],
      "text/plain": [
       "C*v/(1 - s_f)"
      ]
     },
     "execution_count": 11,
     "metadata": {},
     "output_type": "execute_result"
    }
   ],
   "source": [
    "# Check spot prices\n",
    "calc_spot_price(x_c, w_c, x_l, w_l, s_f).subs(sol) # Long spot price"
   ]
  },
  {
   "cell_type": "code",
   "execution_count": 12,
   "metadata": {},
   "outputs": [
    {
     "data": {
      "text/latex": [
       "$\\displaystyle - \\frac{C \\left(v - 1\\right)}{1 - s_{f}}$"
      ],
      "text/plain": [
       "-C*(v - 1)/(1 - s_f)"
      ]
     },
     "execution_count": 12,
     "metadata": {},
     "output_type": "execute_result"
    }
   ],
   "source": [
    "calc_spot_price(x_c, w_c, x_s, w_s, s_f).subs(sol)"
   ]
  },
  {
   "cell_type": "code",
   "execution_count": 13,
   "metadata": {},
   "outputs": [],
   "source": [
    "def calc_out_given_in(bO, wO, bI, wI, aI, sF=0):\n",
    "    \"\"\"\n",
    "    calcOutGivenIn                                                                            //\n",
    "     aO = tokenAmountOut                                                                       //\n",
    "     bO = tokenBalanceOut                                                                      //\n",
    "     bI = tokenBalanceIn              /      /            bI             \\    (wI / wO) \\      //\n",
    "     aI = tokenAmountIn    aO = bO * |  1 - | --------------------------  | ^            |     //\n",
    "     wI = tokenWeightIn               \\      \\ ( bI + ( aI * ( 1 - sF )) /              /      //\n",
    "     wO = tokenWeightOut                                                                       //\n",
    "     sF = swapFee \n",
    "    \"\"\"\n",
    "    return bO*(1-(bI/(bI + (aI*(1-sF))))**(wI/wO))"
   ]
  },
  {
   "cell_type": "code",
   "execution_count": 14,
   "metadata": {},
   "outputs": [],
   "source": [
    "def calc_in_given_out(bO, wO, bI, wI, aO, sF=0):\n",
    "    \"\"\"\n",
    "    calcInGivenOut                                                                            //\n",
    "     aI = tokenAmountIn                                                                        //\n",
    "     bO = tokenBalanceOut               /  /     bO      \\    (wO / wI)      \\                 //\n",
    "     bI = tokenBalanceIn          bI * |  | ------------  | ^            - 1  |                //\n",
    "     aO = tokenAmountOut    aI =        \\  \\ ( bO - aO ) /                   /                 //\n",
    "     wI = tokenWeightIn           --------------------------------------------                 //\n",
    "     wO = tokenWeightOut                          ( 1 - sF )                                   //\n",
    "     sF = swapFee                                               \n",
    "    \"\"\"\n",
    "    return bI*((bO/(bO - aO))**(wO/wI) - 1)/(1-sF)"
   ]
  },
  {
   "cell_type": "code",
   "execution_count": 15,
   "metadata": {},
   "outputs": [],
   "source": [
    "# Input token amounts for swaps\n",
    "a_c, a_l, a_s = sp.symbols('a_c a_l a_s', positive=True)"
   ]
  },
  {
   "cell_type": "code",
   "execution_count": 16,
   "metadata": {},
   "outputs": [],
   "source": [
    "n, d = sp.fraction(w_c.subs(sol))"
   ]
  },
  {
   "cell_type": "code",
   "execution_count": 17,
   "metadata": {},
   "outputs": [
    {
     "data": {
      "text/latex": [
       "$\\displaystyle x_{c}$"
      ],
      "text/plain": [
       "x_c"
      ]
     },
     "execution_count": 17,
     "metadata": {},
     "output_type": "execute_result"
    }
   ],
   "source": [
    "w_c.subs(sol).subs({d: 1})"
   ]
  },
  {
   "cell_type": "markdown",
   "metadata": {},
   "source": [
    "# Check for arbitrage: buy L, buy S, redeem for C\n"
   ]
  },
  {
   "cell_type": "code",
   "execution_count": 18,
   "metadata": {},
   "outputs": [],
   "source": [
    "# Buy long tokens for a_c collateral tokens\n",
    "x_l_O = calc_out_given_in(x_l, w_l, x_c, w_c, a_c, s_f).subs(sol).simplify()"
   ]
  },
  {
   "cell_type": "code",
   "execution_count": 19,
   "metadata": {},
   "outputs": [],
   "source": [
    "# Updated balance in pool\n",
    "x_l_1 = x_l - x_l_O\n",
    "x_c_1 = x_c + a_c"
   ]
  },
  {
   "cell_type": "code",
   "execution_count": 20,
   "metadata": {},
   "outputs": [],
   "source": [
    "# Buy same amount of short tokens \n",
    "x_c_I = calc_in_given_out(x_s, w_s, x_c_1, w_c, x_l_O, s_f).subs(sol).simplify()"
   ]
  },
  {
   "cell_type": "code",
   "execution_count": 21,
   "metadata": {},
   "outputs": [],
   "source": [
    "trade_cost = (a_c + x_c_I).simplify() # Buy long from pool, buy same amount of short\n",
    "trade_revenue = (C*x_l_O).simplify()  # Redeem long-short pair for underlying collateral"
   ]
  },
  {
   "cell_type": "code",
   "execution_count": 22,
   "metadata": {},
   "outputs": [],
   "source": [
    "# Input as fraction of balance i.e. a_c = f_c * x_c\n",
    "f_c, f_l, f_s = sp.symbols('f_c f_l f_s', positive=True)"
   ]
  },
  {
   "cell_type": "code",
   "execution_count": 23,
   "metadata": {},
   "outputs": [
    {
     "data": {
      "text/latex": [
       "$\\displaystyle f_{c} x_{c} + \\frac{\\left(1 - \\left(\\frac{x_{s}}{x_{l} \\left(\\frac{x_{c}}{- f_{c} s_{f} x_{c} + f_{c} x_{c} + x_{c}}\\right)^{\\frac{x_{c}}{C v x_{l}}} - x_{l} + x_{s}}\\right)^{- \\frac{C x_{s} \\left(v - 1\\right)}{x_{c}}}\\right) \\left(f_{c} x_{c} + x_{c}\\right)}{s_{f} - 1}$"
      ],
      "text/plain": [
       "f_c*x_c + (1 - (x_s/(x_l*(x_c/(-f_c*s_f*x_c + f_c*x_c + x_c))**(x_c/(C*v*x_l)) - x_l + x_s))**(-C*x_s*(v - 1)/x_c))*(f_c*x_c + x_c)/(s_f - 1)"
      ]
     },
     "execution_count": 23,
     "metadata": {},
     "output_type": "execute_result"
    }
   ],
   "source": [
    "trade_cost.subs({a_c: f_c*x_c}).simplify()"
   ]
  },
  {
   "cell_type": "code",
   "execution_count": 24,
   "metadata": {},
   "outputs": [
    {
     "data": {
      "text/latex": [
       "$\\displaystyle - \\frac{s_{f} x_{c}}{v}$"
      ],
      "text/plain": [
       "-s_f*x_c/v"
      ]
     },
     "execution_count": 24,
     "metadata": {},
     "output_type": "execute_result"
    }
   ],
   "source": [
    "# Look at first and second order revenue - cost \n",
    "sp.series((trade_revenue - trade_cost).subs({a_c: f_c*x_c}).simplify(), f_c, n=2).coeff(f_c, 1).simplify()"
   ]
  },
  {
   "cell_type": "code",
   "execution_count": 25,
   "metadata": {},
   "outputs": [
    {
     "data": {
      "text/latex": [
       "$\\displaystyle \\frac{x_{c} \\left(2 C s_{f} v^{2} x_{l} x_{s} + C s_{f} x_{l} x_{s} - C x_{l} x_{s} - s_{f}^{2} x_{c} x_{s} + s_{f} x_{c} x_{l} + s_{f} x_{c} x_{s} + v \\left(- C s_{f}^{2} x_{l} x_{s} - C s_{f} x_{l} x_{s} - s_{f} x_{c} x_{l} + s_{f} x_{c} x_{s} + x_{c} x_{l} - x_{c} x_{s}\\right) - x_{c} x_{l}\\right)}{2 C v^{2} x_{l} x_{s}}$"
      ],
      "text/plain": [
       "x_c*(2*C*s_f*v**2*x_l*x_s + C*s_f*x_l*x_s - C*x_l*x_s - s_f**2*x_c*x_s + s_f*x_c*x_l + s_f*x_c*x_s + v*(-C*s_f**2*x_l*x_s - C*s_f*x_l*x_s - s_f*x_c*x_l + s_f*x_c*x_s + x_c*x_l - x_c*x_s) - x_c*x_l)/(2*C*v**2*x_l*x_s)"
      ]
     },
     "execution_count": 25,
     "metadata": {},
     "output_type": "execute_result"
    }
   ],
   "source": [
    "n=2\n",
    "sp.series((trade_revenue - trade_cost).subs({a_c: f_c*x_c}).simplify(), f_c, n=n+1).coeff(f_c, n).simplify().collect(v)"
   ]
  },
  {
   "cell_type": "markdown",
   "metadata": {},
   "source": [
    "# Check for arbitrage: mint from C, sell L, sell S "
   ]
  },
  {
   "cell_type": "code",
   "execution_count": 26,
   "metadata": {},
   "outputs": [],
   "source": [
    "# Buy coin tokens for long tokens\n",
    "x_c_O = calc_out_given_in(x_c, w_c, x_l, w_l, a_l, s_f).subs(sol).simplify()"
   ]
  },
  {
   "cell_type": "code",
   "execution_count": 27,
   "metadata": {},
   "outputs": [],
   "source": [
    "# Updated balance in pool\n",
    "y_l_1 = x_l + a_l\n",
    "y_c_1 = x_c - x_c_O"
   ]
  },
  {
   "cell_type": "code",
   "execution_count": 28,
   "metadata": {},
   "outputs": [],
   "source": [
    "# Buy coin tokens for same amount of short tokens \n",
    "x_c_O_2 = calc_out_given_in(y_c_1, w_c, x_s, w_s, a_l, s_f).subs(sol).simplify()"
   ]
  },
  {
   "cell_type": "code",
   "execution_count": 29,
   "metadata": {},
   "outputs": [],
   "source": [
    "trade_cost_mint = (a_l * C).simplify() # Mint long and short \n",
    "trade_revenue_mint = (x_c_O + x_c_O_2).simplify()  # Redeem long-short pair for underlying collateral"
   ]
  },
  {
   "cell_type": "code",
   "execution_count": 30,
   "metadata": {},
   "outputs": [
    {
     "data": {
      "text/latex": [
       "$\\displaystyle C a_{l}$"
      ],
      "text/plain": [
       "C*a_l"
      ]
     },
     "execution_count": 30,
     "metadata": {},
     "output_type": "execute_result"
    }
   ],
   "source": [
    "trade_cost_mint"
   ]
  },
  {
   "cell_type": "code",
   "execution_count": 31,
   "metadata": {},
   "outputs": [
    {
     "data": {
      "text/latex": [
       "$\\displaystyle - x_{c} \\left(\\frac{x_{l}}{- a_{l} s_{f} + a_{l} + x_{l}}\\right)^{\\frac{C v x_{l}}{x_{c}}} \\left(\\frac{x_{s}}{- a_{l} s_{f} + a_{l} + x_{s}}\\right)^{\\frac{C x_{s}}{x_{c}}} \\left(\\frac{x_{s}}{- a_{l} s_{f} + a_{l} + x_{s}}\\right)^{- \\frac{C v x_{s}}{x_{c}}} + x_{c}$"
      ],
      "text/plain": [
       "-x_c*(x_l/(-a_l*s_f + a_l + x_l))**(C*v*x_l/x_c)*(x_s/(-a_l*s_f + a_l + x_s))**(C*x_s/x_c)*(x_s/(-a_l*s_f + a_l + x_s))**(-C*v*x_s/x_c) + x_c"
      ]
     },
     "execution_count": 31,
     "metadata": {},
     "output_type": "execute_result"
    }
   ],
   "source": [
    "trade_revenue_mint"
   ]
  },
  {
   "cell_type": "code",
   "execution_count": 32,
   "metadata": {},
   "outputs": [
    {
     "data": {
      "text/latex": [
       "$\\displaystyle f_{l}^{2} \\left(- \\frac{C^{2} s_{f}^{2} x_{l}^{2}}{2 x_{c}} + \\frac{C^{2} s_{f} x_{l}^{2}}{x_{c}} - \\frac{C^{2} x_{l}^{2}}{2 x_{c}} + \\frac{C s_{f}^{2} v x_{l}^{2}}{2 x_{s}} - \\frac{C s_{f}^{2} v x_{l}}{2} - \\frac{C s_{f}^{2} x_{l}^{2}}{2 x_{s}} - \\frac{C s_{f} v x_{l}^{2}}{x_{s}} + C s_{f} v x_{l} + \\frac{C s_{f} x_{l}^{2}}{x_{s}} + \\frac{C v x_{l}^{2}}{2 x_{s}} - \\frac{C v x_{l}}{2} - \\frac{C x_{l}^{2}}{2 x_{s}}\\right) - C f_{l} s_{f} x_{l} + O\\left(f_{l}^{3}\\right)$"
      ],
      "text/plain": [
       "f_l**2*(-C**2*s_f**2*x_l**2/(2*x_c) + C**2*s_f*x_l**2/x_c - C**2*x_l**2/(2*x_c) + C*s_f**2*v*x_l**2/(2*x_s) - C*s_f**2*v*x_l/2 - C*s_f**2*x_l**2/(2*x_s) - C*s_f*v*x_l**2/x_s + C*s_f*v*x_l + C*s_f*x_l**2/x_s + C*v*x_l**2/(2*x_s) - C*v*x_l/2 - C*x_l**2/(2*x_s)) - C*f_l*s_f*x_l + O(f_l**3)"
      ]
     },
     "execution_count": 32,
     "metadata": {},
     "output_type": "execute_result"
    }
   ],
   "source": [
    "sp.series((trade_revenue_mint - trade_cost_mint).subs({a_l: f_l*x_l}).simplify(), f_l, n=3)#.coeff(f_l, 1).simplify()"
   ]
  },
  {
   "cell_type": "markdown",
   "metadata": {},
   "source": [
    "# Next section WIP - ignore"
   ]
  },
  {
   "cell_type": "markdown",
   "metadata": {},
   "source": [
    "Consider now pair balance and difference with $x_l = (x_p + x_d)/2$ and $x_s = (x_p - x_d)/2$ so that we can introduce a budget constraint $x_c + C*x_p = b_c$"
   ]
  },
  {
   "cell_type": "code",
   "execution_count": 33,
   "metadata": {},
   "outputs": [],
   "source": [
    "x_p, x_d = sp.symbols('x_p x_c')\n",
    "subs_dict = {x_l: (x_p + x_d)/2, x_s: (x_p - x_d)/2}"
   ]
  },
  {
   "cell_type": "code",
   "execution_count": 34,
   "metadata": {},
   "outputs": [],
   "source": [
    "b_c = sp.symbols('b_c')\n",
    "budget_subs_dict = {x_c: b_c - C*x_p}"
   ]
  },
  {
   "cell_type": "code",
   "execution_count": 35,
   "metadata": {},
   "outputs": [
    {
     "data": {
      "text/latex": [
       "$\\displaystyle \\frac{2 x_{c}}{2 C v x_{c} - C x_{c} + C x_{p} + 2 x_{c}}$"
      ],
      "text/plain": [
       "2*x_c/(2*C*v*x_c - C*x_c + C*x_p + 2*x_c)"
      ]
     },
     "execution_count": 35,
     "metadata": {},
     "output_type": "execute_result"
    }
   ],
   "source": [
    "sol[w_c].subs(subs_dict).simplify()"
   ]
  },
  {
   "cell_type": "code",
   "execution_count": 36,
   "metadata": {},
   "outputs": [
    {
     "data": {
      "text/latex": [
       "$\\displaystyle \\frac{C v \\left(x_{c} + x_{p}\\right)}{2 C v x_{c} - C x_{c} + C x_{p} + 2 x_{c}}$"
      ],
      "text/plain": [
       "C*v*(x_c + x_p)/(2*C*v*x_c - C*x_c + C*x_p + 2*x_c)"
      ]
     },
     "execution_count": 36,
     "metadata": {},
     "output_type": "execute_result"
    }
   ],
   "source": [
    "sol[w_l].subs(subs_dict).simplify()"
   ]
  },
  {
   "cell_type": "code",
   "execution_count": 37,
   "metadata": {},
   "outputs": [
    {
     "data": {
      "text/latex": [
       "$\\displaystyle \\frac{C \\left(v - 1\\right) \\left(x_{c} - x_{p}\\right)}{C v \\left(x_{c} + x_{p}\\right) + C \\left(v - 1\\right) \\left(x_{c} - x_{p}\\right) + 2 x_{c}}$"
      ],
      "text/plain": [
       "C*(v - 1)*(x_c - x_p)/(C*v*(x_c + x_p) + C*(v - 1)*(x_c - x_p) + 2*x_c)"
      ]
     },
     "execution_count": 37,
     "metadata": {},
     "output_type": "execute_result"
    }
   ],
   "source": [
    "sol[w_s].subs(subs_dict).simplify()"
   ]
  },
  {
   "cell_type": "code",
   "execution_count": 38,
   "metadata": {},
   "outputs": [
    {
     "data": {
      "text/latex": [
       "$\\displaystyle 1$"
      ],
      "text/plain": [
       "1"
      ]
     },
     "execution_count": 38,
     "metadata": {},
     "output_type": "execute_result"
    }
   ],
   "source": [
    "(sol[w_c] + sol[w_l] + sol[w_s]).simplify()"
   ]
  },
  {
   "cell_type": "code",
   "execution_count": 39,
   "metadata": {},
   "outputs": [
    {
     "data": {
      "text/latex": [
       "$\\displaystyle \\frac{- 2 C x_{p} + 2 b_{c}}{2 C v x_{c} - C x_{c} - C x_{p} + 2 b_{c}}$"
      ],
      "text/plain": [
       "(-2*C*x_p + 2*b_c)/(2*C*v*x_c - C*x_c - C*x_p + 2*b_c)"
      ]
     },
     "execution_count": 39,
     "metadata": {},
     "output_type": "execute_result"
    }
   ],
   "source": [
    "sol[w_c].subs(subs_dict).subs(budget_subs_dict).simplify()"
   ]
  },
  {
   "cell_type": "code",
   "execution_count": 40,
   "metadata": {},
   "outputs": [
    {
     "data": {
      "text/latex": [
       "$\\displaystyle \\frac{2 C \\left(- 2 C v x_{c} + C x_{c} - b_{c}\\right)}{\\left(2 C v x_{c} - C x_{c} - C x_{p} + 2 b_{c}\\right)^{2}}$"
      ],
      "text/plain": [
       "2*C*(-2*C*v*x_c + C*x_c - b_c)/(2*C*v*x_c - C*x_c - C*x_p + 2*b_c)**2"
      ]
     },
     "execution_count": 40,
     "metadata": {},
     "output_type": "execute_result"
    }
   ],
   "source": [
    "sol[w_c].subs(subs_dict).subs(budget_subs_dict).simplify().diff(x_p).simplify()"
   ]
  },
  {
   "cell_type": "markdown",
   "metadata": {},
   "source": [
    "(stop ignoring)"
   ]
  },
  {
   "cell_type": "markdown",
   "metadata": {},
   "source": [
    "# Check for arbitrage: have L, swap fL for (1-f)S, redeem (1-f)C (buy L?) "
   ]
  },
  {
   "cell_type": "code",
   "execution_count": 41,
   "metadata": {},
   "outputs": [],
   "source": [
    "x_s_O = calc_out_given_in(x_s, w_s, x_l, w_l, f_l*a_l, s_f).subs(sol).simplify()"
   ]
  },
  {
   "cell_type": "code",
   "execution_count": 42,
   "metadata": {},
   "outputs": [
    {
     "data": {
      "text/latex": [
       "$\\displaystyle f_{l}^{2} \\left(- \\frac{a_{l}^{2} s_{f}^{2} v^{2} x_{s}}{2 \\left(v^{2} x_{s}^{2} - 2 v x_{s}^{2} + x_{s}^{2}\\right)} + \\frac{a_{l}^{2} s_{f}^{2} v x_{s}}{2 v x_{l} x_{s} - 2 x_{l} x_{s}} + \\frac{a_{l}^{2} s_{f} v^{2} x_{s}}{v^{2} x_{s}^{2} - 2 v x_{s}^{2} + x_{s}^{2}} - \\frac{a_{l}^{2} s_{f} v x_{s}}{v x_{l} x_{s} - x_{l} x_{s}} - \\frac{a_{l}^{2} v^{2} x_{s}}{2 \\left(v^{2} x_{s}^{2} - 2 v x_{s}^{2} + x_{s}^{2}\\right)} + \\frac{a_{l}^{2} v x_{s}}{2 v x_{l} x_{s} - 2 x_{l} x_{s}}\\right) + f_{l} \\left(\\frac{a_{l} s_{f} v x_{s}}{v x_{s} - x_{s}} - \\frac{a_{l} v x_{s}}{v x_{s} - x_{s}}\\right)$"
      ],
      "text/plain": [
       "f_l**2*(-a_l**2*s_f**2*v**2*x_s/(2*(v**2*x_s**2 - 2*v*x_s**2 + x_s**2)) + a_l**2*s_f**2*v*x_s/(2*v*x_l*x_s - 2*x_l*x_s) + a_l**2*s_f*v**2*x_s/(v**2*x_s**2 - 2*v*x_s**2 + x_s**2) - a_l**2*s_f*v*x_s/(v*x_l*x_s - x_l*x_s) - a_l**2*v**2*x_s/(2*(v**2*x_s**2 - 2*v*x_s**2 + x_s**2)) + a_l**2*v*x_s/(2*v*x_l*x_s - 2*x_l*x_s)) + f_l*(a_l*s_f*v*x_s/(v*x_s - x_s) - a_l*v*x_s/(v*x_s - x_s))"
      ]
     },
     "execution_count": 42,
     "metadata": {},
     "output_type": "execute_result"
    }
   ],
   "source": [
    "sp.series(x_s_O, f_l, n=3).removeO()"
   ]
  },
  {
   "cell_type": "code",
   "execution_count": 43,
   "metadata": {},
   "outputs": [
    {
     "data": {
      "text/latex": [
       "$\\displaystyle \\frac{v - 1}{s_{f} v - 1}$"
      ],
      "text/plain": [
       "(v - 1)/(s_f*v - 1)"
      ]
     },
     "execution_count": 43,
     "metadata": {},
     "output_type": "execute_result"
    }
   ],
   "source": [
    "sp.solve((1-f_l)*a_l - sp.series(x_s_O, f_l, n=2).removeO(), f_l)[0].simplify()"
   ]
  },
  {
   "cell_type": "markdown",
   "metadata": {},
   "source": [
    "# Buying L without increasing S price\n",
    "The direct swap of C for L increases the price of L in terms of C because the amount of L in the pool decreases and the amount of C in the pool decreases.  However the S price also increases due to the increase in amount of C.  This allows an arbitrage whereby another user can mint L + S from C and swap with the pool.\n",
    "\n",
    "To avoid this we can convert the swap into:\n",
    "* mint a*(L + S) pairs from fraction $a$ of the C\n",
    "* swap $(1-a)$ C for L\n",
    "* swap $a$ S for L\n",
    "with constraints on the spot pricees of L for C, L for S, S for C.  "
   ]
  },
  {
   "cell_type": "code",
   "execution_count": 44,
   "metadata": {},
   "outputs": [
    {
     "data": {
      "text/latex": [
       "$\\displaystyle C$"
      ],
      "text/plain": [
       "C"
      ]
     },
     "execution_count": 44,
     "metadata": {},
     "output_type": "execute_result"
    }
   ],
   "source": [
    "(calc_spot_price(x_c, w_c, x_s, w_s, 0) + calc_spot_price(x_c, w_c, x_l, w_l, 0)).subs(sol).simplify()"
   ]
  },
  {
   "cell_type": "code",
   "execution_count": 45,
   "metadata": {},
   "outputs": [
    {
     "data": {
      "text/latex": [
       "$\\displaystyle f_{l} \\left(- \\frac{s_{f} x_{c}}{C v} + \\frac{x_{c}}{C v}\\right) + f_{l}^{2} \\left(- \\frac{s_{f}^{2} x_{c}}{2 C v} + \\frac{s_{f} x_{c}}{C v} - \\frac{x_{c}}{2 C v} - \\frac{s_{f}^{2} x_{c}^{2}}{2 C^{2} v^{2} x_{l}} + \\frac{s_{f} x_{c}^{2}}{C^{2} v^{2} x_{l}} - \\frac{x_{c}^{2}}{2 C^{2} v^{2} x_{l}}\\right) + O\\left(f_{l}^{3}\\right)$"
      ],
      "text/plain": [
       "f_l*(-s_f*x_c/(C*v) + x_c/(C*v)) + f_l**2*(-s_f**2*x_c/(2*C*v) + s_f*x_c/(C*v) - x_c/(2*C*v) - s_f**2*x_c**2/(2*C**2*v**2*x_l) + s_f*x_c**2/(C**2*v**2*x_l) - x_c**2/(2*C**2*v**2*x_l)) + O(f_l**3)"
      ]
     },
     "execution_count": 45,
     "metadata": {},
     "output_type": "execute_result"
    }
   ],
   "source": [
    "sp.series(calc_out_given_in(x_l, w_l, x_c, w_c, f_l*x_c, s_f).subs(sol).simplify(), f_l, n=3)"
   ]
  },
  {
   "cell_type": "code",
   "execution_count": 46,
   "metadata": {},
   "outputs": [
    {
     "data": {
      "text/latex": [
       "$\\displaystyle \\frac{C \\left(\\frac{x_{c}}{- a_{c} s_{f} + a_{c} + x_{c}}\\right)^{- \\frac{x_{c}}{C v x_{l}}} \\left(a_{c} + x_{c}\\right) \\left(v - \\left(\\frac{x_{c}}{- a_{c} s_{f} + a_{c} + x_{c}}\\right)^{\\frac{x_{c}}{C v x_{l}}} \\left(v - 1\\right)\\right)}{x_{c}}$"
      ],
      "text/plain": [
       "C*(x_c/(-a_c*s_f + a_c + x_c))**(-x_c/(C*v*x_l))*(a_c + x_c)*(v - (x_c/(-a_c*s_f + a_c + x_c))**(x_c/(C*v*x_l))*(v - 1))/x_c"
      ]
     },
     "execution_count": 46,
     "metadata": {},
     "output_type": "execute_result"
    }
   ],
   "source": [
    "(calc_spot_price(x_c + a_c, w_c, x_s, w_s, 0) + \n",
    " calc_spot_price(x_c + a_c, w_c, x_l - calc_out_given_in(x_l, w_l, x_c, w_c, a_c, s_f).subs(sol).simplify(), w_l, 0)\n",
    ").subs(sol).simplify()"
   ]
  },
  {
   "cell_type": "markdown",
   "metadata": {},
   "source": [
    "If we set $a = 1$ then the amount of C does not change.  We can rebalance the weights to ensure L + S = C. Represent the state of the pool as \n",
    "\n",
    "    [x_c, x_l, x_s, w_c, w_l, w_s] \n",
    "    \n",
    "and show how this changes as various operations are performed."
   ]
  },
  {
   "cell_type": "code",
   "execution_count": 47,
   "metadata": {},
   "outputs": [],
   "source": [
    "def set_amm_state(x_c, x_l, x_s, v, C, sF=0):\n",
    "    \"\"\"For fixed token balances calculate the weights needed to achieve \n",
    "    L price = v*C, S price = (1-v)*C where C is the coin needed to mint 1 L + 1 S \n",
    "    \"\"\"\n",
    "    sol = sp.solve(\n",
    "    [w_c + w_l + w_s - 1,   # Weights sum to 1\n",
    "     calc_spot_price(x_c, w_c, x_l, w_l, sF) - v*C,      # Long token price = v*C\n",
    "     calc_spot_price(x_c, w_c, x_s, w_s, sF) - (1-v)*C,  # Short token price = (1-v)*C\n",
    "    ]\n",
    "     , [w_c, w_l, w_s])\n",
    "    return [x_c, x_l, x_s, sol[w_c], sol[w_l], sol[w_s]]"
   ]
  },
  {
   "cell_type": "code",
   "execution_count": 48,
   "metadata": {},
   "outputs": [],
   "source": [
    "def get_amm_spot_prices(state, sF=0):\n",
    "    \"\"\"Return L and S prices in units of coin\n",
    "    \"\"\"\n",
    "    coin_ind = 0\n",
    "    ltk_ind = 1\n",
    "    stk_ind = 2\n",
    "    n_tok = len(state) // 2\n",
    "    ltk_price, stk_price = (\n",
    "        calc_spot_price(\n",
    "            state[coin_ind], state[coin_ind + n_tok],\n",
    "            state[tok_ind], state[tok_ind + n_tok],\n",
    "            sF) for tok_ind in [ltk_ind, stk_ind]\n",
    "    )\n",
    "    return [ltk_price, stk_price]"
   ]
  },
  {
   "cell_type": "code",
   "execution_count": 49,
   "metadata": {},
   "outputs": [
    {
     "data": {
      "text/plain": [
       "[50.0000000000000, 50.0000000000000]"
      ]
     },
     "execution_count": 49,
     "metadata": {},
     "output_type": "execute_result"
    }
   ],
   "source": [
    "# Check that we get the correct price \n",
    "get_amm_spot_prices(\n",
    "    set_amm_state(\n",
    "        10000,   # $10 000\n",
    "        100,     # 100 L\n",
    "        100,     # 100 S\n",
    "        0.5, 100    # L price is 0.5*$100\n",
    "    )\n",
    ")"
   ]
  },
  {
   "cell_type": "code",
   "execution_count": 50,
   "metadata": {},
   "outputs": [
    {
     "data": {
      "text/plain": [
       "[50.0000000000000, 50.0000000000000]"
      ]
     },
     "execution_count": 50,
     "metadata": {},
     "output_type": "execute_result"
    }
   ],
   "source": [
    "# Note that we don't need to have the same number of tokens to achieve equal L and S price\n",
    "# as the weights can achieve any price\n",
    "get_amm_spot_prices(\n",
    "    set_amm_state(\n",
    "        10000,   # $10 000\n",
    "        100,     # 100 L\n",
    "        10,      # 10 S\n",
    "        0.5, 100    # L price is 0.5*$100\n",
    "    )\n",
    ")"
   ]
  },
  {
   "cell_type": "markdown",
   "metadata": {},
   "source": [
    "## Trading - simple swaps \n",
    "Look at what happens when we trade with the pool without using the Mettalex vault to mint and redeem tokens.  We see arbitrage opportunities being created when L + S != C"
   ]
  },
  {
   "cell_type": "code",
   "execution_count": 51,
   "metadata": {},
   "outputs": [],
   "source": [
    "def simple_swap_from_coin(state, aI, to_long=True, sF=0, coin_per_pair=1,\n",
    "    rebalance=False, rebalance_fun=set_amm_state):\n",
    "    \"\"\"Swap a_c coins in for specified token (1=L, 2=S)\n",
    "    \"\"\"\n",
    "    tok_ind = 1 if to_long else 2\n",
    "    coin_ind = 0\n",
    "    n_tok = len(state) // 2\n",
    "    # calc_out_given_in(bO, wO, bI, wI, aI, sF=0)\n",
    "    bO = state[tok_ind]\n",
    "    wO = state[tok_ind + n_tok]\n",
    "    bI = state[coin_ind]\n",
    "    wI = state[coin_ind + n_tok]\n",
    "    aO = calc_out_given_in(bO, wO, bI, wI, aI, sF)\n",
    "    avg_price = aI / aO  # Price paid to AMM in coin for each position token\n",
    "    if to_long:\n",
    "        new_state = [\n",
    "            state[0] + aI,\n",
    "            state[1] - aO,\n",
    "            state[2],\n",
    "            state[3], state[4], state[5]\n",
    "        ]\n",
    "    else:\n",
    "        new_state = [\n",
    "            state[0] + aI,\n",
    "            state[1],\n",
    "            state[2] - aO,\n",
    "            state[3], state[4], state[5]\n",
    "        ]\n",
    "    if rebalance:\n",
    "        new_spot = get_amm_spot_prices(new_state)\n",
    "        new_state = rebalance_fun(\n",
    "            new_state[0], new_state[1], new_state[2],\n",
    "            new_spot[0]/(new_spot[0] + new_spot[1]),\n",
    "            coin_per_pair\n",
    "        )\n",
    "    \n",
    "    return new_state, aO, avg_price"
   ]
  },
  {
   "cell_type": "code",
   "execution_count": 52,
   "metadata": {},
   "outputs": [
    {
     "data": {
      "text/plain": [
       "([10500,\n",
       "  90.7029478458050,\n",
       "  100,\n",
       "  0.500000000000000,\n",
       "  0.250000000000000,\n",
       "  0.250000000000000],\n",
       " 9.29705215419502,\n",
       " 53.7804878048780)"
      ]
     },
     "execution_count": 52,
     "metadata": {},
     "output_type": "execute_result"
    }
   ],
   "source": [
    "simple_swap_from_coin(set_amm_state(10000, 100, 100, 0.5, 100), 500)"
   ]
  },
  {
   "cell_type": "code",
   "execution_count": 53,
   "metadata": {},
   "outputs": [
    {
     "data": {
      "text/plain": [
       "[57.8812500000000, 52.5000000000000]"
      ]
     },
     "execution_count": 53,
     "metadata": {},
     "output_type": "execute_result"
    }
   ],
   "source": [
    "get_amm_spot_prices(simple_swap_from_coin(set_amm_state(10000, 100, 100, 0.5, 100), 500)[0])"
   ]
  },
  {
   "cell_type": "code",
   "execution_count": 129,
   "metadata": {},
   "outputs": [],
   "source": [
    "def simple_swap_to_coin(\n",
    "    state, aI, from_long=True, sF=0,\n",
    "    coin_per_pair=1, rebalance=False, rebalance_fun=set_amm_state):\n",
    "    \"\"\"Swap position tokens in for coin\n",
    "    \"\"\"\n",
    "    tok_ind = 1 if from_long else 2\n",
    "    coin_ind = 0\n",
    "    n_tok = len(state) // 2\n",
    "    # calc_out_given_in(bO, wO, bI, wI, aI, sF=0)\n",
    "    bO = state[coin_ind]\n",
    "    wO = state[coin_ind + n_tok]\n",
    "    bI = state[tok_ind]\n",
    "    wI = state[tok_ind + n_tok]\n",
    "    aO = calc_out_given_in(bO, wO, bI, wI, aI, sF)\n",
    "    avg_price = aO / aI  # Price in coin paid for input position token\n",
    "    if from_long:\n",
    "        new_state = [\n",
    "            state[0] - aO,\n",
    "            state[1] + aI,\n",
    "            state[2],\n",
    "            state[3], state[4], state[5]\n",
    "        ]\n",
    "    else:\n",
    "        new_state = [\n",
    "            state[0] - aO,\n",
    "            state[1],\n",
    "            state[2] + aI,\n",
    "            state[3], state[4], state[5]\n",
    "        ]\n",
    "    if rebalance:\n",
    "        new_spot = get_amm_spot_prices(new_state)\n",
    "        new_state = rebalance_fun(\n",
    "            new_state[0], new_state[1], new_state[2],\n",
    "            new_spot[0]/(new_spot[0] + new_spot[1]),\n",
    "            coin_per_pair\n",
    "        )\n",
    "    \n",
    "    return new_state, aO, avg_price"
   ]
  },
  {
   "cell_type": "code",
   "execution_count": 55,
   "metadata": {},
   "outputs": [
    {
     "data": {
      "text/plain": [
       "([9950.37190209989,\n",
       "  101,\n",
       "  100,\n",
       "  0.500000000000000,\n",
       "  0.250000000000000,\n",
       "  0.250000000000000],\n",
       " 49.6280979001085,\n",
       " 49.6280979001085)"
      ]
     },
     "execution_count": 55,
     "metadata": {},
     "output_type": "execute_result"
    }
   ],
   "source": [
    "simple_swap_to_coin(set_amm_state(10000, 100, 100, 0.5, 100), 1)"
   ]
  },
  {
   "cell_type": "markdown",
   "metadata": {},
   "source": [
    "### Price impact for purchasing position tokens "
   ]
  },
  {
   "cell_type": "code",
   "execution_count": 56,
   "metadata": {},
   "outputs": [],
   "source": [
    "# Price impact for range of long token purchases\n",
    "initial_state = set_amm_state(10000, 100, 100, 0.5, 100)\n",
    "coin_in = np.linspace(1., 5000., 20)\n",
    "states, tok_out, avg_price = zip(*[simple_swap_from_coin(initial_state, c) for c in coin_in])"
   ]
  },
  {
   "cell_type": "code",
   "execution_count": 57,
   "metadata": {},
   "outputs": [
    {
     "data": {
      "image/png": "[encoded data removed]",
      "text/plain": [
       "<Figure size 432x288 with 1 Axes>"
      ]
     },
     "metadata": {
      "needs_background": "light"
     },
     "output_type": "display_data"
    }
   ],
   "source": [
    "_ = plt.plot(coin_in, avg_price)\n",
    "_ = plt.xlabel('Coin In')\n",
    "_ = plt.ylabel('Average token price')"
   ]
  },
  {
   "cell_type": "code",
   "execution_count": 58,
   "metadata": {},
   "outputs": [
    {
     "data": {
      "image/png": "[encoded data removed]",
      "text/plain": [
       "<Figure size 432x288 with 1 Axes>"
      ]
     },
     "metadata": {
      "needs_background": "light"
     },
     "output_type": "display_data"
    }
   ],
   "source": [
    "_ = plt.plot(coin_in, tok_out)\n",
    "_ = plt.xlabel('Coin In')\n",
    "_ = plt.ylabel('Tokens Out')"
   ]
  },
  {
   "cell_type": "code",
   "execution_count": 59,
   "metadata": {},
   "outputs": [
    {
     "data": {
      "image/png": "[encoded data removed]",
      "text/plain": [
       "<Figure size 432x288 with 1 Axes>"
      ]
     },
     "metadata": {
      "needs_background": "light"
     },
     "output_type": "display_data"
    }
   ],
   "source": [
    "# Spot prices and sum\n",
    "spot_prices = np.array([get_amm_spot_prices(s) for s in states])\n",
    "_ = plt.plot(coin_in, spot_prices)\n",
    "_ = plt.plot(coin_in, np.sum(spot_prices, axis=1))\n",
    "_ = plt.legend(['Long', 'Short', 'Long + Short'])\n",
    "_ = plt.xlabel('Coin In')\n",
    "_ = plt.ylabel('Spot Price')"
   ]
  },
  {
   "cell_type": "markdown",
   "metadata": {},
   "source": [
    "### Price impact for selling position tokens"
   ]
  },
  {
   "cell_type": "code",
   "execution_count": 145,
   "metadata": {},
   "outputs": [],
   "source": [
    "initial_state = set_amm_state(10000, 100, 100, 0.5, 100)\n",
    "tok_in = np.linspace(1., 50., 20)\n",
    "states, coin_out, avg_price = zip(*[simple_swap_to_coin(initial_state, t) for t in tok_in])"
   ]
  },
  {
   "cell_type": "code",
   "execution_count": 149,
   "metadata": {},
   "outputs": [
    {
     "data": {
      "image/png": "[encoded data removed]",
      "text/plain": [
       "<Figure size 432x288 with 1 Axes>"
      ]
     },
     "metadata": {
      "needs_background": "light"
     },
     "output_type": "display_data"
    }
   ],
   "source": [
    "_ = plt.plot(tok_in, avg_price)\n",
    "_ = plt.xlabel('Token In')\n",
    "_ = plt.ylabel('Average token price')"
   ]
  },
  {
   "cell_type": "code",
   "execution_count": 147,
   "metadata": {},
   "outputs": [
    {
     "data": {
      "image/png": "[encoded data removed]",
      "text/plain": [
       "<Figure size 432x288 with 1 Axes>"
      ]
     },
     "metadata": {
      "needs_background": "light"
     },
     "output_type": "display_data"
    }
   ],
   "source": [
    "_ = plt.plot(tok_in, coin_out)\n",
    "_ = plt.xlabel('Token In')\n",
    "_ = plt.ylabel('Coin Out')"
   ]
  },
  {
   "cell_type": "code",
   "execution_count": 148,
   "metadata": {},
   "outputs": [
    {
     "data": {
      "image/png": "[encoded data removed]",
      "text/plain": [
       "<Figure size 432x288 with 1 Axes>"
      ]
     },
     "metadata": {
      "needs_background": "light"
     },
     "output_type": "display_data"
    }
   ],
   "source": [
    "# Spot prices and sum\n",
    "spot_prices = np.array([get_amm_spot_prices(s) for s in states])\n",
    "_ = plt.plot(tok_in, spot_prices)\n",
    "_ = plt.plot(tok_in, np.sum(spot_prices, axis=1))\n",
    "_ = plt.legend(['Long', 'Short', 'Long + Short'])\n",
    "_ = plt.xlabel('Token In')\n",
    "_ = plt.ylabel('Spot Price')"
   ]
  },
  {
   "cell_type": "markdown",
   "metadata": {},
   "source": [
    "## Trading - swaps with minting\n",
    "The simple swap from coin to a position token increases the price of the other position token as well, which creates an arbitrage opportunity.  To avoid this we instead mint a long and short pair from the input coin then swap the unwanted position."
   ]
  },
  {
   "cell_type": "code",
   "execution_count": 64,
   "metadata": {},
   "outputs": [],
   "source": [
    "def mint_swap_from_coin(\n",
    "    state, aI, to_long=True, sF=0, coin_per_pair=1,\n",
    "    rebalance=False, rebalance_fun=set_amm_state):\n",
    "    \"\"\"Swap a_c coins in for specified token (1=L, 2=S)\n",
    "    \"\"\"\n",
    "    tok_ind = 1 if to_long else 2\n",
    "    coin_ind = 2 if to_long else 1  # The 'coin' we are using here is the other position token\n",
    "    n_tok = len(state) // 2\n",
    "    # calc_out_given_in(bO, wO, bI, wI, aI, sF=0)\n",
    "    bO = state[tok_ind]\n",
    "    wO = state[tok_ind + n_tok]\n",
    "    bI = state[coin_ind]\n",
    "    wI = state[coin_ind + n_tok]\n",
    "    a_mint = aI/coin_per_pair  # Mint long + short pair\n",
    "    aO = calc_out_given_in(bO, wO, bI, wI, a_mint, sF) + a_mint\n",
    "    avg_price = aI / aO  # Price paid to AMM in coin for each position token\n",
    "    if to_long:\n",
    "        new_state = [\n",
    "            state[0] ,\n",
    "            state[1] - aO,\n",
    "            state[2] + a_mint,\n",
    "            state[3], state[4], state[5]\n",
    "        ]\n",
    "    else:\n",
    "        new_state = [\n",
    "            state[0] ,\n",
    "            state[1] + a_mint,\n",
    "            state[2] - aO,\n",
    "            state[3], state[4], state[5]\n",
    "        ]\n",
    "    if rebalance:\n",
    "        new_spot = get_amm_spot_prices(new_state)\n",
    "        new_state = rebalance_fun(\n",
    "            new_state[0], new_state[1], new_state[2],\n",
    "            new_spot[0]/(new_spot[0] + new_spot[1]),\n",
    "            coin_per_pair\n",
    "        )\n",
    "    \n",
    "    return new_state, aO, avg_price"
   ]
  },
  {
   "cell_type": "code",
   "execution_count": 65,
   "metadata": {},
   "outputs": [
    {
     "data": {
      "text/plain": [
       "([10000,\n",
       "  99.0024875621891,\n",
       "  100.5,\n",
       "  0.500000000000000,\n",
       "  0.250000000000000,\n",
       "  0.250000000000000],\n",
       " 0.997512437810943,\n",
       " 50.1246882793019)"
      ]
     },
     "execution_count": 65,
     "metadata": {},
     "output_type": "execute_result"
    }
   ],
   "source": [
    "mint_swap_from_coin(initial_state, 50, coin_per_pair=100)"
   ]
  },
  {
   "cell_type": "code",
   "execution_count": 66,
   "metadata": {},
   "outputs": [],
   "source": [
    "# Price impact for range of long token purchases\n",
    "initial_state = set_amm_state(10000, 100, 100, 0.5, 100)\n",
    "coin_in = np.linspace(1., 5000., 20)\n",
    "states, tok_out, avg_price = zip(*[mint_swap_from_coin(initial_state, c, coin_per_pair=100) for c in coin_in])"
   ]
  },
  {
   "cell_type": "code",
   "execution_count": 67,
   "metadata": {},
   "outputs": [
    {
     "data": {
      "image/png": "[encoded data removed]",
      "text/plain": [
       "<Figure size 432x288 with 1 Axes>"
      ]
     },
     "metadata": {
      "needs_background": "light"
     },
     "output_type": "display_data"
    }
   ],
   "source": [
    "# Spot prices and sum\n",
    "spot_prices = np.array([get_amm_spot_prices(s) for s in states])\n",
    "_ = plt.plot(coin_in, spot_prices)\n",
    "_ = plt.plot(coin_in, np.sum(spot_prices, axis=1))\n",
    "_ = plt.legend(['Long', 'Short', 'Long + Short'])\n",
    "_ = plt.xlabel('Coin In')\n",
    "_ = plt.ylabel('Spot Price')"
   ]
  },
  {
   "cell_type": "markdown",
   "metadata": {},
   "source": [
    "#### Spot prices for purchasing position token then rebalancing\n",
    "After doing the swap we can keep the same token balances but reweight to keep the invariant L + S = C"
   ]
  },
  {
   "cell_type": "code",
   "execution_count": 68,
   "metadata": {},
   "outputs": [],
   "source": [
    "# Price impact for range of long token purchases\n",
    "initial_state = set_amm_state(10000, 100, 100, 0.5, 100)\n",
    "coin_in = np.linspace(1., 5000., 20)\n",
    "states, tok_out, avg_price = zip(\n",
    "    *[mint_swap_from_coin(initial_state, c, coin_per_pair=100, rebalance=True) for c in coin_in])"
   ]
  },
  {
   "cell_type": "code",
   "execution_count": 69,
   "metadata": {
    "scrolled": true
   },
   "outputs": [
    {
     "data": {
      "image/png": "[encoded data removed]",
      "text/plain": [
       "<Figure size 432x288 with 1 Axes>"
      ]
     },
     "metadata": {
      "needs_background": "light"
     },
     "output_type": "display_data"
    }
   ],
   "source": [
    "# Spot prices and sum\n",
    "spot_prices = np.array([get_amm_spot_prices(s) for s in states])\n",
    "_ = plt.plot(coin_in, spot_prices)\n",
    "_ = plt.plot(coin_in, np.sum(spot_prices, axis=1))\n",
    "_ = plt.legend(['Long', 'Short', 'Long + Short'])\n",
    "_ = plt.xlabel('Coin In')\n",
    "_ = plt.ylabel('Spot Price')"
   ]
  },
  {
   "cell_type": "markdown",
   "metadata": {},
   "source": [
    "#### Price comparison \n",
    "Compare average price per token between simple swap and mint swap"
   ]
  },
  {
   "cell_type": "code",
   "execution_count": 70,
   "metadata": {},
   "outputs": [
    {
     "data": {
      "text/latex": [
       "$\\displaystyle \\frac{a_{c}}{x_{l} \\left(1 - \\left(\\frac{x_{c}}{a_{c} + x_{c}}\\right)^{\\frac{w_{c}}{w_{l}}}\\right)}$"
      ],
      "text/plain": [
       "a_c/(x_l*(1 - (x_c/(a_c + x_c))**(w_c/w_l)))"
      ]
     },
     "execution_count": 70,
     "metadata": {},
     "output_type": "execute_result"
    }
   ],
   "source": [
    "simple_swap_from_coin([x_c, x_l, x_s, w_c, w_l, w_s], a_c)[2]"
   ]
  },
  {
   "cell_type": "code",
   "execution_count": 71,
   "metadata": {
    "scrolled": true
   },
   "outputs": [
    {
     "data": {
      "text/latex": [
       "$\\displaystyle \\frac{a_{c}}{x_{l} \\left(1 - \\left(\\frac{x_{s}}{x_{s} + \\frac{a_{c}}{C}}\\right)^{\\frac{w_{s}}{w_{l}}}\\right) + \\frac{a_{c}}{C}}$"
      ],
      "text/plain": [
       "a_c/(x_l*(1 - (x_s/(x_s + a_c/C))**(w_s/w_l)) + a_c/C)"
      ]
     },
     "execution_count": 71,
     "metadata": {},
     "output_type": "execute_result"
    }
   ],
   "source": [
    "mint_swap_from_coin(\n",
    "    [x_c, x_l, x_s, w_c, w_l, w_s], \n",
    "    a_c, coin_per_pair=C, rebalance=False)[2]"
   ]
  },
  {
   "cell_type": "markdown",
   "metadata": {},
   "source": [
    "# Pool balance\n",
    "What is the value of the assets in the pool?  \n",
    "* A conservative option is to count only coin and paired tokens in which case value is $x_c + \\min(x_l, x_s)*C$.  \n",
    "* A less conservative option uses the spot price of all assets in pool in which case value is $x_c + x_l*v_l*C + x_s*v_s*C$ where the current spot price fractions $v_p, v_s$ reflect the pool spot price taking into account position imbalances i.e. $v_p = \\frac{x_c}{x_l}\\frac{w_l}{w_c}/C$ etc.\n",
    "\n",
    "Use the latter value function for the moment and see how we can rebalance the pool after swap to keep the value constant."
   ]
  },
  {
   "cell_type": "code",
   "execution_count": 72,
   "metadata": {},
   "outputs": [],
   "source": [
    "def get_amm_balance(state):\n",
    "    spot_prices = get_amm_spot_prices(state)\n",
    "    return state[0] + state[1]*spot_prices[0] + state[2]*spot_prices[1]"
   ]
  },
  {
   "cell_type": "code",
   "execution_count": 73,
   "metadata": {},
   "outputs": [
    {
     "data": {
      "text/latex": [
       "$\\displaystyle 20000.0$"
      ],
      "text/plain": [
       "20000.0000000000"
      ]
     },
     "execution_count": 73,
     "metadata": {},
     "output_type": "execute_result"
    }
   ],
   "source": [
    "get_amm_balance(initial_state)"
   ]
  },
  {
   "cell_type": "code",
   "execution_count": 74,
   "metadata": {},
   "outputs": [],
   "source": [
    "# Price impact for range of long token purchases\n",
    "initial_state = set_amm_state(10000, 100, 100, 0.5, 100)\n",
    "coin_in = np.linspace(1., 5000., 20)\n",
    "# With reweighting of tokens to achieve sum pf prices equal to collateral\n",
    "states, tok_out, avg_price = zip(\n",
    "    *[mint_swap_from_coin(initial_state, c, coin_per_pair=100, rebalance=True) for c in coin_in])\n",
    "# No rebalancing, raw L->S (or S->L) swap\n",
    "states_raw, tok_out_raw, avg_price_raw = zip(\n",
    "    *[mint_swap_from_coin(initial_state, c, coin_per_pair=100, rebalance=False) for c in coin_in])"
   ]
  },
  {
   "cell_type": "code",
   "execution_count": 75,
   "metadata": {},
   "outputs": [
    {
     "data": {
      "image/png": "[encoded data removed]",
      "text/plain": [
       "<Figure size 432x288 with 1 Axes>"
      ]
     },
     "metadata": {
      "needs_background": "light"
     },
     "output_type": "display_data"
    }
   ],
   "source": [
    "# Pool balance\n",
    "balances = np.array([get_amm_balance(s) for s in states])\n",
    "balances_raw = np.array([get_amm_balance(s) for s in states_raw])\n",
    "_ = plt.plot(coin_in, balances)\n",
    "_ = plt.plot(coin_in, balances_raw) # No rebalance\n",
    "_ = plt.legend(['With Rebalance', 'No Rebalance'])\n",
    "_ = plt.xlabel('Coin In')\n",
    "_ = plt.ylabel('Pool balance')"
   ]
  },
  {
   "cell_type": "code",
   "execution_count": 76,
   "metadata": {},
   "outputs": [
    {
     "data": {
      "image/png": "[encoded data removed]",
      "text/plain": [
       "<Figure size 432x288 with 1 Axes>"
      ]
     },
     "metadata": {
      "needs_background": "light"
     },
     "output_type": "display_data"
    }
   ],
   "source": [
    "# Spot prices and sum\n",
    "spot_prices = np.array([get_amm_spot_prices(s) for s in states])\n",
    "spot_prices_raw = np.array([get_amm_spot_prices(s) for s in states_raw])\n",
    "\n",
    "_ = plt.plot(coin_in, spot_prices)\n",
    "_ = plt.plot(coin_in, np.sum(spot_prices, axis=1))\n",
    "_ = plt.plot(coin_in, spot_prices_raw, linestyle='--')\n",
    "_ = plt.plot(coin_in, np.sum(spot_prices_raw, axis=1), linestyle='--')\n",
    "_ = plt.legend(['Long', 'Short', 'Long + Short', \n",
    "                'Long (no rebalance)', 'Short (no rebalance)', 'Long + Short (no rebalance)'])\n",
    "_ = plt.xlabel('Coin In')\n",
    "_ = plt.ylabel('Spot Price')"
   ]
  },
  {
   "cell_type": "code",
   "execution_count": 77,
   "metadata": {},
   "outputs": [],
   "source": [
    "def set_amm_state_constant_balance(state, orig_balance, C, sF=0):\n",
    "    \"\"\"Keep balance constant by minting and reweighting  \n",
    "    L price = v*C, S price = (1-v)*C where C is the coin needed to mint 1 L + 1 S \n",
    "    \"\"\"\n",
    "    x_c, x_l, x_s, w_c, w_l, w_s = state\n",
    "    x_m, w_m_l, w_m_s = sp.symbols('x_m w_m_l w_m_s')\n",
    "    spot_long = calc_spot_price(x_c - C*x_m, w_c, x_l + x_m, w_l, sF)\n",
    "    spot_short = calc_spot_price(x_c - C*x_m, w_c, x_s + x_m, w_s, sF)\n",
    "    new_balance = (\n",
    "        (x_c - C*x_m) + \n",
    "        spot_long * (x_l + x_m) +\n",
    "        spot_short * (x_l + x_m)\n",
    "    )\n",
    "    \n",
    "    eqs = [  \n",
    "        new_balance - orig_balance,  # Same balance\n",
    "        spot_long + spot_short - C,  # Sum of spot prices = C\n",
    "        w_m_l + w_m_s\n",
    "    ]\n",
    "    unknowns = [x_m, w_m_l, w_m_s]\n",
    "    sol = sp.solve(eqs, unknowns)\n",
    "    return eqs, unknowns, sol\n",
    "#     return [\n",
    "#         x_c - C*sol[x_m], \n",
    "#         x_l + sol[x_m], \n",
    "#         x_s + sol[x_m], \n",
    "#         sol[w_c] - sol[w_m], \n",
    "#         sol[w_l] + sol[w_m], \n",
    "#         sol[w_s] + sol[w_m]\n",
    "#     ]"
   ]
  },
  {
   "cell_type": "code",
   "execution_count": 78,
   "metadata": {},
   "outputs": [],
   "source": [
    "def set_amm_state_constant_weight(state, v, C, sF=0):\n",
    "    \"\"\"For fixed weights calculate the token balances needed to achieve \n",
    "    L price = v*C, S price = (1-v)*C where C is the coin needed to mint 1 L + 1 S \n",
    "    \"\"\"\n",
    "    x_c, x_l, x_s, w_c, w_l, w_s = state\n",
    "    x_m, w_m_l, w_m_s = sp.symbols('x_m w_m_l w_m_s')\n",
    "    spot_long = calc_spot_price(x_c - C*x_m, w_c, x_l + x_m, w_l, sF)\n",
    "    spot_short = calc_spot_price(x_c - C*x_m, w_c, x_s + x_m, w_s, sF)\n",
    "    new_balance = (\n",
    "        (x_c - C*x_m) + \n",
    "        spot_long * (x_l + x_m) +\n",
    "        spot_short * (x_l + x_m)\n",
    "    )\n",
    "    \n",
    "    eqs = [  \n",
    "#         new_balance - orig_balance,  # Same balance\n",
    "        spot_long - v*C,\n",
    "#         spot_short - (1-v)*C,  # Sum of spot prices = C\n",
    "    ]\n",
    "    unknowns = [x_m]\n",
    "    sol = sp.solve(eqs, unknowns)\n",
    "#     return eqs, unknowns, sol\n",
    "    return [\n",
    "        x_c - C*sol[x_m], \n",
    "        x_l + sol[x_m], \n",
    "        x_s + sol[x_m], \n",
    "        w_c, \n",
    "        w_l, \n",
    "        w_s\n",
    "    ]"
   ]
  },
  {
   "cell_type": "code",
   "execution_count": 79,
   "metadata": {},
   "outputs": [
    {
     "data": {
      "text/plain": [
       "([-100*x_m + 2*(20000.0 - 200.0*x_m)*(x_m + 100)/(4.0*x_m + 400.0) - 10000.0,\n",
       "  2*(20000.0 - 200.0*x_m)/(4.0*x_m + 400.0) - 100,\n",
       "  w_m_l + w_m_s],\n",
       " [x_m, w_m_l, w_m_s],\n",
       " [(0.0, -w_m_s, w_m_s)])"
      ]
     },
     "execution_count": 79,
     "metadata": {},
     "output_type": "execute_result"
    }
   ],
   "source": [
    "set_amm_state_constant_balance(initial_state, get_amm_balance(initial_state), 100)"
   ]
  },
  {
   "cell_type": "code",
   "execution_count": 80,
   "metadata": {},
   "outputs": [
    {
     "data": {
      "text/plain": [
       "([-100*x_m + (20000.0 - 200.0*x_m)*(x_m + 98.009900990099)/(4.0*x_m + 404.0) + (20000.0 - 200.0*x_m)*(x_m + 98.009900990099)/(4.0*x_m + 392.039603960396) - 10000.0,\n",
       "  (20000.0 - 200.0*x_m)/(4.0*x_m + 404.0) + (20000.0 - 200.0*x_m)/(4.0*x_m + 392.039603960396) - 100,\n",
       "  w_m_l + w_m_s],\n",
       " [x_m, w_m_l, w_m_s],\n",
       " [])"
      ]
     },
     "execution_count": 80,
     "metadata": {},
     "output_type": "execute_result"
    }
   ],
   "source": [
    "set_amm_state_constant_balance(\n",
    "    mint_swap_from_coin(initial_state, 100, coin_per_pair=100, rebalance=False)[0], \n",
    "    get_amm_balance(initial_state), 100)"
   ]
  },
  {
   "cell_type": "code",
   "execution_count": 81,
   "metadata": {},
   "outputs": [
    {
     "data": {
      "text/latex": [
       "$\\displaystyle 19323.8095238095$"
      ],
      "text/plain": [
       "19323.8095238095"
      ]
     },
     "execution_count": 81,
     "metadata": {},
     "output_type": "execute_result"
    }
   ],
   "source": [
    "get_amm_balance(mint_swap_from_coin(initial_state, 1000, coin_per_pair=100, rebalance=True)[0])"
   ]
  },
  {
   "cell_type": "code",
   "execution_count": 82,
   "metadata": {},
   "outputs": [
    {
     "data": {
      "text/latex": [
       "$\\displaystyle 20000.0$"
      ],
      "text/plain": [
       "20000.0000000000"
      ]
     },
     "execution_count": 82,
     "metadata": {},
     "output_type": "execute_result"
    }
   ],
   "source": [
    "get_amm_balance(mint_swap_from_coin(initial_state, 1000, coin_per_pair=100, rebalance=False)[0])"
   ]
  },
  {
   "cell_type": "code",
   "execution_count": 83,
   "metadata": {},
   "outputs": [
    {
     "data": {
      "text/plain": [
       "[10000,\n",
       " 80.9090909090909,\n",
       " 110.0,\n",
       " 0.500000000000000,\n",
       " 0.250000000000000,\n",
       " 0.250000000000000]"
      ]
     },
     "execution_count": 83,
     "metadata": {},
     "output_type": "execute_result"
    }
   ],
   "source": [
    "mint_swap_from_coin(initial_state, 1000, coin_per_pair=100, rebalance=False)[0]"
   ]
  },
  {
   "cell_type": "code",
   "execution_count": 84,
   "metadata": {},
   "outputs": [
    {
     "data": {
      "text/latex": [
       "$\\displaystyle 18090.9090909091$"
      ],
      "text/plain": [
       "18090.9090909091"
      ]
     },
     "execution_count": 84,
     "metadata": {},
     "output_type": "execute_result"
    }
   ],
   "source": [
    "get_amm_balance(set_amm_state_constant_weight(\n",
    "    mint_swap_from_coin(initial_state, 1000, coin_per_pair=100, rebalance=False)[0], \n",
    "    0.5, \n",
    "    100\n",
    "))"
   ]
  },
  {
   "cell_type": "markdown",
   "metadata": {},
   "source": [
    "# Swap scenarios\n",
    "Testing different options to swap coin for position tokens and vice versa, while avoiding arbitrage opportunities and loss of liquidity.  We focus on two key aspects:\n",
    "* do the spot prices for long and short sum to the value of the undelying collateral?\n",
    "* does the balance of the autonomous market maker not decrease after a swap? "
   ]
  },
  {
   "cell_type": "code",
   "execution_count": 87,
   "metadata": {},
   "outputs": [
    {
     "data": {
      "text/plain": [
       "[10000, 100, 100, 0.500000000000000, 0.250000000000000, 0.250000000000000]"
      ]
     },
     "execution_count": 87,
     "metadata": {},
     "output_type": "execute_result"
    }
   ],
   "source": [
    "initial_state"
   ]
  },
  {
   "cell_type": "code",
   "execution_count": 88,
   "metadata": {},
   "outputs": [
    {
     "data": {
      "text/latex": [
       "$\\displaystyle 20000.0$"
      ],
      "text/plain": [
       "20000.0000000000"
      ]
     },
     "execution_count": 88,
     "metadata": {},
     "output_type": "execute_result"
    }
   ],
   "source": [
    "get_amm_balance(initial_state)"
   ]
  },
  {
   "cell_type": "code",
   "execution_count": 89,
   "metadata": {},
   "outputs": [
    {
     "data": {
      "text/plain": [
       "[50.0000000000000, 50.0000000000000]"
      ]
     },
     "execution_count": 89,
     "metadata": {},
     "output_type": "execute_result"
    }
   ],
   "source": [
    "get_amm_spot_prices(initial_state)"
   ]
  },
  {
   "cell_type": "markdown",
   "metadata": {},
   "source": [
    "## Original strategy: swap C for L directly"
   ]
  },
  {
   "cell_type": "code",
   "execution_count": 90,
   "metadata": {},
   "outputs": [],
   "source": [
    "buy_long_no_mint = simple_swap_from_coin(initial_state, 500)[0]"
   ]
  },
  {
   "cell_type": "code",
   "execution_count": 91,
   "metadata": {},
   "outputs": [
    {
     "data": {
      "text/plain": [
       "[10500,\n",
       " 90.7029478458050,\n",
       " 100,\n",
       " 0.500000000000000,\n",
       " 0.250000000000000,\n",
       " 0.250000000000000]"
      ]
     },
     "execution_count": 91,
     "metadata": {},
     "output_type": "execute_result"
    }
   ],
   "source": [
    "buy_long_no_mint"
   ]
  },
  {
   "cell_type": "code",
   "execution_count": 92,
   "metadata": {},
   "outputs": [
    {
     "data": {
      "text/plain": [
       "[57.8812500000000, 52.5000000000000]"
      ]
     },
     "execution_count": 92,
     "metadata": {},
     "output_type": "execute_result"
    }
   ],
   "source": [
    "get_amm_spot_prices(buy_long_no_mint)"
   ]
  },
  {
   "cell_type": "code",
   "execution_count": 93,
   "metadata": {},
   "outputs": [
    {
     "data": {
      "text/latex": [
       "$\\displaystyle 21000.0$"
      ],
      "text/plain": [
       "21000.0000000000"
      ]
     },
     "execution_count": 93,
     "metadata": {},
     "output_type": "execute_result"
    }
   ],
   "source": [
    "get_amm_balance(buy_long_no_mint)"
   ]
  },
  {
   "cell_type": "markdown",
   "metadata": {},
   "source": [
    "Problem: both token prices go up"
   ]
  },
  {
   "cell_type": "markdown",
   "metadata": {},
   "source": [
    "### Modification: rebalance to scale weights such that sum of long and short spot price equal collateral\n",
    "(this was actually the last thing we tried, after the minting during swap option)"
   ]
  },
  {
   "cell_type": "code",
   "execution_count": 94,
   "metadata": {},
   "outputs": [],
   "source": [
    "buy_long_no_mint_rebalance = simple_swap_from_coin(initial_state, 500, coin_per_pair=100, rebalance=True)[0]"
   ]
  },
  {
   "cell_type": "code",
   "execution_count": 95,
   "metadata": {},
   "outputs": [
    {
     "data": {
      "text/plain": [
       "[10500,\n",
       " 90.7029478458050,\n",
       " 100,\n",
       " 0.524672469623600,\n",
       " 0.237663765188200,\n",
       " 0.237663765188200]"
      ]
     },
     "execution_count": 95,
     "metadata": {},
     "output_type": "execute_result"
    }
   ],
   "source": [
    "buy_long_no_mint_rebalance"
   ]
  },
  {
   "cell_type": "code",
   "execution_count": 96,
   "metadata": {},
   "outputs": [
    {
     "data": {
      "text/plain": [
       "[52.4375743162901, 47.5624256837099]"
      ]
     },
     "execution_count": 96,
     "metadata": {},
     "output_type": "execute_result"
    }
   ],
   "source": [
    "get_amm_spot_prices(buy_long_no_mint_rebalance)"
   ]
  },
  {
   "cell_type": "code",
   "execution_count": 97,
   "metadata": {},
   "outputs": [
    {
     "data": {
      "text/latex": [
       "$\\displaystyle 20012.485136742$"
      ],
      "text/plain": [
       "20012.4851367420"
      ]
     },
     "execution_count": 97,
     "metadata": {},
     "output_type": "execute_result"
    }
   ],
   "source": [
    "get_amm_balance(buy_long_no_mint_rebalance)"
   ]
  },
  {
   "cell_type": "code",
   "execution_count": 150,
   "metadata": {},
   "outputs": [],
   "source": [
    "# Price impact for range of long token purchases\n",
    "initial_state = set_amm_state(10000, 100, 100, 0.5, 100)\n",
    "coin_in = np.linspace(1., 5000., 20)\n",
    "# With reweighting of tokens to achieve sum pf prices equal to collateral\n",
    "states, tok_out, avg_price = zip(\n",
    "    *[simple_swap_from_coin(initial_state, c, coin_per_pair=100, rebalance=True) for c in coin_in])"
   ]
  },
  {
   "cell_type": "code",
   "execution_count": 151,
   "metadata": {},
   "outputs": [
    {
     "data": {
      "image/png": "[encoded data removed]",
      "text/plain": [
       "<Figure size 432x288 with 1 Axes>"
      ]
     },
     "metadata": {
      "needs_background": "light"
     },
     "output_type": "display_data"
    }
   ],
   "source": [
    "# Pool balance\n",
    "balances = np.array([get_amm_balance(s) for s in states])\n",
    "_ = plt.plot(coin_in, balances)\n",
    "_ = plt.legend(['With Rebalance'])\n",
    "_ = plt.xlabel('Coin In')\n",
    "_ = plt.ylabel('Pool balance')"
   ]
  },
  {
   "cell_type": "code",
   "execution_count": 152,
   "metadata": {},
   "outputs": [
    {
     "data": {
      "image/png": "[encoded data removed]",
      "text/plain": [
       "<Figure size 432x288 with 1 Axes>"
      ]
     },
     "metadata": {
      "needs_background": "light"
     },
     "output_type": "display_data"
    }
   ],
   "source": [
    "# Spot prices and sum\n",
    "spot_prices = np.array([get_amm_spot_prices(s) for s in states])\n",
    "\n",
    "_ = plt.plot(coin_in, spot_prices)\n",
    "_ = plt.plot(coin_in, np.sum(spot_prices, axis=1))\n",
    "_ = plt.legend(['Long', 'Short', 'Long + Short'])\n",
    "_ = plt.xlabel('Coin In')\n",
    "_ = plt.ylabel('Spot Price')"
   ]
  },
  {
   "cell_type": "markdown",
   "metadata": {},
   "source": [
    "This looks good!  Sum of prices = 100, and balance has increased slightly (even without fees)"
   ]
  },
  {
   "cell_type": "markdown",
   "metadata": {},
   "source": [
    "## Check swapping position token for coin"
   ]
  },
  {
   "cell_type": "code",
   "execution_count": 142,
   "metadata": {},
   "outputs": [],
   "source": [
    "sell_long_no_mint_rebalance = simple_swap_to_coin(\n",
    "    buy_long_no_mint_rebalance, 100-buy_long_no_mint_rebalance[1], coin_per_pair=100, rebalance=True)[0]"
   ]
  },
  {
   "cell_type": "code",
   "execution_count": 143,
   "metadata": {},
   "outputs": [
    {
     "data": {
      "text/plain": [
       "[49.9999999999998, 49.9999999999998]"
      ]
     },
     "execution_count": 143,
     "metadata": {},
     "output_type": "execute_result"
    }
   ],
   "source": [
    "get_amm_spot_prices(sell_long_no_mint_rebalance)"
   ]
  },
  {
   "cell_type": "code",
   "execution_count": 144,
   "metadata": {},
   "outputs": [
    {
     "data": {
      "text/latex": [
       "$\\displaystyle 20045.9921189573$"
      ],
      "text/plain": [
       "20045.9921189573"
      ]
     },
     "execution_count": 144,
     "metadata": {},
     "output_type": "execute_result"
    }
   ],
   "source": [
    "get_amm_balance(sell_long_no_mint_rebalance)"
   ]
  },
  {
   "cell_type": "markdown",
   "metadata": {},
   "source": [
    "So round trip of buy L from AMM, sell L back to AMM results in the AMM gaining money.  See below for a more systematic investigation."
   ]
  },
  {
   "cell_type": "code",
   "execution_count": 154,
   "metadata": {},
   "outputs": [],
   "source": [
    "initial_state = set_amm_state(10000, 100, 100, 0.5, 100)\n",
    "tok_in = np.linspace(1., 50., 20)\n",
    "states, coin_out, avg_price = zip(\n",
    "    *[simple_swap_to_coin(initial_state, t, coin_per_pair=100, rebalance=True) \n",
    "      for t in tok_in])"
   ]
  },
  {
   "cell_type": "code",
   "execution_count": 155,
   "metadata": {},
   "outputs": [
    {
     "data": {
      "image/png": "[encoded data removed]",
      "text/plain": [
       "<Figure size 432x288 with 1 Axes>"
      ]
     },
     "metadata": {
      "needs_background": "light"
     },
     "output_type": "display_data"
    }
   ],
   "source": [
    "# Pool balance\n",
    "balances = np.array([get_amm_balance(s) for s in states])\n",
    "_ = plt.plot(tok_in, balances)\n",
    "_ = plt.legend(['With Rebalance'])\n",
    "_ = plt.xlabel('Token In')\n",
    "_ = plt.ylabel('Pool balance')"
   ]
  },
  {
   "cell_type": "code",
   "execution_count": 156,
   "metadata": {},
   "outputs": [
    {
     "data": {
      "image/png": "[encoded data removed]",
      "text/plain": [
       "<Figure size 432x288 with 1 Axes>"
      ]
     },
     "metadata": {
      "needs_background": "light"
     },
     "output_type": "display_data"
    }
   ],
   "source": [
    "spot_prices = np.array([get_amm_spot_prices(s) for s in states])\n",
    "\n",
    "_ = plt.plot(tok_in, spot_prices)\n",
    "_ = plt.plot(tok_in, np.sum(spot_prices, axis=1))\n",
    "_ = plt.legend(['Long', 'Short', 'Long + Short'])\n",
    "_ = plt.xlabel('Token In')\n",
    "_ = plt.ylabel('Spot Price')"
   ]
  },
  {
   "cell_type": "markdown",
   "metadata": {},
   "source": [
    "## Updated strategy: mint position tokens from coin during swap\n",
    "(this is now deprecated)"
   ]
  },
  {
   "cell_type": "code",
   "execution_count": 98,
   "metadata": {},
   "outputs": [],
   "source": [
    "buy_long_no_reweight = mint_swap_from_coin(initial_state, 500, coin_per_pair=100, rebalance=False)[0]"
   ]
  },
  {
   "cell_type": "code",
   "execution_count": 99,
   "metadata": {},
   "outputs": [
    {
     "data": {
      "text/plain": [
       "[10000,\n",
       " 90.2380952380952,\n",
       " 105.0,\n",
       " 0.500000000000000,\n",
       " 0.250000000000000,\n",
       " 0.250000000000000]"
      ]
     },
     "execution_count": 99,
     "metadata": {},
     "output_type": "execute_result"
    }
   ],
   "source": [
    "buy_long_no_reweight"
   ]
  },
  {
   "cell_type": "code",
   "execution_count": 100,
   "metadata": {},
   "outputs": [
    {
     "data": {
      "text/latex": [
       "$\\displaystyle 20000.0$"
      ],
      "text/plain": [
       "20000.0000000000"
      ]
     },
     "execution_count": 100,
     "metadata": {},
     "output_type": "execute_result"
    }
   ],
   "source": [
    "get_amm_balance(buy_long_no_reweight)"
   ]
  },
  {
   "cell_type": "code",
   "execution_count": 101,
   "metadata": {},
   "outputs": [
    {
     "data": {
      "text/plain": [
       "[55.4089709762533, 47.6190476190476]"
      ]
     },
     "execution_count": 101,
     "metadata": {},
     "output_type": "execute_result"
    }
   ],
   "source": [
    "get_amm_spot_prices(buy_long_no_reweight)"
   ]
  },
  {
   "cell_type": "markdown",
   "metadata": {},
   "source": [
    "Try achieving L + S = C by minting extra L and S"
   ]
  },
  {
   "cell_type": "code",
   "execution_count": 123,
   "metadata": {},
   "outputs": [],
   "source": [
    "minted = 1.\n",
    "wt_change = 0.0005\n",
    "minted_state = [10000 - 100*minted,\n",
    " 90.2380952380952 + minted,\n",
    " 105.0 + minted,\n",
    " 0.500000000000000 - wt_change,\n",
    " 0.250000000000000 + wt_change/2,\n",
    " 0.250000000000000 + wt_change/2]"
   ]
  },
  {
   "cell_type": "code",
   "execution_count": 124,
   "metadata": {},
   "outputs": [
    {
     "data": {
      "text/plain": [
       "[54.36226936748859, 46.79160292367839]"
      ]
     },
     "execution_count": 124,
     "metadata": {},
     "output_type": "execute_result"
    }
   ],
   "source": [
    "get_amm_spot_prices(minted_state)"
   ]
  },
  {
   "cell_type": "code",
   "execution_count": 125,
   "metadata": {},
   "outputs": [
    {
     "data": {
      "text/plain": [
       "19819.819819819815"
      ]
     },
     "execution_count": 125,
     "metadata": {},
     "output_type": "execute_result"
    }
   ],
   "source": [
    "get_amm_balance(minted_state)"
   ]
  },
  {
   "cell_type": "markdown",
   "metadata": {},
   "source": [
    "If we reweight the overall balance decreases"
   ]
  },
  {
   "cell_type": "code",
   "execution_count": 105,
   "metadata": {},
   "outputs": [],
   "source": [
    "buy_long_reweight = mint_swap_from_coin(initial_state, 500, coin_per_pair=100, rebalance=True)[0]"
   ]
  },
  {
   "cell_type": "code",
   "execution_count": 106,
   "metadata": {},
   "outputs": [
    {
     "data": {
      "text/plain": [
       "[10000,\n",
       " 90.2380952380952,\n",
       " 105.0,\n",
       " 0.507457144625287,\n",
       " 0.246271427687356,\n",
       " 0.246271427687357]"
      ]
     },
     "execution_count": 106,
     "metadata": {},
     "output_type": "execute_result"
    }
   ],
   "source": [
    "buy_long_reweight"
   ]
  },
  {
   "cell_type": "code",
   "execution_count": 107,
   "metadata": {},
   "outputs": [
    {
     "data": {
      "text/plain": [
       "[53.7804878048778, 46.2195121951220]"
      ]
     },
     "execution_count": 107,
     "metadata": {},
     "output_type": "execute_result"
    }
   ],
   "source": [
    "get_amm_spot_prices(buy_long_reweight)"
   ]
  },
  {
   "cell_type": "code",
   "execution_count": 108,
   "metadata": {},
   "outputs": [
    {
     "data": {
      "text/latex": [
       "$\\displaystyle 19706.0975609756$"
      ],
      "text/plain": [
       "19706.0975609756"
      ]
     },
     "execution_count": 108,
     "metadata": {},
     "output_type": "execute_result"
    }
   ],
   "source": [
    "get_amm_balance(buy_long_reweight)"
   ]
  },
  {
   "cell_type": "code",
   "execution_count": null,
   "metadata": {},
   "outputs": [],
   "source": []
  }
 ],
 "metadata": {
  "kernelspec": {
   "display_name": "Python 3",
   "language": "python",
   "name": "python3"
  },
  "language_info": {
   "codemirror_mode": {
    "name": "ipython",
    "version": 3
   },
   "file_extension": ".py",
   "mimetype": "text/x-python",
   "name": "python",
   "nbconvert_exporter": "python",
   "pygments_lexer": "ipython3",
   "version": "3.7.5"
  }
 },
 "nbformat": 4,
 "nbformat_minor": 4
}
