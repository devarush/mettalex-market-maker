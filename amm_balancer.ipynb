{
 "cells": [
  {
   "cell_type": "code",
   "execution_count": 1,
   "metadata": {},
   "outputs": [],
   "source": [
    "import sympy as sp\n",
    "import matplotlib.pyplot as plt\n",
    "import numpy as np\n",
    "import seaborn as sns"
   ]
  },
  {
   "cell_type": "code",
   "execution_count": 2,
   "metadata": {},
   "outputs": [],
   "source": [
    "%matplotlib inline"
   ]
  },
  {
   "cell_type": "code",
   "execution_count": 3,
   "metadata": {},
   "outputs": [],
   "source": [
    "# Weights\n",
    "w_c, w_l, w_s = sp.symbols('w_c w_l w_s', positive=True)\n",
    "# Token balances\n",
    "x_c, x_l, x_s = sp.symbols('x_c x_l x_s', positive=True)\n",
    "# Prices - in units of locked up collateral\n",
    "v = sp.symbols('v', positive=True) \n",
    "# Swap fee in fraction of input tokens\n",
    "s_f = sp.symbols('s_f')\n",
    "# Decimal scaling \n",
    "d_c, d_p = sp.symbols('d_c d_p', positive=True)\n",
    "# Collateral backing L + S \n",
    "# e.g. for $100.000_000_000_000_000_000 = 1.000_000 mt\n",
    "# this is 100*10**18 / 1*10**6 = 10**14\n",
    "C = sp.symbols('C', positive=True)"
   ]
  },
  {
   "cell_type": "code",
   "execution_count": 4,
   "metadata": {},
   "outputs": [],
   "source": [
    "def calc_spot_price(bI, wI, bO, wO, sF=0):\n",
    "    \"\"\"\n",
    "    calcSpotPrice                                                                             //\n",
    "     sP = spotPrice                                                                            //\n",
    "     bI = tokenBalanceIn                ( bI / wI )         1                                  //\n",
    "     bO = tokenBalanceOut         sP =  -----------  *  ----------                             //\n",
    "     wI = tokenWeightIn                 ( bO / wO )     ( 1 - sF )                             //\n",
    "     wO = tokenWeightOut                                                                       //\n",
    "     sF = swapFee \n",
    "    \"\"\"\n",
    "    return (bI/wI)/(bO/wO)/(1-sF)"
   ]
  },
  {
   "cell_type": "code",
   "execution_count": 5,
   "metadata": {},
   "outputs": [
    {
     "data": {
      "text/latex": [
       "$\\displaystyle - C v + \\frac{w_{l} x_{c}}{w_{c} x_{l}}$"
      ],
      "text/plain": [
       "-C*v + w_l*x_c/(w_c*x_l)"
      ]
     },
     "execution_count": 5,
     "metadata": {},
     "output_type": "execute_result"
    }
   ],
   "source": [
    "# e.g. condition for spot price of long token without fees to be v*C\n",
    "calc_spot_price(x_c, w_c, x_l, w_l) - v*C"
   ]
  },
  {
   "cell_type": "code",
   "execution_count": 6,
   "metadata": {},
   "outputs": [],
   "source": [
    "sol = sp.solve(\n",
    "    [w_c + w_l + w_s - 1,   # Weights sum to 1\n",
    "     calc_spot_price(x_c, w_c, x_l, w_l, 0) - v*C,      # Long token price = v*C\n",
    "     calc_spot_price(x_c, w_c, x_s, w_s, 0) - (1-v)*C,  # Short token price = (1-v)*C\n",
    "    ]\n",
    "     , [w_c, w_l, w_s])"
   ]
  },
  {
   "cell_type": "code",
   "execution_count": 7,
   "metadata": {},
   "outputs": [
    {
     "data": {
      "text/latex": [
       "$\\displaystyle \\frac{x_{c}}{C v x_{l} - C x_{s} \\left(v - 1\\right) + x_{c}}$"
      ],
      "text/plain": [
       "x_c/(C*v*x_l - C*x_s*(v - 1) + x_c)"
      ]
     },
     "execution_count": 7,
     "metadata": {},
     "output_type": "execute_result"
    }
   ],
   "source": [
    "sol[w_c]"
   ]
  },
  {
   "cell_type": "code",
   "execution_count": 8,
   "metadata": {},
   "outputs": [
    {
     "data": {
      "text/latex": [
       "$\\displaystyle \\frac{C v x_{l}}{C v x_{l} - C x_{s} \\left(v - 1\\right) + x_{c}}$"
      ],
      "text/plain": [
       "C*v*x_l/(C*v*x_l - C*x_s*(v - 1) + x_c)"
      ]
     },
     "execution_count": 8,
     "metadata": {},
     "output_type": "execute_result"
    }
   ],
   "source": [
    "sol[w_l]"
   ]
  },
  {
   "cell_type": "code",
   "execution_count": 9,
   "metadata": {},
   "outputs": [
    {
     "data": {
      "text/latex": [
       "$\\displaystyle - \\frac{C x_{s} \\left(v - 1\\right)}{C v x_{l} - C x_{s} \\left(v - 1\\right) + x_{c}}$"
      ],
      "text/plain": [
       "-C*x_s*(v - 1)/(C*v*x_l - C*x_s*(v - 1) + x_c)"
      ]
     },
     "execution_count": 9,
     "metadata": {},
     "output_type": "execute_result"
    }
   ],
   "source": [
    "sol[w_s]"
   ]
  },
  {
   "cell_type": "code",
   "execution_count": 10,
   "metadata": {},
   "outputs": [
    {
     "data": {
      "text/plain": [
       "{w_c: x_c/(C*v*x_l - C*x_s*(v - 1) + x_c),\n",
       " w_l: C*v*x_l/(C*v*x_l - C*x_s*(v - 1) + x_c),\n",
       " w_s: -C*x_s*(v - 1)/(C*v*x_l - C*x_s*(v - 1) + x_c)}"
      ]
     },
     "execution_count": 10,
     "metadata": {},
     "output_type": "execute_result"
    }
   ],
   "source": [
    "# Full set of weights needed to set the spot prices of long and short tokens\n",
    "sol"
   ]
  },
  {
   "cell_type": "code",
   "execution_count": 11,
   "metadata": {},
   "outputs": [
    {
     "data": {
      "text/latex": [
       "$\\displaystyle \\frac{C v}{1 - s_{f}}$"
      ],
      "text/plain": [
       "C*v/(1 - s_f)"
      ]
     },
     "execution_count": 11,
     "metadata": {},
     "output_type": "execute_result"
    }
   ],
   "source": [
    "# Check spot prices\n",
    "calc_spot_price(x_c, w_c, x_l, w_l, s_f).subs(sol) # Long spot price"
   ]
  },
  {
   "cell_type": "code",
   "execution_count": 12,
   "metadata": {},
   "outputs": [
    {
     "data": {
      "text/latex": [
       "$\\displaystyle - \\frac{C \\left(v - 1\\right)}{1 - s_{f}}$"
      ],
      "text/plain": [
       "-C*(v - 1)/(1 - s_f)"
      ]
     },
     "execution_count": 12,
     "metadata": {},
     "output_type": "execute_result"
    }
   ],
   "source": [
    "calc_spot_price(x_c, w_c, x_s, w_s, s_f).subs(sol)"
   ]
  },
  {
   "cell_type": "code",
   "execution_count": 13,
   "metadata": {},
   "outputs": [],
   "source": [
    "def calc_out_given_in(bO, wO, bI, wI, aI, sF=0):\n",
    "    \"\"\"\n",
    "    calcOutGivenIn                                                                            //\n",
    "     aO = tokenAmountOut                                                                       //\n",
    "     bO = tokenBalanceOut                                                                      //\n",
    "     bI = tokenBalanceIn              /      /            bI             \\    (wI / wO) \\      //\n",
    "     aI = tokenAmountIn    aO = bO * |  1 - | --------------------------  | ^            |     //\n",
    "     wI = tokenWeightIn               \\      \\ ( bI + ( aI * ( 1 - sF )) /              /      //\n",
    "     wO = tokenWeightOut                                                                       //\n",
    "     sF = swapFee \n",
    "    \"\"\"\n",
    "    return bO*(1-(bI/(bI + (aI*(1-sF))))**(wI/wO))"
   ]
  },
  {
   "cell_type": "code",
   "execution_count": 14,
   "metadata": {},
   "outputs": [],
   "source": [
    "def calc_in_given_out(bO, wO, bI, wI, aO, sF=0):\n",
    "    \"\"\"\n",
    "    calcInGivenOut                                                                            //\n",
    "     aI = tokenAmountIn                                                                        //\n",
    "     bO = tokenBalanceOut               /  /     bO      \\    (wO / wI)      \\                 //\n",
    "     bI = tokenBalanceIn          bI * |  | ------------  | ^            - 1  |                //\n",
    "     aO = tokenAmountOut    aI =        \\  \\ ( bO - aO ) /                   /                 //\n",
    "     wI = tokenWeightIn           --------------------------------------------                 //\n",
    "     wO = tokenWeightOut                          ( 1 - sF )                                   //\n",
    "     sF = swapFee                                               \n",
    "    \"\"\"\n",
    "    return bI*((bO/(bO - aO))**(wO/wI) - 1)/(1-sF)"
   ]
  },
  {
   "cell_type": "code",
   "execution_count": 15,
   "metadata": {},
   "outputs": [],
   "source": [
    "# Input token amounts for swaps\n",
    "a_c, a_l, a_s = sp.symbols('a_c a_l a_s', positive=True)"
   ]
  },
  {
   "cell_type": "code",
   "execution_count": 16,
   "metadata": {},
   "outputs": [],
   "source": [
    "n, d = sp.fraction(w_c.subs(sol))"
   ]
  },
  {
   "cell_type": "code",
   "execution_count": 17,
   "metadata": {},
   "outputs": [
    {
     "data": {
      "text/latex": [
       "$\\displaystyle x_{c}$"
      ],
      "text/plain": [
       "x_c"
      ]
     },
     "execution_count": 17,
     "metadata": {},
     "output_type": "execute_result"
    }
   ],
   "source": [
    "w_c.subs(sol).subs({d: 1})"
   ]
  },
  {
   "cell_type": "markdown",
   "metadata": {},
   "source": [
    "# Check for arbitrage: buy L, buy S, redeem for C\n"
   ]
  },
  {
   "cell_type": "code",
   "execution_count": 18,
   "metadata": {},
   "outputs": [],
   "source": [
    "# Buy long tokens for a_c collateral tokens\n",
    "x_l_O = calc_out_given_in(x_l, w_l, x_c, w_c, a_c, s_f).subs(sol).simplify()"
   ]
  },
  {
   "cell_type": "code",
   "execution_count": 19,
   "metadata": {},
   "outputs": [],
   "source": [
    "# Updated balance in pool\n",
    "x_l_1 = x_l - x_l_O\n",
    "x_c_1 = x_c + a_c"
   ]
  },
  {
   "cell_type": "code",
   "execution_count": 20,
   "metadata": {},
   "outputs": [],
   "source": [
    "# Buy same amount of short tokens \n",
    "x_c_I = calc_in_given_out(x_s, w_s, x_c_1, w_c, x_l_O, s_f).subs(sol).simplify()"
   ]
  },
  {
   "cell_type": "code",
   "execution_count": 21,
   "metadata": {},
   "outputs": [],
   "source": [
    "trade_cost = (a_c + x_c_I).simplify() # Buy long from pool, buy same amount of short\n",
    "trade_revenue = (C*x_l_O).simplify()  # Redeem long-short pair for underlying collateral"
   ]
  },
  {
   "cell_type": "code",
   "execution_count": 22,
   "metadata": {},
   "outputs": [],
   "source": [
    "# Input as fraction of balance i.e. a_c = f_c * x_c\n",
    "f_c, f_l, f_s = sp.symbols('f_c f_l f_s', positive=True)"
   ]
  },
  {
   "cell_type": "code",
   "execution_count": 23,
   "metadata": {},
   "outputs": [
    {
     "data": {
      "text/latex": [
       "$\\displaystyle f_{c} x_{c} + \\frac{\\left(1 - \\left(\\frac{x_{s}}{x_{l} \\left(\\frac{x_{c}}{- f_{c} s_{f} x_{c} + f_{c} x_{c} + x_{c}}\\right)^{\\frac{x_{c}}{C v x_{l}}} - x_{l} + x_{s}}\\right)^{- \\frac{C x_{s} \\left(v - 1\\right)}{x_{c}}}\\right) \\left(f_{c} x_{c} + x_{c}\\right)}{s_{f} - 1}$"
      ],
      "text/plain": [
       "f_c*x_c + (1 - (x_s/(x_l*(x_c/(-f_c*s_f*x_c + f_c*x_c + x_c))**(x_c/(C*v*x_l)) - x_l + x_s))**(-C*x_s*(v - 1)/x_c))*(f_c*x_c + x_c)/(s_f - 1)"
      ]
     },
     "execution_count": 23,
     "metadata": {},
     "output_type": "execute_result"
    }
   ],
   "source": [
    "trade_cost.subs({a_c: f_c*x_c}).simplify()"
   ]
  },
  {
   "cell_type": "code",
   "execution_count": 24,
   "metadata": {},
   "outputs": [
    {
     "data": {
      "text/latex": [
       "$\\displaystyle - \\frac{s_{f} x_{c}}{v}$"
      ],
      "text/plain": [
       "-s_f*x_c/v"
      ]
     },
     "execution_count": 24,
     "metadata": {},
     "output_type": "execute_result"
    }
   ],
   "source": [
    "# Look at first and second order revenue - cost \n",
    "sp.series((trade_revenue - trade_cost).subs({a_c: f_c*x_c}).simplify(), f_c, n=2).coeff(f_c, 1).simplify()"
   ]
  },
  {
   "cell_type": "code",
   "execution_count": 39,
   "metadata": {},
   "outputs": [
    {
     "data": {
      "text/latex": [
       "$\\displaystyle \\frac{x_{c} \\left(2 C s_{f} v^{2} x_{l} x_{s} + C s_{f} x_{l} x_{s} - C x_{l} x_{s} - s_{f}^{2} x_{c} x_{s} + s_{f} x_{c} x_{l} + s_{f} x_{c} x_{s} + v \\left(- C s_{f}^{2} x_{l} x_{s} - C s_{f} x_{l} x_{s} - s_{f} x_{c} x_{l} + s_{f} x_{c} x_{s} + x_{c} x_{l} - x_{c} x_{s}\\right) - x_{c} x_{l}\\right)}{2 C v^{2} x_{l} x_{s}}$"
      ],
      "text/plain": [
       "x_c*(2*C*s_f*v**2*x_l*x_s + C*s_f*x_l*x_s - C*x_l*x_s - s_f**2*x_c*x_s + s_f*x_c*x_l + s_f*x_c*x_s + v*(-C*s_f**2*x_l*x_s - C*s_f*x_l*x_s - s_f*x_c*x_l + s_f*x_c*x_s + x_c*x_l - x_c*x_s) - x_c*x_l)/(2*C*v**2*x_l*x_s)"
      ]
     },
     "execution_count": 39,
     "metadata": {},
     "output_type": "execute_result"
    }
   ],
   "source": [
    "n=2\n",
    "sp.series((trade_revenue - trade_cost).subs({a_c: f_c*x_c}).simplify(), f_c, n=n+1).coeff(f_c, n).simplify().collect(v)"
   ]
  },
  {
   "cell_type": "markdown",
   "metadata": {},
   "source": [
    "# Check for arbitrage: mint C, sell L, sell S "
   ]
  },
  {
   "cell_type": "code",
   "execution_count": 43,
   "metadata": {},
   "outputs": [],
   "source": [
    "# Buy coin tokens for long tokens\n",
    "x_c_O = calc_out_given_in(x_c, w_c, x_l, w_l, a_l, s_f).subs(sol).simplify()"
   ]
  },
  {
   "cell_type": "code",
   "execution_count": 44,
   "metadata": {},
   "outputs": [],
   "source": [
    "# Updated balance in pool\n",
    "y_l_1 = x_l + a_l\n",
    "y_c_1 = x_c - x_c_O"
   ]
  },
  {
   "cell_type": "code",
   "execution_count": 47,
   "metadata": {},
   "outputs": [],
   "source": [
    "# Buy coin tokens for same amount of short tokens \n",
    "x_c_O_2 = calc_out_given_in(y_c_1, w_c, x_s, w_s, a_l, s_f).subs(sol).simplify()"
   ]
  },
  {
   "cell_type": "code",
   "execution_count": 48,
   "metadata": {},
   "outputs": [],
   "source": [
    "trade_cost_mint = (a_l * C).simplify() # Mint long and short \n",
    "trade_revenue_mint = (x_c_O + x_c_O_2).simplify()  # Redeem long-short pair for underlying collateral"
   ]
  },
  {
   "cell_type": "code",
   "execution_count": 51,
   "metadata": {},
   "outputs": [
    {
     "data": {
      "text/latex": [
       "$\\displaystyle C a_{l}$"
      ],
      "text/plain": [
       "C*a_l"
      ]
     },
     "execution_count": 51,
     "metadata": {},
     "output_type": "execute_result"
    }
   ],
   "source": [
    "trade_cost_mint"
   ]
  },
  {
   "cell_type": "code",
   "execution_count": 52,
   "metadata": {},
   "outputs": [
    {
     "data": {
      "text/latex": [
       "$\\displaystyle - x_{c} \\left(\\frac{x_{l}}{- a_{l} s_{f} + a_{l} + x_{l}}\\right)^{\\frac{C v x_{l}}{x_{c}}} \\left(\\frac{x_{s}}{- a_{l} s_{f} + a_{l} + x_{s}}\\right)^{\\frac{C x_{s}}{x_{c}}} \\left(\\frac{x_{s}}{- a_{l} s_{f} + a_{l} + x_{s}}\\right)^{- \\frac{C v x_{s}}{x_{c}}} + x_{c}$"
      ],
      "text/plain": [
       "-x_c*(x_l/(-a_l*s_f + a_l + x_l))**(C*v*x_l/x_c)*(x_s/(-a_l*s_f + a_l + x_s))**(C*x_s/x_c)*(x_s/(-a_l*s_f + a_l + x_s))**(-C*v*x_s/x_c) + x_c"
      ]
     },
     "execution_count": 52,
     "metadata": {},
     "output_type": "execute_result"
    }
   ],
   "source": [
    "trade_revenue_mint"
   ]
  },
  {
   "cell_type": "code",
   "execution_count": 55,
   "metadata": {},
   "outputs": [
    {
     "data": {
      "text/latex": [
       "$\\displaystyle f_{l}^{2} \\left(- \\frac{C^{2} s_{f}^{2} x_{l}^{2}}{2 x_{c}} + \\frac{C^{2} s_{f} x_{l}^{2}}{x_{c}} - \\frac{C^{2} x_{l}^{2}}{2 x_{c}} + \\frac{C s_{f}^{2} v x_{l}^{2}}{2 x_{s}} - \\frac{C s_{f}^{2} v x_{l}}{2} - \\frac{C s_{f}^{2} x_{l}^{2}}{2 x_{s}} - \\frac{C s_{f} v x_{l}^{2}}{x_{s}} + C s_{f} v x_{l} + \\frac{C s_{f} x_{l}^{2}}{x_{s}} + \\frac{C v x_{l}^{2}}{2 x_{s}} - \\frac{C v x_{l}}{2} - \\frac{C x_{l}^{2}}{2 x_{s}}\\right) - C f_{l} s_{f} x_{l} + O\\left(f_{l}^{3}\\right)$"
      ],
      "text/plain": [
       "f_l**2*(-C**2*s_f**2*x_l**2/(2*x_c) + C**2*s_f*x_l**2/x_c - C**2*x_l**2/(2*x_c) + C*s_f**2*v*x_l**2/(2*x_s) - C*s_f**2*v*x_l/2 - C*s_f**2*x_l**2/(2*x_s) - C*s_f*v*x_l**2/x_s + C*s_f*v*x_l + C*s_f*x_l**2/x_s + C*v*x_l**2/(2*x_s) - C*v*x_l/2 - C*x_l**2/(2*x_s)) - C*f_l*s_f*x_l + O(f_l**3)"
      ]
     },
     "execution_count": 55,
     "metadata": {},
     "output_type": "execute_result"
    }
   ],
   "source": [
    "sp.series((trade_revenue_mint - trade_cost_mint).subs({a_l: f_l*x_l}).simplify(), f_l, n=3)#.coeff(f_l, 1).simplify()"
   ]
  },
  {
   "cell_type": "markdown",
   "metadata": {},
   "source": [
    "Consider now pair balance and difference with $x_l = (x_p + x_d)/2$ and $x_s = (x_p - x_d)/2$ so that we can introduce a budget constraint $x_c + C*x_p = b_c$"
   ]
  },
  {
   "cell_type": "code",
   "execution_count": 26,
   "metadata": {},
   "outputs": [],
   "source": [
    "x_p, x_d = sp.symbols('x_p x_c')\n",
    "subs_dict = {x_l: (x_p + x_d)/2, x_s: (x_p - x_d)/2}"
   ]
  },
  {
   "cell_type": "code",
   "execution_count": 27,
   "metadata": {},
   "outputs": [],
   "source": [
    "b_c = sp.symbols('b_c')\n",
    "budget_subs_dict = {x_c: b_c - C*x_p}"
   ]
  },
  {
   "cell_type": "code",
   "execution_count": 28,
   "metadata": {},
   "outputs": [
    {
     "data": {
      "text/latex": [
       "$\\displaystyle \\frac{2 x_{c}}{2 C v x_{c} - C x_{c} + C x_{p} + 2 x_{c}}$"
      ],
      "text/plain": [
       "2*x_c/(2*C*v*x_c - C*x_c + C*x_p + 2*x_c)"
      ]
     },
     "execution_count": 28,
     "metadata": {},
     "output_type": "execute_result"
    }
   ],
   "source": [
    "sol[w_c].subs(subs_dict).simplify()"
   ]
  },
  {
   "cell_type": "code",
   "execution_count": 29,
   "metadata": {},
   "outputs": [
    {
     "data": {
      "text/latex": [
       "$\\displaystyle \\frac{C v \\left(x_{c} + x_{p}\\right)}{2 C v x_{c} - C x_{c} + C x_{p} + 2 x_{c}}$"
      ],
      "text/plain": [
       "C*v*(x_c + x_p)/(2*C*v*x_c - C*x_c + C*x_p + 2*x_c)"
      ]
     },
     "execution_count": 29,
     "metadata": {},
     "output_type": "execute_result"
    }
   ],
   "source": [
    "sol[w_l].subs(subs_dict).simplify()"
   ]
  },
  {
   "cell_type": "code",
   "execution_count": 30,
   "metadata": {},
   "outputs": [
    {
     "data": {
      "text/latex": [
       "$\\displaystyle \\frac{C \\left(v - 1\\right) \\left(x_{c} - x_{p}\\right)}{C v \\left(x_{c} + x_{p}\\right) + C \\left(v - 1\\right) \\left(x_{c} - x_{p}\\right) + 2 x_{c}}$"
      ],
      "text/plain": [
       "C*(v - 1)*(x_c - x_p)/(C*v*(x_c + x_p) + C*(v - 1)*(x_c - x_p) + 2*x_c)"
      ]
     },
     "execution_count": 30,
     "metadata": {},
     "output_type": "execute_result"
    }
   ],
   "source": [
    "sol[w_s].subs(subs_dict).simplify()"
   ]
  },
  {
   "cell_type": "code",
   "execution_count": 31,
   "metadata": {},
   "outputs": [
    {
     "data": {
      "text/latex": [
       "$\\displaystyle 1$"
      ],
      "text/plain": [
       "1"
      ]
     },
     "execution_count": 31,
     "metadata": {},
     "output_type": "execute_result"
    }
   ],
   "source": [
    "(sol[w_c] + sol[w_l] + sol[w_s]).simplify()"
   ]
  },
  {
   "cell_type": "code",
   "execution_count": 32,
   "metadata": {},
   "outputs": [
    {
     "data": {
      "text/latex": [
       "$\\displaystyle \\frac{- 2 C x_{p} + 2 b_{c}}{2 C v x_{c} - C x_{c} - C x_{p} + 2 b_{c}}$"
      ],
      "text/plain": [
       "(-2*C*x_p + 2*b_c)/(2*C*v*x_c - C*x_c - C*x_p + 2*b_c)"
      ]
     },
     "execution_count": 32,
     "metadata": {},
     "output_type": "execute_result"
    }
   ],
   "source": [
    "sol[w_c].subs(subs_dict).subs(budget_subs_dict).simplify()"
   ]
  },
  {
   "cell_type": "code",
   "execution_count": 33,
   "metadata": {},
   "outputs": [
    {
     "data": {
      "text/latex": [
       "$\\displaystyle \\frac{2 C \\left(- 2 C v x_{c} + C x_{c} - b_{c}\\right)}{\\left(2 C v x_{c} - C x_{c} - C x_{p} + 2 b_{c}\\right)^{2}}$"
      ],
      "text/plain": [
       "2*C*(-2*C*v*x_c + C*x_c - b_c)/(2*C*v*x_c - C*x_c - C*x_p + 2*b_c)**2"
      ]
     },
     "execution_count": 33,
     "metadata": {},
     "output_type": "execute_result"
    }
   ],
   "source": [
    "sol[w_c].subs(subs_dict).subs(budget_subs_dict).simplify().diff(x_p).simplify()"
   ]
  },
  {
   "cell_type": "code",
   "execution_count": 35,
   "metadata": {},
   "outputs": [],
   "source": [
    "?sp.symbols"
   ]
  },
  {
   "cell_type": "code",
   "execution_count": null,
   "metadata": {},
   "outputs": [],
   "source": []
  }
 ],
 "metadata": {
  "kernelspec": {
   "display_name": "Python 3",
   "language": "python",
   "name": "python3"
  },
  "language_info": {
   "codemirror_mode": {
    "name": "ipython",
    "version": 3
   },
   "file_extension": ".py",
   "mimetype": "text/x-python",
   "name": "python",
   "nbconvert_exporter": "python",
   "pygments_lexer": "ipython3",
   "version": "3.7.5"
  }
 },
 "nbformat": 4,
 "nbformat_minor": 4
}
