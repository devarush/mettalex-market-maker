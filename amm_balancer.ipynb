{
 "cells": [
  {
   "cell_type": "code",
   "execution_count": 1,
   "metadata": {},
   "outputs": [],
   "source": [
    "import sympy as sp\n",
    "import matplotlib.pyplot as plt\n",
    "import numpy as np\n",
    "import seaborn as sns"
   ]
  },
  {
   "cell_type": "code",
   "execution_count": 2,
   "metadata": {},
   "outputs": [],
   "source": [
    "%matplotlib inline"
   ]
  },
  {
   "cell_type": "code",
   "execution_count": 3,
   "metadata": {},
   "outputs": [],
   "source": [
    "# Weights\n",
    "w_c, w_l, w_s = sp.symbols('w_c w_l w_s', positive=True)\n",
    "# Token balances\n",
    "x_c, x_l, x_s = sp.symbols('x_c x_l x_s', positive=True)\n",
    "# Prices - in units of locked up collateral\n",
    "v = sp.symbols('v', positive=True) \n",
    "# Swap fee in fraction of input tokens\n",
    "s_f = sp.symbols('s_f')\n",
    "# Decimal scaling \n",
    "d_c, d_p = sp.symbols('d_c d_p', positive=True)\n",
    "# Collateral backing L + S \n",
    "# e.g. for $100.000_000_000_000_000_000 = 1.000_000 mt\n",
    "# this is 100*10**18 / 1*10**6 = 10**14\n",
    "C = sp.symbols('C', positive=True)"
   ]
  },
  {
   "cell_type": "code",
   "execution_count": 4,
   "metadata": {},
   "outputs": [],
   "source": [
    "def calc_spot_price(bI, wI, bO, wO, sF=0):\n",
    "    \"\"\"\n",
    "    calcSpotPrice                                                                             //\n",
    "     sP = spotPrice                                                                            //\n",
    "     bI = tokenBalanceIn                ( bI / wI )         1                                  //\n",
    "     bO = tokenBalanceOut         sP =  -----------  *  ----------                             //\n",
    "     wI = tokenWeightIn                 ( bO / wO )     ( 1 - sF )                             //\n",
    "     wO = tokenWeightOut                                                                       //\n",
    "     sF = swapFee \n",
    "    \"\"\"\n",
    "    return (bI/wI)/(bO/wO)/(1-sF)"
   ]
  },
  {
   "cell_type": "code",
   "execution_count": 5,
   "metadata": {},
   "outputs": [
    {
     "data": {
      "text/latex": [
       "$\\displaystyle - C v + \\frac{w_{l} x_{c}}{w_{c} x_{l}}$"
      ],
      "text/plain": [
       "-C*v + w_l*x_c/(w_c*x_l)"
      ]
     },
     "execution_count": 5,
     "metadata": {},
     "output_type": "execute_result"
    }
   ],
   "source": [
    "# e.g. condition for spot price of long token without fees to be v*C\n",
    "calc_spot_price(x_c, w_c, x_l, w_l) - v*C"
   ]
  },
  {
   "cell_type": "code",
   "execution_count": 6,
   "metadata": {},
   "outputs": [],
   "source": [
    "sol = sp.solve(\n",
    "    [w_c + w_l + w_s - 1,   # Weights sum to 1\n",
    "     calc_spot_price(x_c, w_c, x_l, w_l, 0) - v*C,      # Long token price = v*C\n",
    "     calc_spot_price(x_c, w_c, x_s, w_s, 0) - (1-v)*C,  # Short token price = (1-v)*C\n",
    "    ]\n",
    "     , [w_c, w_l, w_s])"
   ]
  },
  {
   "cell_type": "code",
   "execution_count": 7,
   "metadata": {},
   "outputs": [
    {
     "data": {
      "text/latex": [
       "$\\displaystyle \\frac{x_{c}}{C v x_{l} - C x_{s} \\left(v - 1\\right) + x_{c}}$"
      ],
      "text/plain": [
       "x_c/(C*v*x_l - C*x_s*(v - 1) + x_c)"
      ]
     },
     "execution_count": 7,
     "metadata": {},
     "output_type": "execute_result"
    }
   ],
   "source": [
    "sol[w_c]"
   ]
  },
  {
   "cell_type": "code",
   "execution_count": 8,
   "metadata": {},
   "outputs": [
    {
     "data": {
      "text/latex": [
       "$\\displaystyle \\frac{C v x_{l}}{C v x_{l} - C x_{s} \\left(v - 1\\right) + x_{c}}$"
      ],
      "text/plain": [
       "C*v*x_l/(C*v*x_l - C*x_s*(v - 1) + x_c)"
      ]
     },
     "execution_count": 8,
     "metadata": {},
     "output_type": "execute_result"
    }
   ],
   "source": [
    "sol[w_l]"
   ]
  },
  {
   "cell_type": "code",
   "execution_count": 9,
   "metadata": {},
   "outputs": [
    {
     "data": {
      "text/latex": [
       "$\\displaystyle - \\frac{C x_{s} \\left(v - 1\\right)}{C v x_{l} - C x_{s} \\left(v - 1\\right) + x_{c}}$"
      ],
      "text/plain": [
       "-C*x_s*(v - 1)/(C*v*x_l - C*x_s*(v - 1) + x_c)"
      ]
     },
     "execution_count": 9,
     "metadata": {},
     "output_type": "execute_result"
    }
   ],
   "source": [
    "sol[w_s]"
   ]
  },
  {
   "cell_type": "code",
   "execution_count": 10,
   "metadata": {},
   "outputs": [
    {
     "data": {
      "text/plain": [
       "{w_c: x_c/(C*v*x_l - C*x_s*(v - 1) + x_c),\n",
       " w_l: C*v*x_l/(C*v*x_l - C*x_s*(v - 1) + x_c),\n",
       " w_s: -C*x_s*(v - 1)/(C*v*x_l - C*x_s*(v - 1) + x_c)}"
      ]
     },
     "execution_count": 10,
     "metadata": {},
     "output_type": "execute_result"
    }
   ],
   "source": [
    "# Full set of weights needed to set the spot prices of long and short tokens\n",
    "sol"
   ]
  },
  {
   "cell_type": "code",
   "execution_count": 11,
   "metadata": {},
   "outputs": [
    {
     "data": {
      "text/latex": [
       "$\\displaystyle \\frac{C v}{1 - s_{f}}$"
      ],
      "text/plain": [
       "C*v/(1 - s_f)"
      ]
     },
     "execution_count": 11,
     "metadata": {},
     "output_type": "execute_result"
    }
   ],
   "source": [
    "# Check spot prices\n",
    "calc_spot_price(x_c, w_c, x_l, w_l, s_f).subs(sol) # Long spot price"
   ]
  },
  {
   "cell_type": "code",
   "execution_count": 12,
   "metadata": {},
   "outputs": [
    {
     "data": {
      "text/latex": [
       "$\\displaystyle - \\frac{C \\left(v - 1\\right)}{1 - s_{f}}$"
      ],
      "text/plain": [
       "-C*(v - 1)/(1 - s_f)"
      ]
     },
     "execution_count": 12,
     "metadata": {},
     "output_type": "execute_result"
    }
   ],
   "source": [
    "calc_spot_price(x_c, w_c, x_s, w_s, s_f).subs(sol)"
   ]
  },
  {
   "cell_type": "code",
   "execution_count": 13,
   "metadata": {},
   "outputs": [],
   "source": [
    "def calc_out_given_in(bO, wO, bI, wI, aI, sF=0):\n",
    "    \"\"\"\n",
    "    calcOutGivenIn                                                                            //\n",
    "     aO = tokenAmountOut                                                                       //\n",
    "     bO = tokenBalanceOut                                                                      //\n",
    "     bI = tokenBalanceIn              /      /            bI             \\    (wI / wO) \\      //\n",
    "     aI = tokenAmountIn    aO = bO * |  1 - | --------------------------  | ^            |     //\n",
    "     wI = tokenWeightIn               \\      \\ ( bI + ( aI * ( 1 - sF )) /              /      //\n",
    "     wO = tokenWeightOut                                                                       //\n",
    "     sF = swapFee \n",
    "    \"\"\"\n",
    "    return bO*(1-(bI/(bI + (aI*(1-sF))))**(wI/wO))"
   ]
  },
  {
   "cell_type": "code",
   "execution_count": 14,
   "metadata": {},
   "outputs": [],
   "source": [
    "def calc_in_given_out(bO, wO, bI, wI, aO, sF=0):\n",
    "    \"\"\"\n",
    "    calcInGivenOut                                                                            //\n",
    "     aI = tokenAmountIn                                                                        //\n",
    "     bO = tokenBalanceOut               /  /     bO      \\    (wO / wI)      \\                 //\n",
    "     bI = tokenBalanceIn          bI * |  | ------------  | ^            - 1  |                //\n",
    "     aO = tokenAmountOut    aI =        \\  \\ ( bO - aO ) /                   /                 //\n",
    "     wI = tokenWeightIn           --------------------------------------------                 //\n",
    "     wO = tokenWeightOut                          ( 1 - sF )                                   //\n",
    "     sF = swapFee                                               \n",
    "    \"\"\"\n",
    "    return bI*((bO/(bO - aO))**(wO/wI) - 1)/(1-sF)"
   ]
  },
  {
   "cell_type": "code",
   "execution_count": 15,
   "metadata": {},
   "outputs": [],
   "source": [
    "# Input token amounts for swaps\n",
    "a_c, a_l, a_s = sp.symbols('a_c a_l a_s', positive=True)"
   ]
  },
  {
   "cell_type": "code",
   "execution_count": 16,
   "metadata": {},
   "outputs": [],
   "source": [
    "n, d = sp.fraction(w_c.subs(sol))"
   ]
  },
  {
   "cell_type": "code",
   "execution_count": 17,
   "metadata": {},
   "outputs": [
    {
     "data": {
      "text/latex": [
       "$\\displaystyle x_{c}$"
      ],
      "text/plain": [
       "x_c"
      ]
     },
     "execution_count": 17,
     "metadata": {},
     "output_type": "execute_result"
    }
   ],
   "source": [
    "w_c.subs(sol).subs({d: 1})"
   ]
  },
  {
   "cell_type": "markdown",
   "metadata": {},
   "source": [
    "# Check for arbitrage: buy L, buy S, redeem for C\n"
   ]
  },
  {
   "cell_type": "code",
   "execution_count": 18,
   "metadata": {},
   "outputs": [],
   "source": [
    "# Buy long tokens for a_c collateral tokens\n",
    "x_l_O = calc_out_given_in(x_l, w_l, x_c, w_c, a_c, s_f).subs(sol).simplify()"
   ]
  },
  {
   "cell_type": "code",
   "execution_count": 19,
   "metadata": {},
   "outputs": [],
   "source": [
    "# Updated balance in pool\n",
    "x_l_1 = x_l - x_l_O\n",
    "x_c_1 = x_c + a_c"
   ]
  },
  {
   "cell_type": "code",
   "execution_count": 20,
   "metadata": {},
   "outputs": [],
   "source": [
    "# Buy same amount of short tokens \n",
    "x_c_I = calc_in_given_out(x_s, w_s, x_c_1, w_c, x_l_O, s_f).subs(sol).simplify()"
   ]
  },
  {
   "cell_type": "code",
   "execution_count": 21,
   "metadata": {},
   "outputs": [],
   "source": [
    "trade_cost = (a_c + x_c_I).simplify() # Buy long from pool, buy same amount of short\n",
    "trade_revenue = (C*x_l_O).simplify()  # Redeem long-short pair for underlying collateral"
   ]
  },
  {
   "cell_type": "code",
   "execution_count": 22,
   "metadata": {},
   "outputs": [],
   "source": [
    "# Input as fraction of balance i.e. a_c = f_c * x_c\n",
    "f_c, f_l, f_s = sp.symbols('f_c f_l f_s', positive=True)"
   ]
  },
  {
   "cell_type": "code",
   "execution_count": 23,
   "metadata": {},
   "outputs": [
    {
     "data": {
      "text/latex": [
       "$\\displaystyle f_{c} x_{c} + \\frac{\\left(1 - \\left(\\frac{x_{s}}{x_{l} \\left(\\frac{x_{c}}{- f_{c} s_{f} x_{c} + f_{c} x_{c} + x_{c}}\\right)^{\\frac{x_{c}}{C v x_{l}}} - x_{l} + x_{s}}\\right)^{- \\frac{C x_{s} \\left(v - 1\\right)}{x_{c}}}\\right) \\left(f_{c} x_{c} + x_{c}\\right)}{s_{f} - 1}$"
      ],
      "text/plain": [
       "f_c*x_c + (1 - (x_s/(x_l*(x_c/(-f_c*s_f*x_c + f_c*x_c + x_c))**(x_c/(C*v*x_l)) - x_l + x_s))**(-C*x_s*(v - 1)/x_c))*(f_c*x_c + x_c)/(s_f - 1)"
      ]
     },
     "execution_count": 23,
     "metadata": {},
     "output_type": "execute_result"
    }
   ],
   "source": [
    "trade_cost.subs({a_c: f_c*x_c}).simplify()"
   ]
  },
  {
   "cell_type": "code",
   "execution_count": 24,
   "metadata": {},
   "outputs": [
    {
     "data": {
      "text/latex": [
       "$\\displaystyle - \\frac{s_{f} x_{c}}{v}$"
      ],
      "text/plain": [
       "-s_f*x_c/v"
      ]
     },
     "execution_count": 24,
     "metadata": {},
     "output_type": "execute_result"
    }
   ],
   "source": [
    "# Look at first and second order revenue - cost \n",
    "sp.series((trade_revenue - trade_cost).subs({a_c: f_c*x_c}).simplify(), f_c, n=2).coeff(f_c, 1).simplify()"
   ]
  },
  {
   "cell_type": "code",
   "execution_count": 25,
   "metadata": {},
   "outputs": [
    {
     "data": {
      "text/latex": [
       "$\\displaystyle \\frac{x_{c} \\left(2 C s_{f} v^{2} x_{l} x_{s} + C s_{f} x_{l} x_{s} - C x_{l} x_{s} - s_{f}^{2} x_{c} x_{s} + s_{f} x_{c} x_{l} + s_{f} x_{c} x_{s} + v \\left(- C s_{f}^{2} x_{l} x_{s} - C s_{f} x_{l} x_{s} - s_{f} x_{c} x_{l} + s_{f} x_{c} x_{s} + x_{c} x_{l} - x_{c} x_{s}\\right) - x_{c} x_{l}\\right)}{2 C v^{2} x_{l} x_{s}}$"
      ],
      "text/plain": [
       "x_c*(2*C*s_f*v**2*x_l*x_s + C*s_f*x_l*x_s - C*x_l*x_s - s_f**2*x_c*x_s + s_f*x_c*x_l + s_f*x_c*x_s + v*(-C*s_f**2*x_l*x_s - C*s_f*x_l*x_s - s_f*x_c*x_l + s_f*x_c*x_s + x_c*x_l - x_c*x_s) - x_c*x_l)/(2*C*v**2*x_l*x_s)"
      ]
     },
     "execution_count": 25,
     "metadata": {},
     "output_type": "execute_result"
    }
   ],
   "source": [
    "n=2\n",
    "sp.series((trade_revenue - trade_cost).subs({a_c: f_c*x_c}).simplify(), f_c, n=n+1).coeff(f_c, n).simplify().collect(v)"
   ]
  },
  {
   "cell_type": "markdown",
   "metadata": {},
   "source": [
    "# Check for arbitrage: mint from C, sell L, sell S "
   ]
  },
  {
   "cell_type": "code",
   "execution_count": 26,
   "metadata": {},
   "outputs": [],
   "source": [
    "# Buy coin tokens for long tokens\n",
    "x_c_O = calc_out_given_in(x_c, w_c, x_l, w_l, a_l, s_f).subs(sol).simplify()"
   ]
  },
  {
   "cell_type": "code",
   "execution_count": 27,
   "metadata": {},
   "outputs": [],
   "source": [
    "# Updated balance in pool\n",
    "y_l_1 = x_l + a_l\n",
    "y_c_1 = x_c - x_c_O"
   ]
  },
  {
   "cell_type": "code",
   "execution_count": 28,
   "metadata": {},
   "outputs": [],
   "source": [
    "# Buy coin tokens for same amount of short tokens \n",
    "x_c_O_2 = calc_out_given_in(y_c_1, w_c, x_s, w_s, a_l, s_f).subs(sol).simplify()"
   ]
  },
  {
   "cell_type": "code",
   "execution_count": 29,
   "metadata": {},
   "outputs": [],
   "source": [
    "trade_cost_mint = (a_l * C).simplify() # Mint long and short \n",
    "trade_revenue_mint = (x_c_O + x_c_O_2).simplify()  # Redeem long-short pair for underlying collateral"
   ]
  },
  {
   "cell_type": "code",
   "execution_count": 30,
   "metadata": {},
   "outputs": [
    {
     "data": {
      "text/latex": [
       "$\\displaystyle C a_{l}$"
      ],
      "text/plain": [
       "C*a_l"
      ]
     },
     "execution_count": 30,
     "metadata": {},
     "output_type": "execute_result"
    }
   ],
   "source": [
    "trade_cost_mint"
   ]
  },
  {
   "cell_type": "code",
   "execution_count": 31,
   "metadata": {},
   "outputs": [
    {
     "data": {
      "text/latex": [
       "$\\displaystyle - x_{c} \\left(\\frac{x_{l}}{- a_{l} s_{f} + a_{l} + x_{l}}\\right)^{\\frac{C v x_{l}}{x_{c}}} \\left(\\frac{x_{s}}{- a_{l} s_{f} + a_{l} + x_{s}}\\right)^{\\frac{C x_{s}}{x_{c}}} \\left(\\frac{x_{s}}{- a_{l} s_{f} + a_{l} + x_{s}}\\right)^{- \\frac{C v x_{s}}{x_{c}}} + x_{c}$"
      ],
      "text/plain": [
       "-x_c*(x_l/(-a_l*s_f + a_l + x_l))**(C*v*x_l/x_c)*(x_s/(-a_l*s_f + a_l + x_s))**(C*x_s/x_c)*(x_s/(-a_l*s_f + a_l + x_s))**(-C*v*x_s/x_c) + x_c"
      ]
     },
     "execution_count": 31,
     "metadata": {},
     "output_type": "execute_result"
    }
   ],
   "source": [
    "trade_revenue_mint"
   ]
  },
  {
   "cell_type": "code",
   "execution_count": 32,
   "metadata": {},
   "outputs": [
    {
     "data": {
      "text/latex": [
       "$\\displaystyle f_{l}^{2} \\left(- \\frac{C^{2} s_{f}^{2} x_{l}^{2}}{2 x_{c}} + \\frac{C^{2} s_{f} x_{l}^{2}}{x_{c}} - \\frac{C^{2} x_{l}^{2}}{2 x_{c}} + \\frac{C s_{f}^{2} v x_{l}^{2}}{2 x_{s}} - \\frac{C s_{f}^{2} v x_{l}}{2} - \\frac{C s_{f}^{2} x_{l}^{2}}{2 x_{s}} - \\frac{C s_{f} v x_{l}^{2}}{x_{s}} + C s_{f} v x_{l} + \\frac{C s_{f} x_{l}^{2}}{x_{s}} + \\frac{C v x_{l}^{2}}{2 x_{s}} - \\frac{C v x_{l}}{2} - \\frac{C x_{l}^{2}}{2 x_{s}}\\right) - C f_{l} s_{f} x_{l} + O\\left(f_{l}^{3}\\right)$"
      ],
      "text/plain": [
       "f_l**2*(-C**2*s_f**2*x_l**2/(2*x_c) + C**2*s_f*x_l**2/x_c - C**2*x_l**2/(2*x_c) + C*s_f**2*v*x_l**2/(2*x_s) - C*s_f**2*v*x_l/2 - C*s_f**2*x_l**2/(2*x_s) - C*s_f*v*x_l**2/x_s + C*s_f*v*x_l + C*s_f*x_l**2/x_s + C*v*x_l**2/(2*x_s) - C*v*x_l/2 - C*x_l**2/(2*x_s)) - C*f_l*s_f*x_l + O(f_l**3)"
      ]
     },
     "execution_count": 32,
     "metadata": {},
     "output_type": "execute_result"
    }
   ],
   "source": [
    "sp.series((trade_revenue_mint - trade_cost_mint).subs({a_l: f_l*x_l}).simplify(), f_l, n=3)#.coeff(f_l, 1).simplify()"
   ]
  },
  {
   "cell_type": "markdown",
   "metadata": {},
   "source": [
    "# Next section WIP - ignore"
   ]
  },
  {
   "cell_type": "markdown",
   "metadata": {},
   "source": [
    "Consider now pair balance and difference with $x_l = (x_p + x_d)/2$ and $x_s = (x_p - x_d)/2$ so that we can introduce a budget constraint $x_c + C*x_p = b_c$"
   ]
  },
  {
   "cell_type": "code",
   "execution_count": 33,
   "metadata": {},
   "outputs": [],
   "source": [
    "x_p, x_d = sp.symbols('x_p x_c')\n",
    "subs_dict = {x_l: (x_p + x_d)/2, x_s: (x_p - x_d)/2}"
   ]
  },
  {
   "cell_type": "code",
   "execution_count": 34,
   "metadata": {},
   "outputs": [],
   "source": [
    "b_c = sp.symbols('b_c')\n",
    "budget_subs_dict = {x_c: b_c - C*x_p}"
   ]
  },
  {
   "cell_type": "code",
   "execution_count": 35,
   "metadata": {},
   "outputs": [
    {
     "data": {
      "text/latex": [
       "$\\displaystyle \\frac{2 x_{c}}{2 C v x_{c} - C x_{c} + C x_{p} + 2 x_{c}}$"
      ],
      "text/plain": [
       "2*x_c/(2*C*v*x_c - C*x_c + C*x_p + 2*x_c)"
      ]
     },
     "execution_count": 35,
     "metadata": {},
     "output_type": "execute_result"
    }
   ],
   "source": [
    "sol[w_c].subs(subs_dict).simplify()"
   ]
  },
  {
   "cell_type": "code",
   "execution_count": 36,
   "metadata": {},
   "outputs": [
    {
     "data": {
      "text/latex": [
       "$\\displaystyle \\frac{C v \\left(x_{c} + x_{p}\\right)}{2 C v x_{c} - C x_{c} + C x_{p} + 2 x_{c}}$"
      ],
      "text/plain": [
       "C*v*(x_c + x_p)/(2*C*v*x_c - C*x_c + C*x_p + 2*x_c)"
      ]
     },
     "execution_count": 36,
     "metadata": {},
     "output_type": "execute_result"
    }
   ],
   "source": [
    "sol[w_l].subs(subs_dict).simplify()"
   ]
  },
  {
   "cell_type": "code",
   "execution_count": 37,
   "metadata": {},
   "outputs": [
    {
     "data": {
      "text/latex": [
       "$\\displaystyle \\frac{C \\left(v - 1\\right) \\left(x_{c} - x_{p}\\right)}{C v \\left(x_{c} + x_{p}\\right) + C \\left(v - 1\\right) \\left(x_{c} - x_{p}\\right) + 2 x_{c}}$"
      ],
      "text/plain": [
       "C*(v - 1)*(x_c - x_p)/(C*v*(x_c + x_p) + C*(v - 1)*(x_c - x_p) + 2*x_c)"
      ]
     },
     "execution_count": 37,
     "metadata": {},
     "output_type": "execute_result"
    }
   ],
   "source": [
    "sol[w_s].subs(subs_dict).simplify()"
   ]
  },
  {
   "cell_type": "code",
   "execution_count": 38,
   "metadata": {},
   "outputs": [
    {
     "data": {
      "text/latex": [
       "$\\displaystyle 1$"
      ],
      "text/plain": [
       "1"
      ]
     },
     "execution_count": 38,
     "metadata": {},
     "output_type": "execute_result"
    }
   ],
   "source": [
    "(sol[w_c] + sol[w_l] + sol[w_s]).simplify()"
   ]
  },
  {
   "cell_type": "code",
   "execution_count": 39,
   "metadata": {},
   "outputs": [
    {
     "data": {
      "text/latex": [
       "$\\displaystyle \\frac{- 2 C x_{p} + 2 b_{c}}{2 C v x_{c} - C x_{c} - C x_{p} + 2 b_{c}}$"
      ],
      "text/plain": [
       "(-2*C*x_p + 2*b_c)/(2*C*v*x_c - C*x_c - C*x_p + 2*b_c)"
      ]
     },
     "execution_count": 39,
     "metadata": {},
     "output_type": "execute_result"
    }
   ],
   "source": [
    "sol[w_c].subs(subs_dict).subs(budget_subs_dict).simplify()"
   ]
  },
  {
   "cell_type": "code",
   "execution_count": 40,
   "metadata": {},
   "outputs": [
    {
     "data": {
      "text/latex": [
       "$\\displaystyle \\frac{2 C \\left(- 2 C v x_{c} + C x_{c} - b_{c}\\right)}{\\left(2 C v x_{c} - C x_{c} - C x_{p} + 2 b_{c}\\right)^{2}}$"
      ],
      "text/plain": [
       "2*C*(-2*C*v*x_c + C*x_c - b_c)/(2*C*v*x_c - C*x_c - C*x_p + 2*b_c)**2"
      ]
     },
     "execution_count": 40,
     "metadata": {},
     "output_type": "execute_result"
    }
   ],
   "source": [
    "sol[w_c].subs(subs_dict).subs(budget_subs_dict).simplify().diff(x_p).simplify()"
   ]
  },
  {
   "cell_type": "markdown",
   "metadata": {},
   "source": [
    "(stop ignoring)"
   ]
  },
  {
   "cell_type": "markdown",
   "metadata": {},
   "source": [
    "# Check for arbitrage: have L, swap fL for (1-f)S, redeem (1-f)C (buy L?) "
   ]
  },
  {
   "cell_type": "code",
   "execution_count": 41,
   "metadata": {},
   "outputs": [],
   "source": [
    "x_s_O = calc_out_given_in(x_s, w_s, x_l, w_l, f_l*a_l, s_f).subs(sol).simplify()"
   ]
  },
  {
   "cell_type": "code",
   "execution_count": 42,
   "metadata": {},
   "outputs": [
    {
     "data": {
      "text/latex": [
       "$\\displaystyle f_{l}^{2} \\left(- \\frac{a_{l}^{2} s_{f}^{2} v^{2} x_{s}}{2 \\left(v^{2} x_{s}^{2} - 2 v x_{s}^{2} + x_{s}^{2}\\right)} + \\frac{a_{l}^{2} s_{f}^{2} v x_{s}}{2 v x_{l} x_{s} - 2 x_{l} x_{s}} + \\frac{a_{l}^{2} s_{f} v^{2} x_{s}}{v^{2} x_{s}^{2} - 2 v x_{s}^{2} + x_{s}^{2}} - \\frac{a_{l}^{2} s_{f} v x_{s}}{v x_{l} x_{s} - x_{l} x_{s}} - \\frac{a_{l}^{2} v^{2} x_{s}}{2 \\left(v^{2} x_{s}^{2} - 2 v x_{s}^{2} + x_{s}^{2}\\right)} + \\frac{a_{l}^{2} v x_{s}}{2 v x_{l} x_{s} - 2 x_{l} x_{s}}\\right) + f_{l} \\left(\\frac{a_{l} s_{f} v x_{s}}{v x_{s} - x_{s}} - \\frac{a_{l} v x_{s}}{v x_{s} - x_{s}}\\right)$"
      ],
      "text/plain": [
       "f_l**2*(-a_l**2*s_f**2*v**2*x_s/(2*(v**2*x_s**2 - 2*v*x_s**2 + x_s**2)) + a_l**2*s_f**2*v*x_s/(2*v*x_l*x_s - 2*x_l*x_s) + a_l**2*s_f*v**2*x_s/(v**2*x_s**2 - 2*v*x_s**2 + x_s**2) - a_l**2*s_f*v*x_s/(v*x_l*x_s - x_l*x_s) - a_l**2*v**2*x_s/(2*(v**2*x_s**2 - 2*v*x_s**2 + x_s**2)) + a_l**2*v*x_s/(2*v*x_l*x_s - 2*x_l*x_s)) + f_l*(a_l*s_f*v*x_s/(v*x_s - x_s) - a_l*v*x_s/(v*x_s - x_s))"
      ]
     },
     "execution_count": 42,
     "metadata": {},
     "output_type": "execute_result"
    }
   ],
   "source": [
    "sp.series(x_s_O, f_l, n=3).removeO()"
   ]
  },
  {
   "cell_type": "code",
   "execution_count": 43,
   "metadata": {},
   "outputs": [
    {
     "data": {
      "text/latex": [
       "$\\displaystyle \\frac{v - 1}{s_{f} v - 1}$"
      ],
      "text/plain": [
       "(v - 1)/(s_f*v - 1)"
      ]
     },
     "execution_count": 43,
     "metadata": {},
     "output_type": "execute_result"
    }
   ],
   "source": [
    "sp.solve((1-f_l)*a_l - sp.series(x_s_O, f_l, n=2).removeO(), f_l)[0].simplify()"
   ]
  },
  {
   "cell_type": "markdown",
   "metadata": {},
   "source": [
    "# Buying L without increasing S price\n",
    "The direct swap of C for L increases the price of L in terms of C because the amount of L in the pool decreases and the amount of C in the pool decreases.  However the S price also increases due to the increase in amount of C.  This allows an arbitrage whereby another user can mint L + S from C and swap with the pool.\n",
    "\n",
    "To avoid this we can convert the swap into:\n",
    "* mint a*(L + S) pairs from fraction $a$ of the C\n",
    "* swap $(1-a)$ C for L\n",
    "* swap $a$ S for L\n",
    "with constraints on the spot pricees of L for C, L for S, S for C.  "
   ]
  },
  {
   "cell_type": "code",
   "execution_count": 44,
   "metadata": {},
   "outputs": [
    {
     "data": {
      "text/latex": [
       "$\\displaystyle C$"
      ],
      "text/plain": [
       "C"
      ]
     },
     "execution_count": 44,
     "metadata": {},
     "output_type": "execute_result"
    }
   ],
   "source": [
    "(calc_spot_price(x_c, w_c, x_s, w_s, 0) + calc_spot_price(x_c, w_c, x_l, w_l, 0)).subs(sol).simplify()"
   ]
  },
  {
   "cell_type": "code",
   "execution_count": 45,
   "metadata": {},
   "outputs": [
    {
     "data": {
      "text/latex": [
       "$\\displaystyle f_{l} \\left(- \\frac{s_{f} x_{c}}{C v} + \\frac{x_{c}}{C v}\\right) + f_{l}^{2} \\left(- \\frac{s_{f}^{2} x_{c}}{2 C v} + \\frac{s_{f} x_{c}}{C v} - \\frac{x_{c}}{2 C v} - \\frac{s_{f}^{2} x_{c}^{2}}{2 C^{2} v^{2} x_{l}} + \\frac{s_{f} x_{c}^{2}}{C^{2} v^{2} x_{l}} - \\frac{x_{c}^{2}}{2 C^{2} v^{2} x_{l}}\\right) + O\\left(f_{l}^{3}\\right)$"
      ],
      "text/plain": [
       "f_l*(-s_f*x_c/(C*v) + x_c/(C*v)) + f_l**2*(-s_f**2*x_c/(2*C*v) + s_f*x_c/(C*v) - x_c/(2*C*v) - s_f**2*x_c**2/(2*C**2*v**2*x_l) + s_f*x_c**2/(C**2*v**2*x_l) - x_c**2/(2*C**2*v**2*x_l)) + O(f_l**3)"
      ]
     },
     "execution_count": 45,
     "metadata": {},
     "output_type": "execute_result"
    }
   ],
   "source": [
    "sp.series(calc_out_given_in(x_l, w_l, x_c, w_c, f_l*x_c, s_f).subs(sol).simplify(), f_l, n=3)"
   ]
  },
  {
   "cell_type": "code",
   "execution_count": 46,
   "metadata": {},
   "outputs": [
    {
     "data": {
      "text/latex": [
       "$\\displaystyle \\frac{C \\left(\\frac{x_{c}}{- a_{c} s_{f} + a_{c} + x_{c}}\\right)^{- \\frac{x_{c}}{C v x_{l}}} \\left(a_{c} + x_{c}\\right) \\left(v - \\left(\\frac{x_{c}}{- a_{c} s_{f} + a_{c} + x_{c}}\\right)^{\\frac{x_{c}}{C v x_{l}}} \\left(v - 1\\right)\\right)}{x_{c}}$"
      ],
      "text/plain": [
       "C*(x_c/(-a_c*s_f + a_c + x_c))**(-x_c/(C*v*x_l))*(a_c + x_c)*(v - (x_c/(-a_c*s_f + a_c + x_c))**(x_c/(C*v*x_l))*(v - 1))/x_c"
      ]
     },
     "execution_count": 46,
     "metadata": {},
     "output_type": "execute_result"
    }
   ],
   "source": [
    "(calc_spot_price(x_c + a_c, w_c, x_s, w_s, 0) + \n",
    " calc_spot_price(x_c + a_c, w_c, x_l - calc_out_given_in(x_l, w_l, x_c, w_c, a_c, s_f).subs(sol).simplify(), w_l, 0)\n",
    ").subs(sol).simplify()"
   ]
  },
  {
   "cell_type": "markdown",
   "metadata": {},
   "source": [
    "If we set $a = 1$ then the amount of C does not change.  We can rebalance the weights to ensure L + S = C. Represent the state of the pool as \n",
    "\n",
    "    [x_c, x_l, x_s, w_c, w_l, w_s] \n",
    "    \n",
    "and show how this changes as various operations are performed."
   ]
  },
  {
   "cell_type": "code",
   "execution_count": 58,
   "metadata": {},
   "outputs": [],
   "source": [
    "def set_amm_state(x_c, x_l, x_s, v, C, sF=0):\n",
    "    \"\"\"For fixed token balances calculate the weights needed to achieve \n",
    "    L price = v*C, S price = (1-v)*C where C is the coin needed to mint 1 L + 1 S \n",
    "    \"\"\"\n",
    "    sol = sp.solve(\n",
    "    [w_c + w_l + w_s - 1,   # Weights sum to 1\n",
    "     calc_spot_price(x_c, w_c, x_l, w_l, sF) - v*C,      # Long token price = v*C\n",
    "     calc_spot_price(x_c, w_c, x_s, w_s, sF) - (1-v)*C,  # Short token price = (1-v)*C\n",
    "    ]\n",
    "     , [w_c, w_l, w_s])\n",
    "    return [x_c, x_l, x_s, sol[w_c], sol[w_l], sol[w_s]]"
   ]
  },
  {
   "cell_type": "code",
   "execution_count": 66,
   "metadata": {},
   "outputs": [],
   "source": [
    "def get_amm_spot_prices(state, sF=0):\n",
    "    \"\"\"Return L and S prices in units of coin\n",
    "    \"\"\"\n",
    "    coin_ind = 0\n",
    "    ltk_ind = 1\n",
    "    stk_ind = 2\n",
    "    n_tok = len(state) // 2\n",
    "    ltk_price, stk_price = (\n",
    "        calc_spot_price(\n",
    "            state[coin_ind], state[coin_ind + n_tok],\n",
    "            state[tok_ind], state[tok_ind + n_tok],\n",
    "            sF) for tok_ind in [ltk_ind, stk_ind]\n",
    "    )\n",
    "    return [ltk_price, stk_price]"
   ]
  },
  {
   "cell_type": "code",
   "execution_count": 70,
   "metadata": {},
   "outputs": [
    {
     "data": {
      "text/plain": [
       "[50.0000000000000, 50.0000000000000]"
      ]
     },
     "execution_count": 70,
     "metadata": {},
     "output_type": "execute_result"
    }
   ],
   "source": [
    "# Check that we get the correct price \n",
    "get_amm_spot_prices(\n",
    "    set_amm_state(\n",
    "        10000,   # $10 000\n",
    "        100,     # 100 L\n",
    "        100,     # 100 S\n",
    "        0.5, 100    # L price is 0.5*$100\n",
    "    )\n",
    ")"
   ]
  },
  {
   "cell_type": "code",
   "execution_count": 71,
   "metadata": {},
   "outputs": [
    {
     "data": {
      "text/plain": [
       "[50.0000000000000, 50.0000000000000]"
      ]
     },
     "execution_count": 71,
     "metadata": {},
     "output_type": "execute_result"
    }
   ],
   "source": [
    "# Note that we don't need to have the same number of tokens to achieve equal L and S price\n",
    "# as the weights can achieve any price\n",
    "get_amm_spot_prices(\n",
    "    set_amm_state(\n",
    "        10000,   # $10 000\n",
    "        100,     # 100 L\n",
    "        10,      # 10 S\n",
    "        0.5, 100    # L price is 0.5*$100\n",
    "    )\n",
    ")"
   ]
  },
  {
   "cell_type": "markdown",
   "metadata": {},
   "source": [
    "## Trading - simple swaps \n",
    "Look at what happens when we trade with the pool without using the Mettalex vault to mint and redeem tokens.  We see arbitrage opportunities being created when L + S != C"
   ]
  },
  {
   "cell_type": "code",
   "execution_count": 85,
   "metadata": {},
   "outputs": [],
   "source": [
    "def simple_swap_from_coin(state, aI, to_long=True, sF=0):\n",
    "    \"\"\"Swap a_c coins in for specified token (1=L, 2=S)\n",
    "    \"\"\"\n",
    "    tok_ind = 1 if to_long else 2\n",
    "    coin_ind = 0\n",
    "    n_tok = len(state) // 2\n",
    "    # calc_out_given_in(bO, wO, bI, wI, aI, sF=0)\n",
    "    bO = state[tok_ind]\n",
    "    wO = state[tok_ind + n_tok]\n",
    "    bI = state[coin_ind]\n",
    "    wI = state[coin_ind + n_tok]\n",
    "    aO = calc_out_given_in(bO, wO, bI, wI, aI, sF)\n",
    "    avg_price = aI / aO  # Price paid to AMM in coin for each position token\n",
    "    if to_long:\n",
    "        new_state = [\n",
    "            state[0] + aI,\n",
    "            state[1] - aO,\n",
    "            state[2],\n",
    "            state[3], state[4], state[5]\n",
    "        ]\n",
    "    else:\n",
    "        new_state = [\n",
    "            state[0] + aI,\n",
    "            state[1],\n",
    "            state[2] - aO,\n",
    "            state[3], state[4], state[5]\n",
    "        ]\n",
    "    \n",
    "    return new_state, aO, avg_price"
   ]
  },
  {
   "cell_type": "code",
   "execution_count": 96,
   "metadata": {},
   "outputs": [
    {
     "data": {
      "text/plain": [
       "([10500,\n",
       "  90.7029478458050,\n",
       "  100,\n",
       "  0.500000000000000,\n",
       "  0.250000000000000,\n",
       "  0.250000000000000],\n",
       " 9.29705215419502,\n",
       " 53.7804878048780)"
      ]
     },
     "execution_count": 96,
     "metadata": {},
     "output_type": "execute_result"
    }
   ],
   "source": [
    "simple_swap_from_coin(set_amm_state(10000, 100, 100, 0.5, 100), 500)"
   ]
  },
  {
   "cell_type": "code",
   "execution_count": 95,
   "metadata": {},
   "outputs": [
    {
     "data": {
      "text/plain": [
       "[57.8812500000000, 52.5000000000000]"
      ]
     },
     "execution_count": 95,
     "metadata": {},
     "output_type": "execute_result"
    }
   ],
   "source": [
    "get_amm_spot_prices(simple_swap_from_coin(set_amm_state(10000, 100, 100, 0.5, 100), 500)[0])"
   ]
  },
  {
   "cell_type": "code",
   "execution_count": 89,
   "metadata": {},
   "outputs": [],
   "source": [
    "def simple_swap_to_coin(state, aI, from_long=True, sF=0):\n",
    "    \"\"\"Swap position tokens in for coin\n",
    "    \"\"\"\n",
    "    tok_ind = 1 if from_long else 2\n",
    "    coin_ind = 0\n",
    "    n_tok = len(state) // 2\n",
    "    # calc_out_given_in(bO, wO, bI, wI, aI, sF=0)\n",
    "    bO = state[coin_ind]\n",
    "    wO = state[coin_ind + n_tok]\n",
    "    bI = state[tok_ind]\n",
    "    wI = state[tok_ind + n_tok]\n",
    "    aO = calc_out_given_in(bO, wO, bI, wI, aI, sF)\n",
    "    avg_price = aO / aI  # Price in coin paid for input position token\n",
    "    if from_long:\n",
    "        new_state = [\n",
    "            state[0] - aO,\n",
    "            state[1] + aI,\n",
    "            state[2],\n",
    "            state[3], state[4], state[5]\n",
    "        ]\n",
    "    else:\n",
    "        new_state = [\n",
    "            state[0] - aO,\n",
    "            state[1],\n",
    "            state[2] + aI,\n",
    "            state[3], state[4], state[5]\n",
    "        ]\n",
    "    \n",
    "    return new_state, aO, avg_price"
   ]
  },
  {
   "cell_type": "code",
   "execution_count": 93,
   "metadata": {},
   "outputs": [
    {
     "data": {
      "text/plain": [
       "([9950.37190209989,\n",
       "  101,\n",
       "  100,\n",
       "  0.500000000000000,\n",
       "  0.250000000000000,\n",
       "  0.250000000000000],\n",
       " 49.6280979001085,\n",
       " 49.6280979001085)"
      ]
     },
     "execution_count": 93,
     "metadata": {},
     "output_type": "execute_result"
    }
   ],
   "source": [
    "simple_swap_to_coin(set_amm_state(10000, 100, 100, 0.5, 100), 1)"
   ]
  },
  {
   "cell_type": "markdown",
   "metadata": {},
   "source": [
    "### Price impact for purchasing position tokens "
   ]
  },
  {
   "cell_type": "code",
   "execution_count": 134,
   "metadata": {},
   "outputs": [],
   "source": [
    "# Price impact for range of long token purchases\n",
    "initial_state = set_amm_state(10000, 100, 100, 0.5, 100)\n",
    "coin_in = np.linspace(1., 5000., 20)\n",
    "states, tok_out, avg_price = zip(*[simple_swap_from_coin(initial_state, c) for c in coin_in])"
   ]
  },
  {
   "cell_type": "code",
   "execution_count": 135,
   "metadata": {},
   "outputs": [
    {
     "data": {
      "image/png": "[encoded data removed]",
      "text/plain": [
       "<Figure size 432x288 with 1 Axes>"
      ]
     },
     "metadata": {
      "needs_background": "light"
     },
     "output_type": "display_data"
    }
   ],
   "source": [
    "_ = plt.plot(coin_in, avg_price)\n",
    "_ = plt.xlabel('Coin In')\n",
    "_ = plt.ylabel('Average token price')"
   ]
  },
  {
   "cell_type": "code",
   "execution_count": 136,
   "metadata": {},
   "outputs": [
    {
     "data": {
      "image/png": "[encoded data removed]",
      "text/plain": [
       "<Figure size 432x288 with 1 Axes>"
      ]
     },
     "metadata": {
      "needs_background": "light"
     },
     "output_type": "display_data"
    }
   ],
   "source": [
    "_ = plt.plot(coin_in, tok_out)\n",
    "_ = plt.xlabel('Coin In')\n",
    "_ = plt.ylabel('Tokens Out')"
   ]
  },
  {
   "cell_type": "code",
   "execution_count": 137,
   "metadata": {},
   "outputs": [
    {
     "data": {
      "image/png": "[encoded data removed]",
      "text/plain": [
       "<Figure size 432x288 with 1 Axes>"
      ]
     },
     "metadata": {
      "needs_background": "light"
     },
     "output_type": "display_data"
    }
   ],
   "source": [
    "# Spot prices and sum\n",
    "spot_prices = np.array([get_amm_spot_prices(s) for s in states])\n",
    "_ = plt.plot(coin_in, spot_prices)\n",
    "_ = plt.plot(coin_in, np.sum(spot_prices, axis=1))\n",
    "_ = plt.legend(['Long', 'Short', 'Long + Short'])\n",
    "_ = plt.xlabel('Coin In')\n",
    "_ = plt.ylabel('Spot Price')"
   ]
  },
  {
   "cell_type": "markdown",
   "metadata": {},
   "source": [
    "### Price impact for selling position tokens"
   ]
  },
  {
   "cell_type": "code",
   "execution_count": 138,
   "metadata": {},
   "outputs": [],
   "source": [
    "initial_state = set_amm_state(10000, 100, 100, 0.5, 100)\n",
    "tok_in = np.linspace(1., 5000., 20)\n",
    "states, coin_out, avg_price = zip(*[simple_swap_to_coin(initial_state, t) for t in tok_in])"
   ]
  },
  {
   "cell_type": "code",
   "execution_count": 139,
   "metadata": {},
   "outputs": [
    {
     "data": {
      "image/png": "[encoded data removed]",
      "text/plain": [
       "<Figure size 432x288 with 1 Axes>"
      ]
     },
     "metadata": {
      "needs_background": "light"
     },
     "output_type": "display_data"
    }
   ],
   "source": [
    "_ = plt.plot(coin_in, avg_price)\n",
    "_ = plt.xlabel('Token In')\n",
    "_ = plt.ylabel('Average token price')"
   ]
  },
  {
   "cell_type": "code",
   "execution_count": 140,
   "metadata": {},
   "outputs": [
    {
     "data": {
      "image/png": "[encoded data removed]",
      "text/plain": [
       "<Figure size 432x288 with 1 Axes>"
      ]
     },
     "metadata": {
      "needs_background": "light"
     },
     "output_type": "display_data"
    }
   ],
   "source": [
    "_ = plt.plot(tok_in, coin_out)\n",
    "_ = plt.xlabel('Token In')\n",
    "_ = plt.ylabel('Coin Out')"
   ]
  },
  {
   "cell_type": "code",
   "execution_count": 141,
   "metadata": {},
   "outputs": [
    {
     "data": {
      "image/png": "[encoded data removed]",
      "text/plain": [
       "<Figure size 432x288 with 1 Axes>"
      ]
     },
     "metadata": {
      "needs_background": "light"
     },
     "output_type": "display_data"
    }
   ],
   "source": [
    "# Spot prices and sum\n",
    "spot_prices = np.array([get_amm_spot_prices(s) for s in states])\n",
    "_ = plt.plot(tok_in, spot_prices)\n",
    "_ = plt.plot(tok_in, np.sum(spot_prices, axis=1))\n",
    "_ = plt.legend(['Long', 'Short', 'Long + Short'])\n",
    "_ = plt.xlabel('Token In')\n",
    "_ = plt.ylabel('Spot Price')"
   ]
  },
  {
   "cell_type": "markdown",
   "metadata": {},
   "source": [
    "## Trading - swaps with minting\n",
    "The simple swap from coin to a position token increases the price of the other position token as well, which creates an arbitrage opportunity.  To avoid this we instead mint a long and short pair from the input coin then swap the unwanted position."
   ]
  },
  {
   "cell_type": "code",
   "execution_count": 159,
   "metadata": {},
   "outputs": [],
   "source": [
    "def mint_swap_from_coin(state, aI, to_long=True, sF=0, coin_per_pair=1, rebalance=False):\n",
    "    \"\"\"Swap a_c coins in for specified token (1=L, 2=S)\n",
    "    \"\"\"\n",
    "    tok_ind = 1 if to_long else 2\n",
    "    coin_ind = 2 if to_long else 1  # The 'coin' we are using here is the other position token\n",
    "    n_tok = len(state) // 2\n",
    "    # calc_out_given_in(bO, wO, bI, wI, aI, sF=0)\n",
    "    bO = state[tok_ind]\n",
    "    wO = state[tok_ind + n_tok]\n",
    "    bI = state[coin_ind]\n",
    "    wI = state[coin_ind + n_tok]\n",
    "    a_mint = aI/coin_per_pair  # Mint long + short pair\n",
    "    aO = calc_out_given_in(bO, wO, bI, wI, a_mint, sF) + a_mint\n",
    "    avg_price = aI / aO  # Price paid to AMM in coin for each position token\n",
    "    if to_long:\n",
    "        new_state = [\n",
    "            state[0] ,\n",
    "            state[1] - aO,\n",
    "            state[2] + a_mint,\n",
    "            state[3], state[4], state[5]\n",
    "        ]\n",
    "    else:\n",
    "        new_state = [\n",
    "            state[0] ,\n",
    "            state[1] + a_mint,\n",
    "            state[2] - aO,\n",
    "            state[3], state[4], state[5]\n",
    "        ]\n",
    "    if rebalance:\n",
    "        new_spot = get_amm_spot_prices(new_state)\n",
    "        new_state = set_amm_state(\n",
    "            new_state[0], new_state[1], new_state[2],\n",
    "            new_spot[0]/(new_spot[0] + new_spot[1]),\n",
    "            coin_per_pair\n",
    "        )\n",
    "    \n",
    "    return new_state, aO, avg_price"
   ]
  },
  {
   "cell_type": "code",
   "execution_count": 160,
   "metadata": {},
   "outputs": [
    {
     "data": {
      "text/plain": [
       "([10000,\n",
       "  99.0024875621891,\n",
       "  100.5,\n",
       "  0.500000000000000,\n",
       "  0.250000000000000,\n",
       "  0.250000000000000],\n",
       " 0.997512437810943,\n",
       " 50.1246882793019)"
      ]
     },
     "execution_count": 160,
     "metadata": {},
     "output_type": "execute_result"
    }
   ],
   "source": [
    "mint_swap_from_coin(initial_state, 50, coin_per_pair=100)"
   ]
  },
  {
   "cell_type": "code",
   "execution_count": 144,
   "metadata": {},
   "outputs": [],
   "source": [
    "# Price impact for range of long token purchases\n",
    "initial_state = set_amm_state(10000, 100, 100, 0.5, 100)\n",
    "coin_in = np.linspace(1., 5000., 20)\n",
    "states, tok_out, avg_price = zip(*[mint_swap_from_coin(initial_state, c, coin_per_pair=100) for c in coin_in])"
   ]
  },
  {
   "cell_type": "code",
   "execution_count": 145,
   "metadata": {},
   "outputs": [
    {
     "data": {
      "image/png": "[encoded data removed]",
      "text/plain": [
       "<Figure size 432x288 with 1 Axes>"
      ]
     },
     "metadata": {
      "needs_background": "light"
     },
     "output_type": "display_data"
    }
   ],
   "source": [
    "# Spot prices and sum\n",
    "spot_prices = np.array([get_amm_spot_prices(s) for s in states])\n",
    "_ = plt.plot(coin_in, spot_prices)\n",
    "_ = plt.plot(coin_in, np.sum(spot_prices, axis=1))\n",
    "_ = plt.legend(['Long', 'Short', 'Long + Short'])\n",
    "_ = plt.xlabel('Coin In')\n",
    "_ = plt.ylabel('Spot Price')"
   ]
  },
  {
   "cell_type": "markdown",
   "metadata": {},
   "source": [
    "#### Spot prices for purchasing position token then rebalancing\n",
    "After doing the swap we can keep the same token balances but reweight to keep the invariant L + S = C"
   ]
  },
  {
   "cell_type": "code",
   "execution_count": 153,
   "metadata": {},
   "outputs": [],
   "source": [
    "# Price impact for range of long token purchases\n",
    "initial_state = set_amm_state(10000, 100, 100, 0.5, 100)\n",
    "coin_in = np.linspace(1., 5000., 20)\n",
    "states, tok_out, avg_price = zip(\n",
    "    *[mint_swap_from_coin(initial_state, c, coin_per_pair=100, rebalance=True) for c in coin_in])"
   ]
  },
  {
   "cell_type": "code",
   "execution_count": 154,
   "metadata": {
    "scrolled": true
   },
   "outputs": [
    {
     "data": {
      "image/png": "[encoded data removed]",
      "text/plain": [
       "<Figure size 432x288 with 1 Axes>"
      ]
     },
     "metadata": {
      "needs_background": "light"
     },
     "output_type": "display_data"
    }
   ],
   "source": [
    "# Spot prices and sum\n",
    "spot_prices = np.array([get_amm_spot_prices(s) for s in states])\n",
    "_ = plt.plot(coin_in, spot_prices)\n",
    "_ = plt.plot(coin_in, np.sum(spot_prices, axis=1))\n",
    "_ = plt.legend(['Long', 'Short', 'Long + Short'])\n",
    "_ = plt.xlabel('Coin In')\n",
    "_ = plt.ylabel('Spot Price')"
   ]
  },
  {
   "cell_type": "markdown",
   "metadata": {},
   "source": [
    "#### Price comparison \n",
    "Compare average price per token between simple swap and mint swap"
   ]
  },
  {
   "cell_type": "code",
   "execution_count": 158,
   "metadata": {},
   "outputs": [
    {
     "data": {
      "text/latex": [
       "$\\displaystyle \\frac{a_{c}}{x_{l} \\left(1 - \\left(\\frac{x_{c}}{a_{c} + x_{c}}\\right)^{\\frac{w_{c}}{w_{l}}}\\right)}$"
      ],
      "text/plain": [
       "a_c/(x_l*(1 - (x_c/(a_c + x_c))**(w_c/w_l)))"
      ]
     },
     "execution_count": 158,
     "metadata": {},
     "output_type": "execute_result"
    }
   ],
   "source": [
    "simple_swap_from_coin([x_c, x_l, x_s, w_c, w_l, w_s], a_c)[2]"
   ]
  },
  {
   "cell_type": "code",
   "execution_count": 157,
   "metadata": {},
   "outputs": [
    {
     "data": {
      "text/latex": [
       "$\\displaystyle \\frac{a_{c}}{x_{l} \\left(1 - \\left(\\frac{x_{s}}{x_{s} + \\frac{a_{c}}{C}}\\right)^{\\frac{w_{s}}{w_{l}}}\\right) + \\frac{a_{c}}{C}}$"
      ],
      "text/plain": [
       "a_c/(x_l*(1 - (x_s/(x_s + a_c/C))**(w_s/w_l)) + a_c/C)"
      ]
     },
     "execution_count": 157,
     "metadata": {},
     "output_type": "execute_result"
    }
   ],
   "source": [
    "mint_swap_from_coin(\n",
    "    [x_c, x_l, x_s, w_c, w_l, w_s], \n",
    "    a_c, coin_per_pair=C, rebalance=False)[2]"
   ]
  },
  {
   "cell_type": "code",
   "execution_count": null,
   "metadata": {},
   "outputs": [],
   "source": []
  }
 ],
 "metadata": {
  "kernelspec": {
   "display_name": "Python 3",
   "language": "python",
   "name": "python3"
  },
  "language_info": {
   "codemirror_mode": {
    "name": "ipython",
    "version": 3
   },
   "file_extension": ".py",
   "mimetype": "text/x-python",
   "name": "python",
   "nbconvert_exporter": "python",
   "pygments_lexer": "ipython3",
   "version": "3.7.5"
  }
 },
 "nbformat": 4,
 "nbformat_minor": 4
}
