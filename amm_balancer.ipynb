{
 "cells": [
  {
   "cell_type": "code",
   "execution_count": 1,
   "metadata": {},
   "outputs": [],
   "source": [
    "import sympy as sp\n",
    "import matplotlib.pyplot as plt\n",
    "import numpy as np\n",
    "import seaborn as sns"
   ]
  },
  {
   "cell_type": "code",
   "execution_count": 2,
   "metadata": {},
   "outputs": [],
   "source": [
    "%matplotlib inline"
   ]
  },
  {
   "cell_type": "code",
   "execution_count": 3,
   "metadata": {},
   "outputs": [],
   "source": [
    "# Weights\n",
    "w_c, w_l, w_s = sp.symbols('w_c w_l w_s')\n",
    "# Token balances\n",
    "x_c, x_l, x_s = sp.symbols('x_c x_l x_s')\n",
    "# Prices - in units of locked up collateral\n",
    "v = sp.symbols('v') \n",
    "# Decimal scaling \n",
    "d_c, d_p = sp.symbols('d_c d_p')\n",
    "# Collateral backing L + S \n",
    "# e.g. for $100.000_000_000_000_000_000 = 1.000_000 mt\n",
    "# this is 100*10**18 / 1*10**6 = 10**14\n",
    "C = sp.symbols('C')"
   ]
  },
  {
   "cell_type": "code",
   "execution_count": 4,
   "metadata": {},
   "outputs": [],
   "source": [
    "sol = sp.solve(\n",
    "    [w_c + w_l + w_s - 1,   # Weights sum to 1\n",
    "     x_c/w_c - x_l/w_l*v*C, # Long token price\n",
    "     x_c/w_c - x_s/w_s*(1-v)*C  # Short token price\n",
    "    ]\n",
    "     , [w_c, w_l, w_s])"
   ]
  },
  {
   "cell_type": "code",
   "execution_count": 5,
   "metadata": {},
   "outputs": [
    {
     "data": {
      "text/latex": [
       "$\\displaystyle \\frac{x_{c}}{C v x_{l} - C x_{s} \\left(v - 1\\right) + x_{c}}$"
      ],
      "text/plain": [
       "x_c/(C*v*x_l - C*x_s*(v - 1) + x_c)"
      ]
     },
     "execution_count": 5,
     "metadata": {},
     "output_type": "execute_result"
    }
   ],
   "source": [
    "sol[w_c]"
   ]
  },
  {
   "cell_type": "code",
   "execution_count": 6,
   "metadata": {},
   "outputs": [
    {
     "data": {
      "text/latex": [
       "$\\displaystyle \\frac{C v x_{l}}{C v x_{l} - C x_{s} \\left(v - 1\\right) + x_{c}}$"
      ],
      "text/plain": [
       "C*v*x_l/(C*v*x_l - C*x_s*(v - 1) + x_c)"
      ]
     },
     "execution_count": 6,
     "metadata": {},
     "output_type": "execute_result"
    }
   ],
   "source": [
    "sol[w_l]"
   ]
  },
  {
   "cell_type": "code",
   "execution_count": 7,
   "metadata": {},
   "outputs": [
    {
     "data": {
      "text/latex": [
       "$\\displaystyle - \\frac{C x_{s} \\left(v - 1\\right)}{C v x_{l} - C x_{s} \\left(v - 1\\right) + x_{c}}$"
      ],
      "text/plain": [
       "-C*x_s*(v - 1)/(C*v*x_l - C*x_s*(v - 1) + x_c)"
      ]
     },
     "execution_count": 7,
     "metadata": {},
     "output_type": "execute_result"
    }
   ],
   "source": [
    "sol[w_s]"
   ]
  },
  {
   "cell_type": "code",
   "execution_count": 8,
   "metadata": {},
   "outputs": [
    {
     "data": {
      "text/plain": [
       "{w_c: x_c/(C*v*x_l - C*x_s*(v - 1) + x_c),\n",
       " w_l: C*v*x_l/(C*v*x_l - C*x_s*(v - 1) + x_c),\n",
       " w_s: -C*x_s*(v - 1)/(C*v*x_l - C*x_s*(v - 1) + x_c)}"
      ]
     },
     "execution_count": 8,
     "metadata": {},
     "output_type": "execute_result"
    }
   ],
   "source": [
    "sol"
   ]
  },
  {
   "cell_type": "markdown",
   "metadata": {},
   "source": [
    "Consider now pair balance and difference with $x_l = (x_p + x_d)/2$ and $x_s = (x_p - x_d)/2$ so that we can introduce a budget constraint $x_c + C*x_p = b_c$"
   ]
  },
  {
   "cell_type": "code",
   "execution_count": 10,
   "metadata": {},
   "outputs": [],
   "source": [
    "x_p, x_d = sp.symbols('x_p x_c')\n",
    "subs_dict = {x_l: (x_p + x_d)/2, x_s: (x_p - x_d)/2}"
   ]
  },
  {
   "cell_type": "code",
   "execution_count": 20,
   "metadata": {},
   "outputs": [],
   "source": [
    "b_c = sp.symbols('b_c')\n",
    "budget_subs_dict = {x_c: b_c - C*x_p}"
   ]
  },
  {
   "cell_type": "code",
   "execution_count": 13,
   "metadata": {},
   "outputs": [
    {
     "data": {
      "text/latex": [
       "$\\displaystyle \\frac{2 x_{c}}{2 C v x_{c} - C x_{c} + C x_{p} + 2 x_{c}}$"
      ],
      "text/plain": [
       "2*x_c/(2*C*v*x_c - C*x_c + C*x_p + 2*x_c)"
      ]
     },
     "execution_count": 13,
     "metadata": {},
     "output_type": "execute_result"
    }
   ],
   "source": [
    "sol[w_c].subs(subs_dict).simplify()"
   ]
  },
  {
   "cell_type": "code",
   "execution_count": 14,
   "metadata": {},
   "outputs": [
    {
     "data": {
      "text/latex": [
       "$\\displaystyle \\frac{C v \\left(x_{c} + x_{p}\\right)}{2 C v x_{c} - C x_{c} + C x_{p} + 2 x_{c}}$"
      ],
      "text/plain": [
       "C*v*(x_c + x_p)/(2*C*v*x_c - C*x_c + C*x_p + 2*x_c)"
      ]
     },
     "execution_count": 14,
     "metadata": {},
     "output_type": "execute_result"
    }
   ],
   "source": [
    "sol[w_l].subs(subs_dict).simplify()"
   ]
  },
  {
   "cell_type": "code",
   "execution_count": 18,
   "metadata": {},
   "outputs": [
    {
     "data": {
      "text/latex": [
       "$\\displaystyle \\frac{C \\left(v - 1\\right) \\left(x_{c} - x_{p}\\right)}{C v \\left(x_{c} + x_{p}\\right) + C \\left(v - 1\\right) \\left(x_{c} - x_{p}\\right) + 2 x_{c}}$"
      ],
      "text/plain": [
       "C*(v - 1)*(x_c - x_p)/(C*v*(x_c + x_p) + C*(v - 1)*(x_c - x_p) + 2*x_c)"
      ]
     },
     "execution_count": 18,
     "metadata": {},
     "output_type": "execute_result"
    }
   ],
   "source": [
    "sol[w_s].subs(subs_dict).simplify()"
   ]
  },
  {
   "cell_type": "code",
   "execution_count": 19,
   "metadata": {},
   "outputs": [
    {
     "data": {
      "text/latex": [
       "$\\displaystyle 1$"
      ],
      "text/plain": [
       "1"
      ]
     },
     "execution_count": 19,
     "metadata": {},
     "output_type": "execute_result"
    }
   ],
   "source": [
    "(sol[w_c] + sol[w_l] + sol[w_s]).simplify()"
   ]
  },
  {
   "cell_type": "code",
   "execution_count": 29,
   "metadata": {},
   "outputs": [
    {
     "data": {
      "text/latex": [
       "$\\displaystyle \\frac{2 \\left(- C x_{p} + b_{c}\\right)}{C v \\left(- C x_{p} + b_{c} + x_{p}\\right) - 2 C x_{p} - C \\left(v - 1\\right) \\left(C x_{p} - b_{c} + x_{p}\\right) + 2 b_{c}}$"
      ],
      "text/plain": [
       "2*(-C*x_p + b_c)/(C*v*(-C*x_p + b_c + x_p) - 2*C*x_p - C*(v - 1)*(C*x_p - b_c + x_p) + 2*b_c)"
      ]
     },
     "execution_count": 29,
     "metadata": {},
     "output_type": "execute_result"
    }
   ],
   "source": [
    "sol[w_c].subs(subs_dict).subs(budget_subs_dict).simplify()"
   ]
  },
  {
   "cell_type": "code",
   "execution_count": 26,
   "metadata": {},
   "outputs": [
    {
     "data": {
      "text/latex": [
       "$\\displaystyle - \\frac{2 C b_{c}}{\\left(2 C^{2} v x_{p} - C^{2} x_{p} - 2 C b_{c} v + C b_{c} + C x_{p} - 2 b_{c}\\right)^{2}}$"
      ],
      "text/plain": [
       "-2*C*b_c/(2*C**2*v*x_p - C**2*x_p - 2*C*b_c*v + C*b_c + C*x_p - 2*b_c)**2"
      ]
     },
     "execution_count": 26,
     "metadata": {},
     "output_type": "execute_result"
    }
   ],
   "source": [
    "sol[w_c].subs(subs_dict).subs(budget_subs_dict).simplify().diff(x_p).simplify()"
   ]
  },
  {
   "cell_type": "code",
   "execution_count": null,
   "metadata": {},
   "outputs": [],
   "source": []
  }
 ],
 "metadata": {
  "kernelspec": {
   "display_name": "Python 3",
   "language": "python",
   "name": "python3"
  },
  "language_info": {
   "codemirror_mode": {
    "name": "ipython",
    "version": 3
   },
   "file_extension": ".py",
   "mimetype": "text/x-python",
   "name": "python",
   "nbconvert_exporter": "python",
   "pygments_lexer": "ipython3",
   "version": "3.7.5"
  }
 },
 "nbformat": 4,
 "nbformat_minor": 4
}
